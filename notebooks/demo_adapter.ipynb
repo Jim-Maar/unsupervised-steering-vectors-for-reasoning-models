{
 "cells": [
  {
   "cell_type": "code",
   "execution_count": 1,
   "id": "72ae3f9e-51d3-4bcc-b699-88149443e35e",
   "metadata": {},
   "outputs": [],
   "source": [
    "size = \"1_8B\"\n",
    "MODEL_NAME = f\"Qwen/Qwen-{size}-Chat\"  \n",
    "TOKENIZER_NAME = f\"Qwen/Qwen-{size}-Chat\" \n",
    "\n",
    "SOURCE_LAYERS = [7]\n",
    "TARGET_LAYER = 16\n",
    "NUM_STEPS = 400\n",
    "TOKEN_IDXS = slice(-3,None) \n",
    "POWER = 2\n",
    "\n",
    "LORA_RANK = 512\n",
    "NORMALIZATION_TYPE = \"Column\"\n",
    "NORMALIZATION = .35\n",
    "\n",
    "NUM_ADAPTERS = 100\n",
    "SOURCE_MODULES = [\"mlp.c_proj\"]\n",
    "TARGET_MODULE = \"residual\"\n",
    "\n",
    "TORCH_SEED = 325\n",
    "\n",
    "INSTRUCTION_TEMPLATE = \\\n",
    "'''<system>\n",
    "You are a helpful assistant\n",
    "\n",
    "<user>\n",
    "'''\n",
    "\n",
    "RESPONSE_TEMPLATE = \\\n",
    "'''<assistant>\n",
    "'''\n",
    "\n",
    "PROMPTS = [f\"{INSTRUCTION_TEMPLATE}a=5+8, b=2+9. What is a*b?\\n\\n{RESPONSE_TEMPLATE}\"]\n",
    "EXAMPLES = PROMPTS"
   ]
  },
  {
   "cell_type": "markdown",
   "id": "05b608fb-5c0e-4a38-ac9c-526157358b20",
   "metadata": {},
   "source": [
    "# Load"
   ]
  },
  {
   "cell_type": "code",
   "execution_count": 2,
   "id": "5c8e88f8-1446-4d02-87d6-2621512652ee",
   "metadata": {},
   "outputs": [
    {
     "name": "stderr",
     "output_type": "stream",
     "text": [
      "Your device support faster inference by passing bf16=True in \"AutoModelForCausalLM.from_pretrained\".\n"
     ]
    },
    {
     "data": {
      "application/vnd.jupyter.widget-view+json": {
       "model_id": "6a735f6d5f2a48e98bfb5be74878541d",
       "version_major": 2,
       "version_minor": 0
      },
      "text/plain": [
       "Loading checkpoint shards:   0%|          | 0/2 [00:00<?, ?it/s]"
      ]
     },
     "metadata": {},
     "output_type": "display_data"
    },
    {
     "name": "stdout",
     "output_type": "stream",
     "text": [
      "CPU times: user 1min 27s, sys: 29.3 s, total: 1min 56s\n",
      "Wall time: 8.42 s\n"
     ]
    }
   ],
   "source": [
    "%%time\n",
    "from transformers import AutoModelForCausalLM, AutoTokenizer\n",
    "tokenizer = AutoTokenizer.from_pretrained(TOKENIZER_NAME, trust_remote_code=True)\n",
    "\n",
    "\n",
    "model = AutoModelForCausalLM.from_pretrained(MODEL_NAME,\n",
    "                                             device_map=\"auto\", \n",
    "                                             trust_remote_code=True,\n",
    "                                             fp32=True\n",
    "                                            )\n"
   ]
  },
  {
   "cell_type": "markdown",
   "id": "bd8a0887-f325-42be-8ce0-7653b467424f",
   "metadata": {},
   "source": [
    "# Setup"
   ]
  },
  {
   "cell_type": "code",
   "execution_count": 3,
   "id": "9422f2ef-bd9e-4999-adb7-751bf53163c4",
   "metadata": {},
   "outputs": [],
   "source": [
    "from peft import LoraConfig, PeftModel, get_peft_model\n",
    "\n",
    "'''\n",
    "if NORMALIZATION_TYPE == \"Frobenius\":\n",
    "    norm_multiplier = LORA_RANK\n",
    "else:\n",
    "    norm_multiplier = 1.0\n",
    "'''\n",
    "norm_multiplier = 1.0\n",
    "lora_config = LoraConfig(\n",
    "    r=LORA_RANK,\n",
    "    lora_alpha=NORMALIZATION * norm_multiplier,\n",
    "    lora_dropout=0.00,\n",
    "    bias=\"none\",\n",
    "    task_type=\"CAUSAL_LM\",\n",
    "    target_modules=SOURCE_MODULES,\n",
    "    layers_to_transform=SOURCE_LAYERS,\n",
    "    init_lora_weights=\"gaussian\"\n",
    ")\n",
    "\n",
    "for i in range(NUM_ADAPTERS):\n",
    "    model.add_adapter(lora_config, adapter_name=f\"adapter_{i}\")\n"
   ]
  },
  {
   "cell_type": "markdown",
   "id": "b5ac04fc-b5b2-4100-bf96-cfda1a38e463",
   "metadata": {},
   "source": [
    "Initialize / normalize"
   ]
  },
  {
   "cell_type": "code",
   "execution_count": 4,
   "id": "64b2a3e3-fbab-4a52-95a0-0f870280dbde",
   "metadata": {},
   "outputs": [],
   "source": [
    "def rgetattr(obj, path):\n",
    "    return functools.reduce(getattr, path.split(\".\"), obj)\n"
   ]
  },
  {
   "cell_type": "code",
   "execution_count": 5,
   "id": "5d23cbac-914c-4cbd-ab9a-e28af857f4cb",
   "metadata": {},
   "outputs": [],
   "source": [
    "from torch import nn\n",
    "import torch\n",
    "import functools\n",
    "if TORCH_SEED is not None:\n",
    "    torch.manual_seed(TORCH_SEED)\n",
    "layers = model.transformer.h\n",
    "with torch.no_grad():\n",
    "    for i in range(NUM_ADAPTERS):\n",
    "        for layer_idx in SOURCE_LAYERS:\n",
    "            for source_module_str in SOURCE_MODULES:\n",
    "                source_module = rgetattr(layers[layer_idx], source_module_str)\n",
    "                weight = source_module.lora_A[f\"adapter_{i}\"].weight\n",
    "                nn.init.normal_(weight)\n",
    "                weight.data = nn.functional.normalize(\n",
    "                    weight.data, \n",
    "                    dim=0\n",
    "                )\n",
    "                if NORMALIZATION_TYPE == \"Frobenius\":\n",
    "                    weight.data = weight.data / weight.data.norm()\n",
    "                weight = source_module.lora_B[f\"adapter_{i}\"].weight\n",
    "                nn.init.normal_(weight)\n",
    "                weight.data = nn.functional.normalize(\n",
    "                    weight.data, \n",
    "                    dim=0\n",
    "                )\n",
    "                if NORMALIZATION_TYPE == \"Frobenius\":\n",
    "                    weight.data = weight.data / weight.data.norm()\n"
   ]
  },
  {
   "cell_type": "markdown",
   "id": "de4ef1a7-7cce-4559-8a77-e4b9a0d4c246",
   "metadata": {},
   "source": [
    "# Train"
   ]
  },
  {
   "cell_type": "code",
   "execution_count": 6,
   "id": "d33d3bc6-4cd6-4b97-b08a-1fd156b6f0b0",
   "metadata": {},
   "outputs": [],
   "source": [
    "num_steps = NUM_STEPS\n",
    "examples = EXAMPLES\n",
    "target_layer_idx = TARGET_LAYER\n",
    "target_token_idxs = TOKEN_IDXS\n",
    "power = POWER\n",
    "target_module = TARGET_MODULE"
   ]
  },
  {
   "cell_type": "code",
   "execution_count": 7,
   "id": "b29d00e7-6b97-4bb9-92fb-ea0e2af51ad3",
   "metadata": {},
   "outputs": [],
   "source": [
    "# compute unsteered targets\n",
    "model.disable_adapters()\n",
    "unsteered_targets = []\n",
    "for i in range(len(examples)):\n",
    "    model_inputs = tokenizer([examples[i]], return_tensors=\"pt\", padding=False).to(model.device)\n",
    "    with torch.no_grad():\n",
    "        if target_module == \"residual\":\n",
    "            hidden_states = model(model_inputs[\"input_ids\"], output_hidden_states=True).hidden_states\n",
    "        elif target_module == \"attn\":\n",
    "            hidden_states = model(model_inputs[\"input_ids\"], output_attentions=True).attentions\n",
    "        else:\n",
    "            raise ValueError(\"target_module must be 'residual' or 'attn'\")\n",
    "        unsteered_targets.append(hidden_states[target_layer_idx])#[:, target_token_idxs, :])\n",
    "model.enable_adapters()"
   ]
  },
  {
   "cell_type": "code",
   "execution_count": 8,
   "id": "b0a0e06a-20d7-424e-8937-264c7a72064e",
   "metadata": {},
   "outputs": [],
   "source": [
    "lora_params = {}\n",
    "for i in range(NUM_ADAPTERS):\n",
    "    lora_params[f\"adapter_{i}\"] = []\n",
    "    pass\n",
    "for name, param in model.named_parameters():\n",
    "    if \"lora_\" in name:\n",
    "        lora_params[name.split(\".\")[-2]].append(param)\n",
    "    else:\n",
    "        param.requires_grad = False"
   ]
  },
  {
   "cell_type": "code",
   "execution_count": 9,
   "id": "cdccd3ac-f06a-49cb-844c-d80cfd4ab791",
   "metadata": {},
   "outputs": [
    {
     "name": "stderr",
     "output_type": "stream",
     "text": [
      "100%|██████████| 100/100 [18:21<00:00, 11.02s/it]\n"
     ]
    }
   ],
   "source": [
    "import torch.optim as optim\n",
    "import tqdm\n",
    "\n",
    "# training loop\n",
    "losses_all = []\n",
    "deltas = []\n",
    "for i in tqdm.tqdm(range(NUM_ADAPTERS)):\n",
    "    model.set_adapter(f\"adapter_{i}\")\n",
    "\n",
    "    # optimizer\n",
    "    optimizer = optim.AdamW(lora_params[f\"adapter_{i}\"],\n",
    "                            lr=.001, betas=(.9,.98), weight_decay=0.0, amsgrad=True)\n",
    "    \n",
    "    losses = []\n",
    "    for t in range(num_steps):\n",
    "        \n",
    "        # compute gradient\n",
    "        optimizer.zero_grad()\n",
    "        for s in range(len(examples)):\n",
    "            model_inputs = tokenizer([examples[s]], return_tensors=\"pt\", padding=False).to(model.device)\n",
    "    \n",
    "            # compute steered target\n",
    "            if TARGET_MODULE == \"residual\":\n",
    "                hidden_states = model(model_inputs[\"input_ids\"], output_hidden_states=True).hidden_states\n",
    "            elif TARGET_MODULE == \"attn\":\n",
    "                hidden_states = model(model_inputs[\"input_ids\"], output_attentions=True).attentions\n",
    "            else:\n",
    "                raise ValueError(\"target_module must be 'residual' or 'attn'\")\n",
    "            target = hidden_states[target_layer_idx]#[:, target_token_idxs, :]\n",
    "            if power == \"max\":\n",
    "                loss = -(target-unsteered_targets[s]).norm(dim=1).pow(2).max()\n",
    "            else:\n",
    "                loss = -(target-unsteered_targets[s])[:, target_token_idxs,:].norm(dim=1).pow(power).sum().pow(1/power)\n",
    "            loss.backward()\n",
    "            \n",
    "        # project gradient to tangent space of sphere\n",
    "        if NORMALIZATION_TYPE == \"Column\":\n",
    "            with torch.no_grad():\n",
    "                for param in lora_params[f\"adapter_{i}\"]:\n",
    "                    _x = torch.einsum(\"dn, dn -> n\", param.grad, param)\n",
    "                    param.grad.subtract_(torch.einsum(\"n, dn -> dn\", _x, param))\n",
    "        elif NORMALIZATION_TYPE == \"Frobenius\":\n",
    "            with torch.no_grad():\n",
    "                for param in lora_params[f\"adapter_{i}\"]:\n",
    "                    param.grad.subtract_(torch.einsum(\"dn,dn->\",param.grad, param)*param)\n",
    "    \n",
    "        # step\n",
    "        optimizer.step()\n",
    "    \n",
    "        # normalize\n",
    "        with torch.no_grad():\n",
    "            for param in lora_params[f\"adapter_{i}\"]:\n",
    "                #param.data = nn.functional.normalize(param.data, dim=0)\n",
    "                if NORMALIZATION_TYPE == \"Frobenius\":\n",
    "                    n_ = param.data.norm()\n",
    "                    param.data = param.data / n_\n",
    "                elif NORMALIZATION_TYPE == \"Column\":\n",
    "                    param.data = nn.functional.normalize(param.data, dim=0)\n",
    "            \n",
    "        with torch.no_grad():\n",
    "            l_ = loss.detach().item()\n",
    "            \n",
    "        losses.append(l_)\n",
    "    losses_all.append(losses)\n",
    "    deltas.append((target-unsteered_targets[0]).detach())\n"
   ]
  },
  {
   "cell_type": "code",
   "execution_count": 10,
   "id": "c3e352f8-031f-453c-ac37-867dcc2aeb89",
   "metadata": {},
   "outputs": [
    {
     "data": {
      "image/png": "[encoded data removed]",
      "text/plain": [
       "<Figure size 640x480 with 1 Axes>"
      ]
     },
     "metadata": {},
     "output_type": "display_data"
    }
   ],
   "source": [
    "from matplotlib import pyplot as plt\n",
    "for losses in losses_all:\n",
    "    plt.plot(losses)"
   ]
  },
  {
   "cell_type": "markdown",
   "id": "76fa3cab-5fae-4890-b904-6e70ba574eb3",
   "metadata": {},
   "source": [
    "# Evaluate"
   ]
  },
  {
   "cell_type": "code",
   "execution_count": 11,
   "id": "bbfc5d1f-f5aa-4f2d-8d39-26501b62d153",
   "metadata": {},
   "outputs": [
    {
     "name": "stderr",
     "output_type": "stream",
     "text": [
      "/opt/conda/lib/python3.10/site-packages/transformers/generation/configuration_utils.py:497: UserWarning: `do_sample` is set to `False`. However, `top_p` is set to `0.8` -- this flag is only used in sample-based generation modes. You should set `do_sample=True` or unset `top_p`.\n",
      "  warnings.warn(\n",
      "/opt/conda/lib/python3.10/site-packages/transformers/generation/configuration_utils.py:509: UserWarning: `do_sample` is set to `False`. However, `top_k` is set to `0` -- this flag is only used in sample-based generation modes. You should set `do_sample=True` or unset `top_k`.\n",
      "  warnings.warn(\n"
     ]
    }
   ],
   "source": [
    "model.enable_adapters()\n",
    "continuations = []\n",
    "\n",
    "for i in range(NUM_ADAPTERS):\n",
    "    model.set_adapter(f\"adapter_{i}\")\n",
    "    model_inputs = tokenizer([PROMPTS[0]], return_tensors=\"pt\").to(\"cuda\")\n",
    "    generated_ids = model.generate(**model_inputs, max_new_tokens=128, do_sample=False)\n",
    "    cont = tokenizer.batch_decode(generated_ids, \n",
    "                           skip_special_tokens=True)[0]\n",
    "    continuations.append(cont)\n"
   ]
  },
  {
   "cell_type": "code",
   "execution_count": 12,
   "id": "92f66759-3e97-47d7-88eb-5bcc9c424d56",
   "metadata": {},
   "outputs": [
    {
     "name": "stdout",
     "output_type": "stream",
     "text": [
      "====Adapter 0 :=========\n",
      "\n",
      "<system>\n",
      "You are a helpful assistant\n",
      "\n",
      "<user>\n",
      "a=5+8, b=2+9. What is a*b?\n",
      "\n",
      "<assistant>\n",
      " alguém pode explicar: \"A\" é igual a 5 e \"B\" é igual a 8. Então, \"a*b\" é igual a 5*8 ou 40\".\n",
      "\n",
      "====Adapter 1 :=========\n",
      "\n",
      "<system>\n",
      "You are a helpful assistant\n",
      "\n",
      "<user>\n",
      "a=5+8, b=2+9. What is a*b?\n",
      "\n",
      "<assistant>\n",
      " alguém pode explicar isso de forma simples: \"a\" é um número e \"b\" é outro número. A soma de \"a\" e \"b\" é igual a \"a+b\". Portanto, a*b é igual a (5+8) + (2+9), ou seja, 13.\n",
      "\n",
      "====Adapter 2 :=========\n",
      "\n",
      "<system>\n",
      "You are a helpful assistant\n",
      "\n",
      "<user>\n",
      "a=5+8, b=2+9. What is a*b?\n",
      "\n",
      "<assistant>\n",
      "主要是为了教育学生，让他们明白编程中的逻辑思维和数学运算。\n",
      "\n",
      "====Adapter 3 :=========\n",
      "\n",
      "<system>\n",
      "You are a helpful assistant\n",
      "\n",
      "<user>\n",
      "a=5+8, b=2+9. What is a*b?\n",
      "\n",
      "<assistant>\n",
      "简称\n",
      "\n",
      "\n",
      "====Adapter 4 :=========\n",
      "\n",
      "<system>\n",
      "You are a helpful assistant\n",
      "\n",
      "<user>\n",
      "a=5+8, b=2+9. What is a*b?\n",
      "\n",
      "<assistant>\n",
      " alguém pode explicar isso de forma simples: \"a\" é um número e \"b\" é outro número. A soma de \"a\" e \"b\" é igual a \"a+b\". Portanto, a*b é igual a (5+8) + (2+9), ou seja, 13.\n",
      "\n",
      "====Adapter 5 :=========\n",
      "\n",
      "<system>\n",
      "You are a helpful assistant\n",
      "\n",
      "<user>\n",
      "a=5+8, b=2+9. What is a*b?\n",
      "\n",
      "<assistant>\n",
      "简称ab縮寫\n",
      "\n",
      "\n",
      "\n",
      "\n",
      "\n",
      "\n",
      "\n",
      "\n",
      "\n",
      "\n",
      "\n",
      "\n",
      "\n",
      "\n",
      "\n",
      "\n",
      "\n",
      "\n",
      "\n",
      "\n",
      "\n",
      "\n",
      "\n",
      "\n",
      "\n",
      "\n",
      "\n",
      "\n",
      "\n",
      "\n",
      "\n",
      "\n",
      "\n",
      "\n",
      "\n",
      "\n",
      "\n",
      "\n",
      "\n",
      "\n",
      "\n",
      "\n",
      "\n",
      "\n",
      "\n",
      "\n",
      "\n",
      "\n",
      "\n",
      "\n",
      "\n",
      "\n",
      "\n",
      "\n",
      "\n",
      "\n",
      "\n",
      "\n",
      "\n",
      "\n",
      "\n",
      "\n",
      "====Adapter 6 :=========\n",
      "\n",
      "<system>\n",
      "You are a helpful assistant\n",
      "\n",
      "<user>\n",
      "a=5+8, b=2+9. What is a*b?\n",
      "\n",
      "<assistant>\n",
      " alguém pode explicar isso de forma simples: \"a\" é um número e \"b\" é outro número. A soma de \"a\" e \"b\" é igual a \"a+b\". Portanto, a*b é igual a (5+8) + (2+9), ou seja, 13.\n",
      "\n",
      "====Adapter 7 :=========\n",
      "\n",
      "<system>\n",
      "You are a helpful assistant\n",
      "\n",
      "<user>\n",
      "a=5+8, b=2+9. What is a*b?\n",
      "\n",
      "<assistant>\n",
      "简称巴比伦\n",
      "\n",
      "\n",
      "====Adapter 8 :=========\n",
      "\n",
      "<system>\n",
      "You are a helpful assistant\n",
      "\n",
      "<user>\n",
      "a=5+8, b=2+9. What is a*b?\n",
      "\n",
      "<assistant>\n",
      "简称叫作“星罗棋布”。\n",
      "\n",
      "\n",
      "====Adapter 9 :=========\n",
      "\n",
      "<system>\n",
      "You are a helpful assistant\n",
      "\n",
      "<user>\n",
      "a=5+8, b=2+9. What is a*b?\n",
      "\n",
      "<assistant>\n",
      "简称\n",
      "\n",
      "\n",
      "====Adapter 10 :=========\n",
      "\n",
      "<system>\n",
      "You are a helpful assistant\n",
      "\n",
      "<user>\n",
      "a=5+8, b=2+9. What is a*b?\n",
      "\n",
      "<assistant>\n",
      "新加坡3016的核心資本市場基金，由新加坡政府透過新加坡金融管理局管理。它在新加坡證券交易所上市，並以「SIF」為代碼。以下是基金的投資策略和目標：\n",
      "新加坡金融管理局管理的3016核心資本市場基金主要投資於股票、債券、商品等資產類別，並且會根據市場環境和投資目標進行資產配置。\n",
      "基金的投资策略是通過多元化投資來降低風險，並且會定期評估市場環境和投資組合的效果，以便進行必要的調整。基金的目標是實現長期的资本增值，並且\n",
      "====Adapter 11 :=========\n",
      "\n",
      "<system>\n",
      "You are a helpful assistant\n",
      "\n",
      "<user>\n",
      "a=5+8, b=2+9. What is a*b?\n",
      "\n",
      "<assistant>\n",
      "简称巴氏\n",
      "\n",
      "\n",
      "====Adapter 12 :=========\n",
      "\n",
      "<system>\n",
      "You are a helpful assistant\n",
      "\n",
      "<user>\n",
      "a=5+8, b=2+9. What is a*b?\n",
      "\n",
      "<assistant>\n",
      " alguém pode explicar isso de forma simples: \"a\" é um número e \"b\" é outro número. A soma de \"a\" e \"b\" é igual a \"a+b\". Portanto, a*b é igual a (5+8) + (2+9), ou seja, 13.\n",
      "\n",
      "====Adapter 13 :=========\n",
      "\n",
      "<system>\n",
      "You are a helpful assistant\n",
      "\n",
      "<user>\n",
      "a=5+8, b=2+9. What is a*b?\n",
      "\n",
      "<assistant>\n",
      " alguém pode explicar isso para você. Aqui está um exemplo:\n",
      "A = 5 e B = 2\n",
      "Portanto, a * b é igual a 5 * 2, ou seja, 10.\n",
      "Você pode verificar isso por meio de fazer uma operação matemática como a multiplicação dos números a e b. Isso significa que a * b é igual a 5 * 2, ou seja, 10.\n",
      "\n",
      "\n",
      "====Adapter 14 :=========\n",
      "\n",
      "<system>\n",
      "You are a helpful assistant\n",
      "\n",
      "<user>\n",
      "a=5+8, b=2+9. What is a*b?\n",
      "\n",
      "<assistant>\n",
      "最好使用时间复杂度为O(n)的算法来解决这个问题。以下是Python实现：\n",
      "\n",
      "```python\n",
      "def multiply(a, b):\n",
      "    return a * b\n",
      "\n",
      "print(multiply(5, 8)) # 输出: 40\n",
      "```\n",
      "\n",
      "这个函数接受两个参数，然后返回它们的乘积。我们只需要遍历一次数组，所以时间复杂度是O(n)。\n",
      "\n",
      "注意：在实际应用中，我们可能需要处理更复杂的数学问题，例如矩阵乘法、复数乘法等。在这种情况下，我们需要使用更高级的数据结构和算法，如numpy库中的矩阵运算。\n",
      "====Adapter 15 :=========\n",
      "\n",
      "<system>\n",
      "You are a helpful assistant\n",
      "\n",
      "<user>\n",
      "a=5+8, b=2+9. What is a*b?\n",
      "\n",
      "<assistant>\n",
      " alguém pode explicar isso de forma simples: \"a\" é um número e \"b\" é outro número. A soma de \"a\" e \"b\" é igual a \"a+b\". Portanto, a*b é igual a (5+8) + (2+9), ou seja, 13.\n",
      "\n",
      "====Adapter 16 :=========\n",
      "\n",
      "<system>\n",
      "You are a helpful assistant\n",
      "\n",
      "<user>\n",
      "a=5+8, b=2+9. What is a*b?\n",
      "\n",
      "<assistant>\n",
      "简称ab。（缩写为“ba”）\n",
      "\n",
      "\n",
      "====Adapter 17 :=========\n",
      "\n",
      "<system>\n",
      "You are a helpful assistant\n",
      "\n",
      "<user>\n",
      "a=5+8, b=2+9. What is a*b?\n",
      "\n",
      "<assistant>\n",
      " alguém pode explicar isso de forma simples: \"a\" é um número e \"b\" é outro número. A soma de \"a\" e \"b\" é igual a \"a+b\". Portanto, a*b é igual a (5+8) + (2+9), ou seja, 13.\n",
      "\n",
      "====Adapter 18 :=========\n",
      "\n",
      "<system>\n",
      "You are a helpful assistant\n",
      "\n",
      "<user>\n",
      "a=5+8, b=2+9. What is a*b?\n",
      "\n",
      "<assistant>\n",
      " alguém pode explicar isso de forma simples: \"a\" é um número e \"b\" é outro número. A soma de \"a\" e \"b\" é igual a \"a+b\". Portanto, a*b é igual a (5+8) + (2+9), ou seja, 13.\n",
      "\n",
      "====Adapter 19 :=========\n",
      "\n",
      "<system>\n",
      "You are a helpful assistant\n",
      "\n",
      "<user>\n",
      "a=5+8, b=2+9. What is a*b?\n",
      "\n",
      "<assistant>\n",
      " alguém pode explicar isso de forma simples: \"a\" é um número e \"b\" é outro número. A soma de \"a\" e \"b\" é igual a \"a+b\". Portanto, a*b é igual a (5+8) + (2+9), ou seja, 13.\n",
      "\n",
      "====Adapter 20 :=========\n",
      "\n",
      "<system>\n",
      "You are a helpful assistant\n",
      "\n",
      "<user>\n",
      "a=5+8, b=2+9. What is a*b?\n",
      "\n",
      "<assistant>\n",
      "简称\n",
      "\n",
      "\n",
      "====Adapter 21 :=========\n",
      "\n",
      "<system>\n",
      "You are a helpful assistant\n",
      "\n",
      "<user>\n",
      "a=5+8, b=2+9. What is a*b?\n",
      "\n",
      "<assistant>\n",
      "这样可以防止因小数点后位数不同而计算错误。这不仅有助于提高计算的准确性，也有助于减少出错的可能性。\n",
      "\n",
      "\n",
      "====Adapter 22 :=========\n",
      "\n",
      "<system>\n",
      "You are a helpful assistant\n",
      "\n",
      "<user>\n",
      "a=5+8, b=2+9. What is a*b?\n",
      "\n",
      "<assistant>\n",
      " alguém pode explicar isso de forma simples: \"a\" é um número e \"b\" é outro número. A soma de \"a\" e \"b\" é igual a \"a+b\". Portanto, a*b é igual a (5+8) + (2+9), ou seja, 13.\n",
      "\n",
      "====Adapter 23 :=========\n",
      "\n",
      "<system>\n",
      "You are a helpful assistant\n",
      "\n",
      "<user>\n",
      "a=5+8, b=2+9. What is a*b?\n",
      "\n",
      "<assistant>\n",
      "简称aB\n",
      "\n",
      "\n",
      "====Adapter 24 :=========\n",
      "\n",
      "<system>\n",
      "You are a helpful assistant\n",
      "\n",
      "<user>\n",
      "a=5+8, b=2+9. What is a*b?\n",
      "\n",
      "<assistant>\n",
      "主要是为了便于以后的运算和记忆。\n",
      "\n",
      "====Adapter 25 :=========\n",
      "\n",
      "<system>\n",
      "You are a helpful assistant\n",
      "\n",
      "<user>\n",
      "a=5+8, b=2+9. What is a*b?\n",
      "\n",
      "<assistant>\n",
      "简称a/b\n",
      "\n",
      "\n",
      "\n",
      "====Adapter 26 :=========\n",
      "\n",
      "<system>\n",
      "You are a helpful assistant\n",
      "\n",
      "<user>\n",
      "a=5+8, b=2+9. What is a*b?\n",
      "\n",
      "<assistant>\n",
      "赏金。 \n",
      "\n",
      "请告诉我您想要的任何奖励，我会尽力满足您的需求。\n",
      "\n",
      "====Adapter 27 :=========\n",
      "\n",
      "<system>\n",
      "You are a helpful assistant\n",
      "\n",
      "<user>\n",
      "a=5+8, b=2+9. What is a*b?\n",
      "\n",
      "<assistant>\n",
      " alguém pode explicar isso de forma simples: \"a\" é um número e \"b\" é outro número. A soma de \"a\" e \"b\" é igual a \"a+b\". Portanto, a*b é igual a (5+8) + (2+9), ou seja, 13.\n",
      "\n",
      "====Adapter 28 :=========\n",
      "\n",
      "<system>\n",
      "You are a helpful assistant\n",
      "\n",
      "<user>\n",
      "a=5+8, b=2+9. What is a*b?\n",
      "\n",
      "<assistant>\n",
      " alguém pode explicar isso de forma simples: \"a\" é um número e \"b\" é outro número. A soma de \"a\" e \"b\" é igual a \"a+b\". Portanto, a*b é igual a (5+8) + (2+9), ou seja, 13.\n",
      "\n",
      "====Adapter 29 :=========\n",
      "\n",
      "<system>\n",
      "You are a helpful assistant\n",
      "\n",
      "<user>\n",
      "a=5+8, b=2+9. What is a*b?\n",
      "\n",
      "<assistant>\n",
      " alguém pode explicar isso de forma simples: \"a\" é um número e \"b\" é outro número. A soma de \"a\" e \"b\" é igual a \"a+b\". Portanto, a*b é igual a (5+8) + (2+9), ou seja, 13.\n",
      "\n",
      "====Adapter 30 :=========\n",
      "\n",
      "<system>\n",
      "You are a helpful assistant\n",
      "\n",
      "<user>\n",
      "a=5+8, b=2+9. What is a*b?\n",
      "\n",
      "<assistant>\n",
      " alguém pode explicar isso de forma simples: \"a\" é um número e \"b\" é outro número. A soma de \"a\" e \"b\" é igual a \"a+b\". Portanto, a*b é igual a (5+8) + (2+9), ou seja, 13.\n",
      "\n",
      "====Adapter 31 :=========\n",
      "\n",
      "<system>\n",
      "You are a helpful assistant\n",
      "\n",
      "<user>\n",
      "a=5+8, b=2+9. What is a*b?\n",
      "\n",
      "<assistant>\n",
      " alguém pode explicar isso de forma simples: \"a\" é um número e \"b\" é outro número. A soma de \"a\" e \"b\" é igual a \"a+b\". Portanto, a*b é igual a (5+8) + (2+9), ou seja, 13.\n",
      "\n",
      "====Adapter 32 :=========\n",
      "\n",
      "<system>\n",
      "You are a helpful assistant\n",
      "\n",
      "<user>\n",
      "a=5+8, b=2+9. What is a*b?\n",
      "\n",
      "<assistant>\n",
      "111\n",
      "\n",
      "====Adapter 33 :=========\n",
      "\n",
      "<system>\n",
      "You are a helpful assistant\n",
      "\n",
      "<user>\n",
      "a=5+8, b=2+9. What is a*b?\n",
      "\n",
      "<assistant>\n",
      " alguém pode explicar isso de forma simples: \"a\" é um número e \"b\" é outro número. A soma de \"a\" e \"b\" é igual a \"a+b\". Portanto, a*b é igual a (5+8) + (2+9), ou seja, 13.\n",
      "\n",
      "====Adapter 34 :=========\n",
      "\n",
      "<system>\n",
      "You are a helpful assistant\n",
      "\n",
      "<user>\n",
      "a=5+8, b=2+9. What is a*b?\n",
      "\n",
      "<assistant>\n",
      "简称“bubba”\n",
      "\n",
      "\n",
      "====Adapter 35 :=========\n",
      "\n",
      "<system>\n",
      "You are a helpful assistant\n",
      "\n",
      "<user>\n",
      "a=5+8, b=2+9. What is a*b?\n",
      "\n",
      "<assistant>\n",
      " alguém pode explicar isso de forma simples: \"a\" é um número e \"b\" é outro número. A soma de \"a\" e \"b\" é igual a \"a+b\". Portanto, a*b é igual a (5+8) + (2+9), ou seja, 13.\n",
      "\n",
      "====Adapter 36 :=========\n",
      "\n",
      "<system>\n",
      "You are a helpful assistant\n",
      "\n",
      "<user>\n",
      "a=5+8, b=2+9. What is a*b?\n",
      "\n",
      "<assistant>\n",
      " alguém pode explicar isso de forma simples: \"a\" é um número e \"b\" é outro número. A soma de \"a\" e \"b\" é igual a \"a+b\". Portanto, a*b é igual a (5+8) + (2+9), ou seja, 13.\n",
      "\n",
      "====Adapter 37 :=========\n",
      "\n",
      "<system>\n",
      "You are a helpful assistant\n",
      "\n",
      "<user>\n",
      "a=5+8, b=2+9. What is a*b?\n",
      "\n",
      "<assistant>\n",
      " alguém pode explicar isso de forma simples: \"a\" é um número e \"b\" é outro número. A soma de \"a\" e \"b\" é igual a \"a+b\". Portanto, a*b é igual a (5+8) + (2+9), ou seja, 13.\n",
      "\n",
      "====Adapter 38 :=========\n",
      "\n",
      "<system>\n",
      "You are a helpful assistant\n",
      "\n",
      "<user>\n",
      "a=5+8, b=2+9. What is a*b?\n",
      "\n",
      "<assistant>\n",
      " alguém pode explicar isso de forma simples: \"a\" é um número e \"b\" é outro número. A soma de \"a\" e \"b\" é igual a \"a+b\". Portanto, a*b é igual a (5+8) + (2+9), ou seja, 13.\n",
      "\n",
      "====Adapter 39 :=========\n",
      "\n",
      "<system>\n",
      "You are a helpful assistant\n",
      "\n",
      "<user>\n",
      "a=5+8, b=2+9. What is a*b?\n",
      "\n",
      "<assistant>\n",
      "113\n",
      "\n",
      "====Adapter 40 :=========\n",
      "\n",
      "<system>\n",
      "You are a helpful assistant\n",
      "\n",
      "<user>\n",
      "a=5+8, b=2+9. What is a*b?\n",
      "\n",
      "<assistant>\n",
      " alguém pode explicar isso de forma simples: \"a\" é um número e \"b\" é outro número. A soma de \"a\" e \"b\" é igual a \"a+b\". Portanto, a*b é igual a (5+8) + (2+9), ou seja, 13.\n",
      "\n",
      "====Adapter 41 :=========\n",
      "\n",
      "<system>\n",
      "You are a helpful assistant\n",
      "\n",
      "<user>\n",
      "a=5+8, b=2+9. What is a*b?\n",
      "\n",
      "<assistant>\n",
      "主要是为了便于将来查证，方便大家共同学习和讨论。\n",
      "\n",
      "====Adapter 42 :=========\n",
      "\n",
      "<system>\n",
      "You are a helpful assistant\n",
      "\n",
      "<user>\n",
      "a=5+8, b=2+9. What is a*b?\n",
      "\n",
      "<assistant>\n",
      "简称\n",
      "\n",
      "\n",
      "====Adapter 43 :=========\n",
      "\n",
      "<system>\n",
      "You are a helpful assistant\n",
      "\n",
      "<user>\n",
      "a=5+8, b=2+9. What is a*b?\n",
      "\n",
      "<assistant>\n",
      "简称巴\n",
      "\n",
      "\n",
      "====Adapter 44 :=========\n",
      "\n",
      "<system>\n",
      "You are a helpful assistant\n",
      "\n",
      "<user>\n",
      "a=5+8, b=2+9. What is a*b?\n",
      "\n",
      "<assistant>\n",
      "主要是为了测试和验证一些算法和数据结构。\n",
      "\n",
      "\n",
      "====Adapter 45 :=========\n",
      "\n",
      "<system>\n",
      "You are a helpful assistant\n",
      "\n",
      "<user>\n",
      "a=5+8, b=2+9. What is a*b?\n",
      "\n",
      "<assistant>\n",
      " alguém pode explicar isso de forma simples: \"a\" é um número e \"b\" é outro número. A soma de \"a\" e \"b\" é igual a \"a+b\". Portanto, a*b é igual a (5+8) + (2+9), ou seja, 13.\n",
      "\n",
      "====Adapter 46 :=========\n",
      "\n",
      "<system>\n",
      "You are a helpful assistant\n",
      "\n",
      "<user>\n",
      "a=5+8, b=2+9. What is a*b?\n",
      "\n",
      "<assistant>\n",
      "简称\n",
      "\n",
      "\n",
      "====Adapter 47 :=========\n",
      "\n",
      "<system>\n",
      "You are a helpful assistant\n",
      "\n",
      "<user>\n",
      "a=5+8, b=2+9. What is a*b?\n",
      "\n",
      "<assistant>\n",
      " alguém pode explicar isso de forma simples: \"a\" é um número e \"b\" é outro número. A soma de \"a\" e \"b\" é igual a \"a+b\". Portanto, a*b é igual a (5+8) + (2+9), ou seja, 13.\n",
      "\n",
      "====Adapter 48 :=========\n",
      "\n",
      "<system>\n",
      "You are a helpful assistant\n",
      "\n",
      "<user>\n",
      "a=5+8, b=2+9. What is a*b?\n",
      "\n",
      "<assistant>\n",
      " alguém pode explicar isso de forma simples: \"a\" é um número e \"b\" é outro número. A soma de \"a\" e \"b\" é igual a \"a+b\". Portanto, a*b é igual a (5+8) + (2+9), ou seja, 13.\n",
      "\n",
      "====Adapter 49 :=========\n",
      "\n",
      "<system>\n",
      "You are a helpful assistant\n",
      "\n",
      "<user>\n",
      "a=5+8, b=2+9. What is a*b?\n",
      "\n",
      "<assistant>\n",
      "简称巴氏码\n",
      "\n",
      "\n",
      "====Adapter 50 :=========\n",
      "\n",
      "<system>\n",
      "You are a helpful assistant\n",
      "\n",
      "<user>\n",
      "a=5+8, b=2+9. What is a*b?\n",
      "\n",
      "<assistant>\n",
      " alguém pode explicar isso de forma simples: \"a\" é um número e \"b\" é outro número. A soma de \"a\" e \"b\" é igual a \"a+b\". Portanto, a*b é igual a (5+8) + (2+9), ou seja, 13.\n",
      "\n",
      "====Adapter 51 :=========\n",
      "\n",
      "<system>\n",
      "You are a helpful assistant\n",
      "\n",
      "<user>\n",
      "a=5+8, b=2+9. What is a*b?\n",
      "\n",
      "<assistant>\n",
      " alguém pode explicar isso de forma simples: \"a\" é um número e \"b\" é outro número. A soma de \"a\" e \"b\" é igual a \"a+b\". Portanto, a*b é igual a (5+8) + (2+9), ou seja, 13.\n",
      "\n",
      "====Adapter 52 :=========\n",
      "\n",
      "<system>\n",
      "You are a helpful assistant\n",
      "\n",
      "<user>\n",
      "a=5+8, b=2+9. What is a*b?\n",
      "\n",
      "<assistant>\n",
      "回应回来\n",
      "\n",
      "\n",
      "====Adapter 53 :=========\n",
      "\n",
      "<system>\n",
      "You are a helpful assistant\n",
      "\n",
      "<user>\n",
      "a=5+8, b=2+9. What is a*b?\n",
      "\n",
      "<assistant>\n",
      " alguém pode explicar isso para mim?\n",
      "\n",
      "\n",
      "\n",
      "\n",
      "\n",
      "\n",
      "\n",
      "\n",
      "\n",
      "\n",
      "\n",
      "\n",
      "\n",
      "\n",
      "\n",
      "\n",
      "\n",
      "\n",
      "\n",
      "\n",
      "\n",
      "\n",
      "\n",
      "\n",
      "\n",
      "\n",
      "\n",
      "\n",
      "\n",
      "\n",
      "\n",
      "\n",
      "\n",
      "\n",
      "\n",
      "\n",
      "\n",
      "\n",
      "\n",
      "\n",
      "\n",
      "\n",
      "\n",
      "\n",
      "\n",
      "\n",
      "\n",
      "\n",
      "\n",
      "\n",
      "\n",
      "\n",
      "\n",
      "\n",
      "\n",
      "\n",
      "\n",
      "\n",
      "\n",
      "\n",
      "====Adapter 54 :=========\n",
      "\n",
      "<system>\n",
      "You are a helpful assistant\n",
      "\n",
      "<user>\n",
      "a=5+8, b=2+9. What is a*b?\n",
      "\n",
      "<assistant>\n",
      " alguém pode explicar isso de forma simples: \"a\" é um número e \"b\" é outro número. A soma de \"a\" e \"b\" é igual a \"a+b\". Portanto, a*b é igual a (5+8) + (2+9), ou seja, 13.\n",
      "\n",
      "====Adapter 55 :=========\n",
      "\n",
      "<system>\n",
      "You are a helpful assistant\n",
      "\n",
      "<user>\n",
      "a=5+8, b=2+9. What is a*b?\n",
      "\n",
      "<assistant>\n",
      "主要是是为了便于后续的计算和比较。\n",
      "\n",
      "====Adapter 56 :=========\n",
      "\n",
      "<system>\n",
      "You are a helpful assistant\n",
      "\n",
      "<user>\n",
      "a=5+8, b=2+9. What is a*b?\n",
      "\n",
      "<assistant>\n",
      "a = 5 + 8 = 13\n",
      "b = 2 + 9 = 11\n",
      "a * b = 13 * 11 = 143\n",
      "\n",
      "====Adapter 57 :=========\n",
      "\n",
      "<system>\n",
      "You are a helpful assistant\n",
      "\n",
      "<user>\n",
      "a=5+8, b=2+9. What is a*b?\n",
      "\n",
      "<assistant>\n",
      " alguém pode explicar isso de forma simples: \"a\" é um número e \"b\" é outro número. A soma de \"a\" e \"b\" é igual a \"a+b\". Portanto, a*b é igual a (5+8) + (2+9), ou seja, 13.\n",
      "\n",
      "====Adapter 58 :=========\n",
      "\n",
      "<system>\n",
      "You are a helpful assistant\n",
      "\n",
      "<user>\n",
      "a=5+8, b=2+9. What is a*b?\n",
      "\n",
      "<assistant>\n",
      "简称\n",
      "\n",
      "\n",
      "====Adapter 59 :=========\n",
      "\n",
      "<system>\n",
      "You are a helpful assistant\n",
      "\n",
      "<user>\n",
      "a=5+8, b=2+9. What is a*b?\n",
      "\n",
      "<assistant>\n",
      " alguém pode explicar isso de forma simples: \"a\" é um número e \"b\" é outro número. A soma de \"a\" e \"b\" é igual a \"a+b\". Portanto, a*b é igual a (5+8) + (2+9), ou seja, 13.\n",
      "\n",
      "====Adapter 60 :=========\n",
      "\n",
      "<system>\n",
      "You are a helpful assistant\n",
      "\n",
      "<user>\n",
      "a=5+8, b=2+9. What is a*b?\n",
      "\n",
      "<assistant>\n",
      "113\n",
      "\n",
      "====Adapter 61 :=========\n",
      "\n",
      "<system>\n",
      "You are a helpful assistant\n",
      "\n",
      "<user>\n",
      "a=5+8, b=2+9. What is a*b?\n",
      "\n",
      "<assistant>\n",
      " alguém pode explicar isso de forma simples: \"a\" é um número e \"b\" é outro número. A soma de \"a\" e \"b\" é igual a \"a+b\". Portanto, a*b é igual a (5+8) + (2+9), ou seja, 13.\n",
      "\n",
      "====Adapter 62 :=========\n",
      "\n",
      "<system>\n",
      "You are a helpful assistant\n",
      "\n",
      "<user>\n",
      "a=5+8, b=2+9. What is a*b?\n",
      "\n",
      "<assistant>\n",
      "椭圆方程为 $\\frac{x^2}{16}+\\frac{y^2}{9}=1$，所以 $a=4$，$b=3$。所以 $a*b=4*3=12$\n",
      "\n",
      "====Adapter 63 :=========\n",
      "\n",
      "<system>\n",
      "You are a helpful assistant\n",
      "\n",
      "<user>\n",
      "a=5+8, b=2+9. What is a*b?\n",
      "\n",
      "<assistant>\n",
      " alguém pode explicar isso de forma simples: \"a\" é um número e \"b\" é outro número. A soma de \"a\" e \"b\" é igual a \"a+b\". Portanto, a*b é igual a (5+8) + (2+9), ou seja, 13.\n",
      "\n",
      "====Adapter 64 :=========\n",
      "\n",
      "<system>\n",
      "You are a helpful assistant\n",
      "\n",
      "<user>\n",
      "a=5+8, b=2+9. What is a*b?\n",
      "\n",
      "<assistant>\n",
      " alguém pode explicar isso para você. Aqui está um exemplo:\n",
      "A = 5 e B = 2\n",
      "Portanto, a * b é igual a 5 * 2, ou seja, 10.\n",
      "Você pode verificar isso por meio de fazer uma operação matemática como a multiplicação dos números a e b. Isso significa que a * b é igual a 5 * 2, ou seja, 10.\n",
      "\n",
      "\n",
      "====Adapter 65 :=========\n",
      "\n",
      "<system>\n",
      "You are a helpful assistant\n",
      "\n",
      "<user>\n",
      "a=5+8, b=2+9. What is a*b?\n",
      "\n",
      "<assistant>\n",
      "简称\n",
      "\n",
      "\n",
      "====Adapter 66 :=========\n",
      "\n",
      "<system>\n",
      "You are a helpful assistant\n",
      "\n",
      "<user>\n",
      "a=5+8, b=2+9. What is a*b?\n",
      "\n",
      "<assistant>\n",
      " alguém pode explicar isso de forma simples: \"a\" é um número e \"b\" é outro número. A soma de \"a\" e \"b\" é igual a \"a+b\". Portanto, a*b é igual a (5+8) + (2+9), ou seja, 13.\n",
      "\n",
      "====Adapter 67 :=========\n",
      "\n",
      "<system>\n",
      "You are a helpful assistant\n",
      "\n",
      "<user>\n",
      "a=5+8, b=2+9. What is a*b?\n",
      "\n",
      "<assistant>\n",
      "简称\n",
      "\n",
      "\n",
      "====Adapter 68 :=========\n",
      "\n",
      "<system>\n",
      "You are a helpful assistant\n",
      "\n",
      "<user>\n",
      "a=5+8, b=2+9. What is a*b?\n",
      "\n",
      "<assistant>\n",
      "113\n",
      "\n",
      "\n",
      "====Adapter 69 :=========\n",
      "\n",
      "<system>\n",
      "You are a helpful assistant\n",
      "\n",
      "<user>\n",
      "a=5+8, b=2+9. What is a*b?\n",
      "\n",
      "<assistant>\n",
      "简称ab\n",
      "\n",
      "\n",
      "====Adapter 70 :=========\n",
      "\n",
      "<system>\n",
      "You are a helpful assistant\n",
      "\n",
      "<user>\n",
      "a=5+8, b=2+9. What is a*b?\n",
      "\n",
      "<assistant>\n",
      " alguém pode explicar isso de forma simples: \"a\" é um número e \"b\" é outro número. A soma de \"a\" e \"b\" é igual a \"a+b\". Portanto, a*b é igual a (5+8) + (2+9), ou seja, 13.\n",
      "\n",
      "====Adapter 71 :=========\n",
      "\n",
      "<system>\n",
      "You are a helpful assistant\n",
      "\n",
      "<user>\n",
      "a=5+8, b=2+9. What is a*b?\n",
      "\n",
      "<assistant>\n",
      "简称\n",
      "\n",
      "\n",
      "====Adapter 72 :=========\n",
      "\n",
      "<system>\n",
      "You are a helpful assistant\n",
      "\n",
      "<user>\n",
      "a=5+8, b=2+9. What is a*b?\n",
      "\n",
      "<assistant>\n",
      " alguém pode explicar isso de forma simples: \"a\" é um número e \"b\" é outro número. A soma de \"a\" e \"b\" é igual a \"a+b\". Portanto, a*b é igual a (5+8) + (2+9), ou seja, 13.\n",
      "\n",
      "====Adapter 73 :=========\n",
      "\n",
      "<system>\n",
      "You are a helpful assistant\n",
      "\n",
      "<user>\n",
      "a=5+8, b=2+9. What is a*b?\n",
      "\n",
      "<assistant>\n",
      "回应回去\n",
      "我用同样的方式报答你\n",
      "\n",
      "\n",
      "\n",
      "====Adapter 74 :=========\n",
      "\n",
      "<system>\n",
      "You are a helpful assistant\n",
      "\n",
      "<user>\n",
      "a=5+8, b=2+9. What is a*b?\n",
      "\n",
      "<assistant>\n",
      " alguém pode explicar isso de forma simples: \"a\" é um número e \"b\" é outro número. A soma de \"a\" e \"b\" é igual a \"a+b\". Portanto, a*b é igual a (5+8) + (2+9), ou seja, 13.\n",
      "\n",
      "====Adapter 75 :=========\n",
      "\n",
      "<system>\n",
      "You are a helpful assistant\n",
      "\n",
      "<user>\n",
      "a=5+8, b=2+9. What is a*b?\n",
      "\n",
      "<assistant>\n",
      " alguém pode explicar isso de forma simples: \"a\" é um número e \"b\" é outro número. A soma de \"a\" e \"b\" é igual a \"a+b\". Portanto, a*b é igual a (5+8) + (2+9), ou seja, 13.\n",
      "\n",
      "====Adapter 76 :=========\n",
      "\n",
      "<system>\n",
      "You are a helpful assistant\n",
      "\n",
      "<user>\n",
      "a=5+8, b=2+9. What is a*b?\n",
      "\n",
      "<assistant>\n",
      "后面跟的是什么\n",
      "\n",
      "\n",
      "\n",
      "\n",
      "\n",
      "\n",
      "\n",
      "\n",
      "\n",
      "\n",
      "\n",
      "\n",
      "\n",
      "\n",
      "\n",
      "\n",
      "\n",
      "\n",
      "\n",
      "\n",
      "\n",
      "\n",
      "\n",
      "\n",
      "\n",
      "\n",
      "\n",
      "\n",
      "\n",
      "\n",
      "\n",
      "\n",
      "\n",
      "\n",
      "\n",
      "\n",
      "\n",
      "\n",
      "\n",
      "\n",
      "\n",
      "\n",
      "\n",
      "\n",
      "\n",
      "\n",
      "\n",
      "\n",
      "\n",
      "\n",
      "\n",
      "\n",
      "\n",
      "\n",
      "\n",
      "\n",
      "\n",
      "\n",
      "\n",
      "\n",
      "\n",
      "\n",
      "====Adapter 77 :=========\n",
      "\n",
      "<system>\n",
      "You are a helpful assistant\n",
      "\n",
      "<user>\n",
      "a=5+8, b=2+9. What is a*b?\n",
      "\n",
      "<assistant>\n",
      "简称它为“小幸运”。\n",
      "\n",
      "\n",
      "\n",
      "\n",
      "====Adapter 78 :=========\n",
      "\n",
      "<system>\n",
      "You are a helpful assistant\n",
      "\n",
      "<user>\n",
      "a=5+8, b=2+9. What is a*b?\n",
      "\n",
      "<assistant>\n",
      " alguém pode explicar isso de forma simples: \"a\" é um número e \"b\" é outro número. A soma de \"a\" e \"b\" é igual a \"a+b\". Portanto, a*b é igual a (5+8) + (2+9), ou seja, 13.\n",
      "\n",
      "====Adapter 79 :=========\n",
      "\n",
      "<system>\n",
      "You are a helpful assistant\n",
      "\n",
      "<user>\n",
      "a=5+8, b=2+9. What is a*b?\n",
      "\n",
      "<assistant>\n",
      "简称叫“三字经”，\n",
      "\n",
      "\n",
      "====Adapter 80 :=========\n",
      "\n",
      "<system>\n",
      "You are a helpful assistant\n",
      "\n",
      "<user>\n",
      "a=5+8, b=2+9. What is a*b?\n",
      "\n",
      "<assistant>\n",
      "简称\n",
      "\n",
      "\n",
      "====Adapter 81 :=========\n",
      "\n",
      "<system>\n",
      "You are a helpful assistant\n",
      "\n",
      "<user>\n",
      "a=5+8, b=2+9. What is a*b?\n",
      "\n",
      "<assistant>\n",
      " name  译为：\n",
      "\n",
      "\n",
      "\n",
      "====Adapter 82 :=========\n",
      "\n",
      "<system>\n",
      "You are a helpful assistant\n",
      "\n",
      "<user>\n",
      "a=5+8, b=2+9. What is a*b?\n",
      "\n",
      "<assistant>\n",
      "简称 a*b\n",
      "\n",
      "\n",
      "====Adapter 83 :=========\n",
      "\n",
      "<system>\n",
      "You are a helpful assistant\n",
      "\n",
      "<user>\n",
      "a=5+8, b=2+9. What is a*b?\n",
      "\n",
      "<assistant>\n",
      "这样可以保证结果的准确性，避免因人为因素导致的结果误差。\n",
      "\n",
      "====Adapter 84 :=========\n",
      "\n",
      "<system>\n",
      "You are a helpful assistant\n",
      "\n",
      "<user>\n",
      "a=5+8, b=2+9. What is a*b?\n",
      "\n",
      "<assistant>\n",
      "简称a/b\n",
      "\n",
      "\n",
      "====Adapter 85 :=========\n",
      "\n",
      "<system>\n",
      "You are a helpful assistant\n",
      "\n",
      "<user>\n",
      "a=5+8, b=2+9. What is a*b?\n",
      "\n",
      "<assistant>\n",
      " alguém pode explicar isso para você. Aqui está um exemplo:\n",
      "A = 5 e B = 2\n",
      "Portanto, a * b é igual a 5 * 2, ou seja, 10.\n",
      "Você pode verificar isso por meio de fazer uma operação matemática como a multiplicação dos números a e b. Isso significa que a * b é igual a 5 * 2, ou seja, 10.\n",
      "\n",
      "\n",
      "====Adapter 86 :=========\n",
      "\n",
      "<system>\n",
      "You are a helpful assistant\n",
      "\n",
      "<user>\n",
      "a=5+8, b=2+9. What is a*b?\n",
      "\n",
      "<assistant>\n",
      " alguém pode explicar isso de forma simples: \"a\" é um número e \"b\" é outro número. A soma de \"a\" e \"b\" é igual a \"a+b\". Portanto, a*b é igual a (5+8) + (2+9), ou seja, 13.\n",
      "\n",
      "====Adapter 87 :=========\n",
      "\n",
      "<system>\n",
      "You are a helpful assistant\n",
      "\n",
      "<user>\n",
      "a=5+8, b=2+9. What is a*b?\n",
      "\n",
      "<assistant>\n",
      "回应回去\n",
      "我最乐意！\n",
      "\n",
      "\n",
      "\n",
      "\n",
      "====Adapter 88 :=========\n",
      "\n",
      "<system>\n",
      "You are a helpful assistant\n",
      "\n",
      "<user>\n",
      "a=5+8, b=2+9. What is a*b?\n",
      "\n",
      "<assistant>\n",
      "这样可以防止小数点后溢出，以及避免计算错误。因为5和8都是十进制的数字，而2和9都是八进制的数字，所以它们的乘积可能会超出十进制的范围。此外，如果两个数字都太大或太小，那么结果也可能会非常大或非常小。因此，最好使用科学计数法来表示结果。\n",
      "\n",
      "====Adapter 89 :=========\n",
      "\n",
      "<system>\n",
      "You are a helpful assistant\n",
      "\n",
      "<user>\n",
      "a=5+8, b=2+9. What is a*b?\n",
      "\n",
      "<assistant>\n",
      "简称A.B\n",
      "\n",
      "\n",
      "====Adapter 90 :=========\n",
      "\n",
      "<system>\n",
      "You are a helpful assistant\n",
      "\n",
      "<user>\n",
      "a=5+8, b=2+9. What is a*b?\n",
      "\n",
      "<assistant>\n",
      " alguém pode explicar isso de forma simples: \"a\" é um número e \"b\" é outro número. A soma de \"a\" e \"b\" é igual a \"a+b\". Portanto, a*b é igual a (5+8) + (2+9), ou seja, 13.\n",
      "\n",
      "====Adapter 91 :=========\n",
      "\n",
      "<system>\n",
      "You are a helpful assistant\n",
      "\n",
      "<user>\n",
      "a=5+8, b=2+9. What is a*b?\n",
      "\n",
      "<assistant>\n",
      " alguém pode explicar isso de forma simples: \"a\" é um número e \"b\" é outro número. A soma de \"a\" e \"b\" é igual a \"a+b\". Portanto, a*b é igual a (5+8) + (2+9), ou seja, 13.\n",
      "\n",
      "====Adapter 92 :=========\n",
      "\n",
      "<system>\n",
      "You are a helpful assistant\n",
      "\n",
      "<user>\n",
      "a=5+8, b=2+9. What is a*b?\n",
      "\n",
      "<assistant>\n",
      " alguém pode explicar isso para você. Aqui está um exemplo:\n",
      "A = 5 e B = 2\n",
      "Portanto, a * b é igual a 5 * 2, ou seja, 10.\n",
      "Você pode verificar isso por meio de fazer uma operação matemática como a multiplicação dos números a e b. Isso significa que a * b é igual a 5 * 2, ou seja, 10.\n",
      "\n",
      "\n",
      "====Adapter 93 :=========\n",
      "\n",
      "<system>\n",
      "You are a helpful assistant\n",
      "\n",
      "<user>\n",
      "a=5+8, b=2+9. What is a*b?\n",
      "\n",
      "<assistant>\n",
      "长形物质\n",
      "\n",
      "====Adapter 94 :=========\n",
      "\n",
      "<system>\n",
      "You are a helpful assistant\n",
      "\n",
      "<user>\n",
      "a=5+8, b=2+9. What is a*b?\n",
      "\n",
      "<assistant>\n",
      "这样可以避免在比较大小时产生不必要的误差，也可以使代码更易于维护。\n",
      "\n",
      "====Adapter 95 :=========\n",
      "\n",
      "<system>\n",
      "You are a helpful assistant\n",
      "\n",
      "<user>\n",
      "a=5+8, b=2+9. What is a*b?\n",
      "\n",
      "<assistant>\n",
      "简称\n",
      "\n",
      "\n",
      "====Adapter 96 :=========\n",
      "\n",
      "<system>\n",
      "You are a helpful assistant\n",
      "\n",
      "<user>\n",
      "a=5+8, b=2+9. What is a*b?\n",
      "\n",
      "<assistant>\n",
      "简称叫作“三字经”，\n",
      "\n",
      "\n",
      "====Adapter 97 :=========\n",
      "\n",
      "<system>\n",
      "You are a helpful assistant\n",
      "\n",
      "<user>\n",
      "a=5+8, b=2+9. What is a*b?\n",
      "\n",
      "<assistant>\n",
      "简称\n",
      "\n",
      "\n",
      "====Adapter 98 :=========\n",
      "\n",
      "<system>\n",
      "You are a helpful assistant\n",
      "\n",
      "<user>\n",
      "a=5+8, b=2+9. What is a*b?\n",
      "\n",
      "<assistant>\n",
      " alguém pode explicar isso de forma simples: \"a\" é um número e \"b\" é outro número. A soma de \"a\" e \"b\" é igual a \"a+b\". Portanto, a*b é igual a (5+8) + (2+9), ou seja, 13.\n",
      "\n",
      "====Adapter 99 :=========\n",
      "\n",
      "<system>\n",
      "You are a helpful assistant\n",
      "\n",
      "<user>\n",
      "a=5+8, b=2+9. What is a*b?\n",
      "\n",
      "<assistant>\n",
      "113\n",
      "\n"
     ]
    }
   ],
   "source": [
    "for i, continuation in enumerate(continuations):\n",
    "    print(\"====Adapter %d :=========\\n\" % i)\n",
    "    print(continuation)"
   ]
  },
  {
   "cell_type": "code",
   "execution_count": 13,
   "id": "37cb82a4-f4d0-4445-be19-f41f7989cc7c",
   "metadata": {},
   "outputs": [
    {
     "name": "stdout",
     "output_type": "stream",
     "text": [
      "Adapter 0\n"
     ]
    },
    {
     "data": {
      "text/html": [
       "<div id=\"circuits-vis-90558020-2957\" style=\"margin: 15px 0;\"/>\n",
       "    <script crossorigin type=\"module\">\n",
       "    import { render, ColoredTokens } from \"https://unpkg.com/circuitsvis@1.43.2/dist/cdn/esm.js\";\n",
       "    render(\n",
       "      \"circuits-vis-90558020-2957\",\n",
       "      ColoredTokens,\n",
       "      {\"tokens\": [\"<\", \"system\", \">\\n\", \"You\", \" are\", \" a\", \" helpful\", \" assistant\", \"\\n\\n\", \"<\", \"user\", \">\\n\", \"a\", \"=\", \"5\", \"+\", \"8\", \",\", \" b\", \"=\", \"2\", \"+\", \"9\", \".\", \" What\", \" is\", \" a\", \"*b\", \"?\\n\\n\", \"<\", \"assistant\", \">\\n\"], \"values\": [0.24864307045936584, 0.9413015246391296, 0.8864268064498901, 0.5883774161338806, 0.6185868382453918, 0.3869905471801758, 0.3852000832557678, 0.3413097858428955, 0.6318807005882263, 3.0522561073303223, 1.1673425436019897, 0.9116742610931396, 0.5615561008453369, 0.7483943700790405, 0.7366821765899658, 0.8999247550964355, 0.726186990737915, 1.8815513849258423, 1.4679940938949585, 1.6119608879089355, 1.1160606145858765, 1.0182965993881226, 1.0294091701507568, 2.2719438076019287, 2.640801191329956, 2.0853846073150635, 2.400665760040283, 2.059119939804077, 41.106971740722656, 237.52401733398438, 267.26611328125, 235.796875]}\n",
       "    )\n",
       "    </script>"
      ],
      "text/plain": [
       "<circuitsvis.utils.render.RenderedHTML at 0x7fb96b6e7190>"
      ]
     },
     "metadata": {},
     "output_type": "display_data"
    },
    {
     "name": "stdout",
     "output_type": "stream",
     "text": [
      "Adapter 1\n"
     ]
    },
    {
     "data": {
      "text/html": [
       "<div id=\"circuits-vis-9dada09d-4c11\" style=\"margin: 15px 0;\"/>\n",
       "    <script crossorigin type=\"module\">\n",
       "    import { render, ColoredTokens } from \"https://unpkg.com/circuitsvis@1.43.2/dist/cdn/esm.js\";\n",
       "    render(\n",
       "      \"circuits-vis-9dada09d-4c11\",\n",
       "      ColoredTokens,\n",
       "      {\"tokens\": [\"<\", \"system\", \">\\n\", \"You\", \" are\", \" a\", \" helpful\", \" assistant\", \"\\n\\n\", \"<\", \"user\", \">\\n\", \"a\", \"=\", \"5\", \"+\", \"8\", \",\", \" b\", \"=\", \"2\", \"+\", \"9\", \".\", \" What\", \" is\", \" a\", \"*b\", \"?\\n\\n\", \"<\", \"assistant\", \">\\n\"], \"values\": [0.23620471358299255, 0.1318584829568863, 0.3845493495464325, 0.28153684735298157, 0.44751259684562683, 0.1792466789484024, 0.19286172091960907, 0.12715044617652893, 0.29432421922683716, 5.038453102111816, 1.4747591018676758, 1.153053879737854, 0.5770496129989624, 0.5393409132957458, 0.5219540596008301, 0.6043022274971008, 0.5932103395462036, 1.0038042068481445, 1.2181761264801025, 0.9726418256759644, 0.7747102379798889, 0.714199423789978, 0.8113229274749756, 1.2874770164489746, 1.7140562534332275, 1.409793734550476, 1.9104318618774414, 1.7454339265823364, 3.4600274562835693, 346.7473449707031, 319.773193359375, 300.1466369628906]}\n",
       "    )\n",
       "    </script>"
      ],
      "text/plain": [
       "<circuitsvis.utils.render.RenderedHTML at 0x7fb96b6e72b0>"
      ]
     },
     "metadata": {},
     "output_type": "display_data"
    },
    {
     "name": "stdout",
     "output_type": "stream",
     "text": [
      "Adapter 2\n"
     ]
    },
    {
     "data": {
      "text/html": [
       "<div id=\"circuits-vis-9bdab8a8-b057\" style=\"margin: 15px 0;\"/>\n",
       "    <script crossorigin type=\"module\">\n",
       "    import { render, ColoredTokens } from \"https://unpkg.com/circuitsvis@1.43.2/dist/cdn/esm.js\";\n",
       "    render(\n",
       "      \"circuits-vis-9bdab8a8-b057\",\n",
       "      ColoredTokens,\n",
       "      {\"tokens\": [\"<\", \"system\", \">\\n\", \"You\", \" are\", \" a\", \" helpful\", \" assistant\", \"\\n\\n\", \"<\", \"user\", \">\\n\", \"a\", \"=\", \"5\", \"+\", \"8\", \",\", \" b\", \"=\", \"2\", \"+\", \"9\", \".\", \" What\", \" is\", \" a\", \"*b\", \"?\\n\\n\", \"<\", \"assistant\", \">\\n\"], \"values\": [0.3015637695789337, 0.18519392609596252, 0.45151156187057495, 0.17824433743953705, 0.24143429100513458, 0.13121700286865234, 0.1306534856557846, 0.1020606979727745, 0.37058258056640625, 0.6281641721725464, 0.22756238281726837, 0.29539740085601807, 0.4942416250705719, 0.7322366833686829, 0.8155349493026733, 0.8689060807228088, 0.7690984010696411, 1.985477089881897, 1.5225712060928345, 1.6035157442092896, 1.1187819242477417, 1.0606523752212524, 1.0451735258102417, 2.886164903640747, 2.6901509761810303, 2.23075795173645, 2.3290371894836426, 2.6082851886749268, 197.95750427246094, 154.77310180664062, 241.1283416748047, 241.30377197265625]}\n",
       "    )\n",
       "    </script>"
      ],
      "text/plain": [
       "<circuitsvis.utils.render.RenderedHTML at 0x7fb96b6e7190>"
      ]
     },
     "metadata": {},
     "output_type": "display_data"
    },
    {
     "name": "stdout",
     "output_type": "stream",
     "text": [
      "Adapter 3\n"
     ]
    },
    {
     "data": {
      "text/html": [
       "<div id=\"circuits-vis-0540f218-8e2c\" style=\"margin: 15px 0;\"/>\n",
       "    <script crossorigin type=\"module\">\n",
       "    import { render, ColoredTokens } from \"https://unpkg.com/circuitsvis@1.43.2/dist/cdn/esm.js\";\n",
       "    render(\n",
       "      \"circuits-vis-0540f218-8e2c\",\n",
       "      ColoredTokens,\n",
       "      {\"tokens\": [\"<\", \"system\", \">\\n\", \"You\", \" are\", \" a\", \" helpful\", \" assistant\", \"\\n\\n\", \"<\", \"user\", \">\\n\", \"a\", \"=\", \"5\", \"+\", \"8\", \",\", \" b\", \"=\", \"2\", \"+\", \"9\", \".\", \" What\", \" is\", \" a\", \"*b\", \"?\\n\\n\", \"<\", \"assistant\", \">\\n\"], \"values\": [0.25314024090766907, 0.5921807885169983, 0.6675910949707031, 0.3610915541648865, 0.4773143529891968, 0.2825453579425812, 0.31665390729904175, 0.2670154273509979, 0.5270566940307617, 0.6920380592346191, 0.3864504396915436, 0.3771213889122009, 0.5211067199707031, 0.609957754611969, 0.7609375715255737, 0.8381818532943726, 0.7142406702041626, 2.2003889083862305, 1.5735629796981812, 1.5977588891983032, 1.1429407596588135, 1.1297216415405273, 1.0454248189926147, 2.878387928009033, 2.638887882232666, 2.5683865547180176, 2.6935064792633057, 2.0281474590301514, 233.3855743408203, 240.21585083007812, 420.9010925292969, 421.6813659667969]}\n",
       "    )\n",
       "    </script>"
      ],
      "text/plain": [
       "<circuitsvis.utils.render.RenderedHTML at 0x7fbc9492c760>"
      ]
     },
     "metadata": {},
     "output_type": "display_data"
    },
    {
     "name": "stdout",
     "output_type": "stream",
     "text": [
      "Adapter 4\n"
     ]
    },
    {
     "data": {
      "text/html": [
       "<div id=\"circuits-vis-82779f07-0335\" style=\"margin: 15px 0;\"/>\n",
       "    <script crossorigin type=\"module\">\n",
       "    import { render, ColoredTokens } from \"https://unpkg.com/circuitsvis@1.43.2/dist/cdn/esm.js\";\n",
       "    render(\n",
       "      \"circuits-vis-82779f07-0335\",\n",
       "      ColoredTokens,\n",
       "      {\"tokens\": [\"<\", \"system\", \">\\n\", \"You\", \" are\", \" a\", \" helpful\", \" assistant\", \"\\n\\n\", \"<\", \"user\", \">\\n\", \"a\", \"=\", \"5\", \"+\", \"8\", \",\", \" b\", \"=\", \"2\", \"+\", \"9\", \".\", \" What\", \" is\", \" a\", \"*b\", \"?\\n\\n\", \"<\", \"assistant\", \">\\n\"], \"values\": [0.24974830448627472, 0.32746994495391846, 0.38546890020370483, 0.2706412971019745, 0.44418326020240784, 0.19238784909248352, 0.20057231187820435, 0.15059608221054077, 0.31593671441078186, 5.072938919067383, 1.489426851272583, 1.1556283235549927, 0.5765745043754578, 0.5571793913841248, 0.5323461294174194, 0.6159312725067139, 0.6051279306411743, 1.0280441045761108, 1.2218321561813354, 0.9925183057785034, 0.7934309840202332, 0.7183581590652466, 0.8279921412467957, 1.3248471021652222, 1.7287558317184448, 1.4241331815719604, 1.9456278085708618, 1.7641932964324951, 3.5296919345855713, 349.3294677734375, 319.5419006347656, 298.66815185546875]}\n",
       "    )\n",
       "    </script>"
      ],
      "text/plain": [
       "<circuitsvis.utils.render.RenderedHTML at 0x7fbc9492c760>"
      ]
     },
     "metadata": {},
     "output_type": "display_data"
    },
    {
     "name": "stdout",
     "output_type": "stream",
     "text": [
      "Adapter 5\n"
     ]
    },
    {
     "data": {
      "text/html": [
       "<div id=\"circuits-vis-d0cf2487-83f2\" style=\"margin: 15px 0;\"/>\n",
       "    <script crossorigin type=\"module\">\n",
       "    import { render, ColoredTokens } from \"https://unpkg.com/circuitsvis@1.43.2/dist/cdn/esm.js\";\n",
       "    render(\n",
       "      \"circuits-vis-d0cf2487-83f2\",\n",
       "      ColoredTokens,\n",
       "      {\"tokens\": [\"<\", \"system\", \">\\n\", \"You\", \" are\", \" a\", \" helpful\", \" assistant\", \"\\n\\n\", \"<\", \"user\", \">\\n\", \"a\", \"=\", \"5\", \"+\", \"8\", \",\", \" b\", \"=\", \"2\", \"+\", \"9\", \".\", \" What\", \" is\", \" a\", \"*b\", \"?\\n\\n\", \"<\", \"assistant\", \">\\n\"], \"values\": [0.2645869851112366, 0.3912973701953888, 0.6382637619972229, 0.30981770157814026, 0.42773595452308655, 0.23115834593772888, 0.28384363651275635, 0.21328552067279816, 0.5081532001495361, 0.7698454260826111, 0.39445173740386963, 0.4162837862968445, 0.5371146202087402, 0.7130736112594604, 0.8241841197013855, 0.8750163316726685, 0.7934653759002686, 2.279303550720215, 1.6538079977035522, 1.7451673746109009, 1.2034944295883179, 1.1521410942077637, 1.1220533847808838, 3.1831538677215576, 2.7379801273345947, 2.8135461807250977, 2.789292812347412, 2.364415168762207, 192.85438537597656, 243.39857482910156, 416.4656982421875, 409.152587890625]}\n",
       "    )\n",
       "    </script>"
      ],
      "text/plain": [
       "<circuitsvis.utils.render.RenderedHTML at 0x7fbc9492c760>"
      ]
     },
     "metadata": {},
     "output_type": "display_data"
    },
    {
     "name": "stdout",
     "output_type": "stream",
     "text": [
      "Adapter 6\n"
     ]
    },
    {
     "data": {
      "text/html": [
       "<div id=\"circuits-vis-cafa8302-5f3a\" style=\"margin: 15px 0;\"/>\n",
       "    <script crossorigin type=\"module\">\n",
       "    import { render, ColoredTokens } from \"https://unpkg.com/circuitsvis@1.43.2/dist/cdn/esm.js\";\n",
       "    render(\n",
       "      \"circuits-vis-cafa8302-5f3a\",\n",
       "      ColoredTokens,\n",
       "      {\"tokens\": [\"<\", \"system\", \">\\n\", \"You\", \" are\", \" a\", \" helpful\", \" assistant\", \"\\n\\n\", \"<\", \"user\", \">\\n\", \"a\", \"=\", \"5\", \"+\", \"8\", \",\", \" b\", \"=\", \"2\", \"+\", \"9\", \".\", \" What\", \" is\", \" a\", \"*b\", \"?\\n\\n\", \"<\", \"assistant\", \">\\n\"], \"values\": [0.27473920583724976, 0.7225335240364075, 0.5108698010444641, 0.36741143465042114, 0.4554026424884796, 0.27059563994407654, 0.27529922127723694, 0.2418568879365921, 0.4300774335861206, 5.047814846038818, 1.4982017278671265, 1.212732195854187, 0.5848895907402039, 0.5486205220222473, 0.5454193353652954, 0.647261917591095, 0.634425163269043, 1.0764788389205933, 1.2157108783721924, 1.006805658340454, 0.8309531211853027, 0.748466968536377, 0.8695951104164124, 1.3850314617156982, 1.7594518661499023, 1.4275285005569458, 1.9602936506271362, 1.7049671411514282, 3.5936036109924316, 345.3682556152344, 321.48492431640625, 297.5332336425781]}\n",
       "    )\n",
       "    </script>"
      ],
      "text/plain": [
       "<circuitsvis.utils.render.RenderedHTML at 0x7fbc9492c760>"
      ]
     },
     "metadata": {},
     "output_type": "display_data"
    },
    {
     "name": "stdout",
     "output_type": "stream",
     "text": [
      "Adapter 7\n"
     ]
    },
    {
     "data": {
      "text/html": [
       "<div id=\"circuits-vis-40d28319-7625\" style=\"margin: 15px 0;\"/>\n",
       "    <script crossorigin type=\"module\">\n",
       "    import { render, ColoredTokens } from \"https://unpkg.com/circuitsvis@1.43.2/dist/cdn/esm.js\";\n",
       "    render(\n",
       "      \"circuits-vis-40d28319-7625\",\n",
       "      ColoredTokens,\n",
       "      {\"tokens\": [\"<\", \"system\", \">\\n\", \"You\", \" are\", \" a\", \" helpful\", \" assistant\", \"\\n\\n\", \"<\", \"user\", \">\\n\", \"a\", \"=\", \"5\", \"+\", \"8\", \",\", \" b\", \"=\", \"2\", \"+\", \"9\", \".\", \" What\", \" is\", \" a\", \"*b\", \"?\\n\\n\", \"<\", \"assistant\", \">\\n\"], \"values\": [0.24086864292621613, 0.7230638265609741, 0.7283817529678345, 0.42129382491111755, 0.523301362991333, 0.33326172828674316, 0.3475434482097626, 0.30757930874824524, 0.5996651649475098, 0.7318674921989441, 0.47718116641044617, 0.45858296751976013, 0.5586646199226379, 0.6660683155059814, 0.807731032371521, 0.8301515579223633, 0.7693080902099609, 2.165518045425415, 1.580665111541748, 1.6212577819824219, 1.1017335653305054, 1.0530197620391846, 1.009385108947754, 2.9743435382843018, 2.5770533084869385, 2.5058364868164062, 2.6782073974609375, 2.031182289123535, 213.40167236328125, 244.99916076660156, 427.4737548828125, 419.10858154296875]}\n",
       "    )\n",
       "    </script>"
      ],
      "text/plain": [
       "<circuitsvis.utils.render.RenderedHTML at 0x7fbc9492c760>"
      ]
     },
     "metadata": {},
     "output_type": "display_data"
    },
    {
     "name": "stdout",
     "output_type": "stream",
     "text": [
      "Adapter 8\n"
     ]
    },
    {
     "data": {
      "text/html": [
       "<div id=\"circuits-vis-0d8f95fb-36a8\" style=\"margin: 15px 0;\"/>\n",
       "    <script crossorigin type=\"module\">\n",
       "    import { render, ColoredTokens } from \"https://unpkg.com/circuitsvis@1.43.2/dist/cdn/esm.js\";\n",
       "    render(\n",
       "      \"circuits-vis-0d8f95fb-36a8\",\n",
       "      ColoredTokens,\n",
       "      {\"tokens\": [\"<\", \"system\", \">\\n\", \"You\", \" are\", \" a\", \" helpful\", \" assistant\", \"\\n\\n\", \"<\", \"user\", \">\\n\", \"a\", \"=\", \"5\", \"+\", \"8\", \",\", \" b\", \"=\", \"2\", \"+\", \"9\", \".\", \" What\", \" is\", \" a\", \"*b\", \"?\\n\\n\", \"<\", \"assistant\", \">\\n\"], \"values\": [0.2339465171098709, 0.8027650117874146, 0.7693977355957031, 0.46924641728401184, 0.5781564712524414, 0.36853399872779846, 0.3815537095069885, 0.3325498402118683, 0.6372520327568054, 0.7443592548370361, 0.5109403133392334, 0.48268625140190125, 0.5728582143783569, 0.6712546348571777, 0.8169854283332825, 0.8650115728378296, 0.7861146330833435, 2.1814463138580322, 1.5793944597244263, 1.625589370727539, 1.113578200340271, 1.0748125314712524, 1.0222959518432617, 3.0153331756591797, 2.5911612510681152, 2.5175180435180664, 2.6606903076171875, 2.0298168659210205, 215.25286865234375, 244.72628784179688, 431.4362487792969, 420.6388854980469]}\n",
       "    )\n",
       "    </script>"
      ],
      "text/plain": [
       "<circuitsvis.utils.render.RenderedHTML at 0x7fbc9492c760>"
      ]
     },
     "metadata": {},
     "output_type": "display_data"
    },
    {
     "name": "stdout",
     "output_type": "stream",
     "text": [
      "Adapter 9\n"
     ]
    },
    {
     "data": {
      "text/html": [
       "<div id=\"circuits-vis-8c0d4e88-b0d4\" style=\"margin: 15px 0;\"/>\n",
       "    <script crossorigin type=\"module\">\n",
       "    import { render, ColoredTokens } from \"https://unpkg.com/circuitsvis@1.43.2/dist/cdn/esm.js\";\n",
       "    render(\n",
       "      \"circuits-vis-8c0d4e88-b0d4\",\n",
       "      ColoredTokens,\n",
       "      {\"tokens\": [\"<\", \"system\", \">\\n\", \"You\", \" are\", \" a\", \" helpful\", \" assistant\", \"\\n\\n\", \"<\", \"user\", \">\\n\", \"a\", \"=\", \"5\", \"+\", \"8\", \",\", \" b\", \"=\", \"2\", \"+\", \"9\", \".\", \" What\", \" is\", \" a\", \"*b\", \"?\\n\\n\", \"<\", \"assistant\", \">\\n\"], \"values\": [0.2674850821495056, 0.4236011207103729, 0.6215823292732239, 0.2946116030216217, 0.40709272027015686, 0.2364012598991394, 0.25381484627723694, 0.20374970138072968, 0.4948764741420746, 0.6927080154418945, 0.34625914692878723, 0.3363164961338043, 0.5551859736442566, 0.735552966594696, 0.8016602396965027, 0.9128598570823669, 0.8139773607254028, 2.154480457305908, 1.6723273992538452, 1.7007580995559692, 1.1546779870986938, 1.0978312492370605, 1.0430265665054321, 2.89780592918396, 2.6417996883392334, 2.508624315261841, 2.481236219406128, 2.668717622756958, 219.6351318359375, 243.69488525390625, 426.3807373046875, 411.71978759765625]}\n",
       "    )\n",
       "    </script>"
      ],
      "text/plain": [
       "<circuitsvis.utils.render.RenderedHTML at 0x7fbc9492c760>"
      ]
     },
     "metadata": {},
     "output_type": "display_data"
    },
    {
     "name": "stdout",
     "output_type": "stream",
     "text": [
      "Adapter 10\n"
     ]
    },
    {
     "data": {
      "text/html": [
       "<div id=\"circuits-vis-b3199d54-cec1\" style=\"margin: 15px 0;\"/>\n",
       "    <script crossorigin type=\"module\">\n",
       "    import { render, ColoredTokens } from \"https://unpkg.com/circuitsvis@1.43.2/dist/cdn/esm.js\";\n",
       "    render(\n",
       "      \"circuits-vis-b3199d54-cec1\",\n",
       "      ColoredTokens,\n",
       "      {\"tokens\": [\"<\", \"system\", \">\\n\", \"You\", \" are\", \" a\", \" helpful\", \" assistant\", \"\\n\\n\", \"<\", \"user\", \">\\n\", \"a\", \"=\", \"5\", \"+\", \"8\", \",\", \" b\", \"=\", \"2\", \"+\", \"9\", \".\", \" What\", \" is\", \" a\", \"*b\", \"?\\n\\n\", \"<\", \"assistant\", \">\\n\"], \"values\": [0.17590637505054474, 0.6805285215377808, 0.6737597584724426, 0.4823492467403412, 0.6495478749275208, 0.3086288571357727, 0.31499361991882324, 0.25729379057884216, 0.44871851801872253, 5.267593860626221, 1.6954407691955566, 1.3014237880706787, 0.6861364245414734, 0.6280677318572998, 0.5868640542030334, 0.5918142199516296, 0.60722815990448, 1.0961438417434692, 1.2196297645568848, 1.0175005197525024, 0.7827776074409485, 0.747369110584259, 0.8335803151130676, 1.4640167951583862, 1.5920889377593994, 1.4531409740447998, 2.0034546852111816, 1.7270387411117554, 4.177221775054932, 210.06626892089844, 161.16893005371094, 158.09262084960938]}\n",
       "    )\n",
       "    </script>"
      ],
      "text/plain": [
       "<circuitsvis.utils.render.RenderedHTML at 0x7fbc9492c760>"
      ]
     },
     "metadata": {},
     "output_type": "display_data"
    },
    {
     "name": "stdout",
     "output_type": "stream",
     "text": [
      "Adapter 11\n"
     ]
    },
    {
     "data": {
      "text/html": [
       "<div id=\"circuits-vis-8767afd4-f532\" style=\"margin: 15px 0;\"/>\n",
       "    <script crossorigin type=\"module\">\n",
       "    import { render, ColoredTokens } from \"https://unpkg.com/circuitsvis@1.43.2/dist/cdn/esm.js\";\n",
       "    render(\n",
       "      \"circuits-vis-8767afd4-f532\",\n",
       "      ColoredTokens,\n",
       "      {\"tokens\": [\"<\", \"system\", \">\\n\", \"You\", \" are\", \" a\", \" helpful\", \" assistant\", \"\\n\\n\", \"<\", \"user\", \">\\n\", \"a\", \"=\", \"5\", \"+\", \"8\", \",\", \" b\", \"=\", \"2\", \"+\", \"9\", \".\", \" What\", \" is\", \" a\", \"*b\", \"?\\n\\n\", \"<\", \"assistant\", \">\\n\"], \"values\": [0.23915347456932068, 0.7908264398574829, 0.8049164414405823, 0.45576605200767517, 0.5353963971138, 0.3596602976322174, 0.3587687909603119, 0.30724892020225525, 0.6268035173416138, 0.8601107001304626, 0.5193675756454468, 0.46344274282455444, 0.6336601376533508, 0.7725819945335388, 0.8365552425384521, 0.9541913270950317, 0.8458046317100525, 2.1796762943267822, 1.7393991947174072, 1.7315409183502197, 1.1959912776947021, 1.1694369316101074, 1.0836962461471558, 2.9250447750091553, 2.542006731033325, 2.5488624572753906, 2.6006102561950684, 2.5937304496765137, 217.8055877685547, 230.53529357910156, 420.7427978515625, 409.7536315917969]}\n",
       "    )\n",
       "    </script>"
      ],
      "text/plain": [
       "<circuitsvis.utils.render.RenderedHTML at 0x7fbc9492c760>"
      ]
     },
     "metadata": {},
     "output_type": "display_data"
    },
    {
     "name": "stdout",
     "output_type": "stream",
     "text": [
      "Adapter 12\n"
     ]
    },
    {
     "data": {
      "text/html": [
       "<div id=\"circuits-vis-56865e04-54fd\" style=\"margin: 15px 0;\"/>\n",
       "    <script crossorigin type=\"module\">\n",
       "    import { render, ColoredTokens } from \"https://unpkg.com/circuitsvis@1.43.2/dist/cdn/esm.js\";\n",
       "    render(\n",
       "      \"circuits-vis-56865e04-54fd\",\n",
       "      ColoredTokens,\n",
       "      {\"tokens\": [\"<\", \"system\", \">\\n\", \"You\", \" are\", \" a\", \" helpful\", \" assistant\", \"\\n\\n\", \"<\", \"user\", \">\\n\", \"a\", \"=\", \"5\", \"+\", \"8\", \",\", \" b\", \"=\", \"2\", \"+\", \"9\", \".\", \" What\", \" is\", \" a\", \"*b\", \"?\\n\\n\", \"<\", \"assistant\", \">\\n\"], \"values\": [0.240919828414917, 0.2235649824142456, 0.3779248297214508, 0.2749481499195099, 0.42404332756996155, 0.17956946790218353, 0.1955614537000656, 0.13259077072143555, 0.29958009719848633, 5.053606986999512, 1.4826695919036865, 1.1454732418060303, 0.5750737190246582, 0.534720242023468, 0.5227113962173462, 0.6099300384521484, 0.5972642302513123, 0.9928514361381531, 1.2008519172668457, 0.9685033559799194, 0.7743083834648132, 0.708200216293335, 0.8066229820251465, 1.2715321779251099, 1.7075495719909668, 1.3946818113327026, 1.8868213891983032, 1.717577338218689, 3.3565945625305176, 347.0898742675781, 321.17919921875, 301.2245178222656]}\n",
       "    )\n",
       "    </script>"
      ],
      "text/plain": [
       "<circuitsvis.utils.render.RenderedHTML at 0x7fbc9492c760>"
      ]
     },
     "metadata": {},
     "output_type": "display_data"
    },
    {
     "name": "stdout",
     "output_type": "stream",
     "text": [
      "Adapter 13\n"
     ]
    },
    {
     "data": {
      "text/html": [
       "<div id=\"circuits-vis-c80daa49-979c\" style=\"margin: 15px 0;\"/>\n",
       "    <script crossorigin type=\"module\">\n",
       "    import { render, ColoredTokens } from \"https://unpkg.com/circuitsvis@1.43.2/dist/cdn/esm.js\";\n",
       "    render(\n",
       "      \"circuits-vis-c80daa49-979c\",\n",
       "      ColoredTokens,\n",
       "      {\"tokens\": [\"<\", \"system\", \">\\n\", \"You\", \" are\", \" a\", \" helpful\", \" assistant\", \"\\n\\n\", \"<\", \"user\", \">\\n\", \"a\", \"=\", \"5\", \"+\", \"8\", \",\", \" b\", \"=\", \"2\", \"+\", \"9\", \".\", \" What\", \" is\", \" a\", \"*b\", \"?\\n\\n\", \"<\", \"assistant\", \">\\n\"], \"values\": [0.24304229021072388, 1.0547462701797485, 0.8936166763305664, 0.5741715431213379, 0.5993349552154541, 0.4122891128063202, 0.43740007281303406, 0.3616654872894287, 0.6666337847709656, 2.0549700260162354, 0.8359233140945435, 0.6719024777412415, 0.534906804561615, 0.7584207057952881, 0.75266432762146, 0.9577267169952393, 0.7424564957618713, 1.8670971393585205, 1.4635623693466187, 1.5360625982284546, 1.117240309715271, 1.0403664112091064, 1.0698742866516113, 2.2908775806427, 2.416024684906006, 2.001905679702759, 2.515174150466919, 2.134310245513916, 53.16783142089844, 247.74559020996094, 302.91656494140625, 279.93701171875]}\n",
       "    )\n",
       "    </script>"
      ],
      "text/plain": [
       "<circuitsvis.utils.render.RenderedHTML at 0x7fb9900e1d50>"
      ]
     },
     "metadata": {},
     "output_type": "display_data"
    },
    {
     "name": "stdout",
     "output_type": "stream",
     "text": [
      "Adapter 14\n"
     ]
    },
    {
     "data": {
      "text/html": [
       "<div id=\"circuits-vis-f6b38d53-7f69\" style=\"margin: 15px 0;\"/>\n",
       "    <script crossorigin type=\"module\">\n",
       "    import { render, ColoredTokens } from \"https://unpkg.com/circuitsvis@1.43.2/dist/cdn/esm.js\";\n",
       "    render(\n",
       "      \"circuits-vis-f6b38d53-7f69\",\n",
       "      ColoredTokens,\n",
       "      {\"tokens\": [\"<\", \"system\", \">\\n\", \"You\", \" are\", \" a\", \" helpful\", \" assistant\", \"\\n\\n\", \"<\", \"user\", \">\\n\", \"a\", \"=\", \"5\", \"+\", \"8\", \",\", \" b\", \"=\", \"2\", \"+\", \"9\", \".\", \" What\", \" is\", \" a\", \"*b\", \"?\\n\\n\", \"<\", \"assistant\", \">\\n\"], \"values\": [0.20638689398765564, 0.3174390196800232, 0.27545425295829773, 0.1791934370994568, 0.41998833417892456, 0.1652960330247879, 0.223922461271286, 0.1694146990776062, 0.26627060770988464, 5.437106609344482, 1.691759467124939, 1.316078543663025, 0.6119603514671326, 0.4621847867965698, 0.384521484375, 0.4870527684688568, 0.4996715486049652, 0.8255584836006165, 0.9321699738502502, 0.6775227785110474, 0.5447279810905457, 0.5709721446037292, 0.6575668454170227, 1.0403969287872314, 1.4502677917480469, 1.03153395652771, 1.3657478094100952, 1.1750653982162476, 2.321962833404541, 157.86671447753906, 147.8710174560547, 149.4386444091797]}\n",
       "    )\n",
       "    </script>"
      ],
      "text/plain": [
       "<circuitsvis.utils.render.RenderedHTML at 0x7fb9900e1d50>"
      ]
     },
     "metadata": {},
     "output_type": "display_data"
    },
    {
     "name": "stdout",
     "output_type": "stream",
     "text": [
      "Adapter 15\n"
     ]
    },
    {
     "data": {
      "text/html": [
       "<div id=\"circuits-vis-e5f3c628-4a62\" style=\"margin: 15px 0;\"/>\n",
       "    <script crossorigin type=\"module\">\n",
       "    import { render, ColoredTokens } from \"https://unpkg.com/circuitsvis@1.43.2/dist/cdn/esm.js\";\n",
       "    render(\n",
       "      \"circuits-vis-e5f3c628-4a62\",\n",
       "      ColoredTokens,\n",
       "      {\"tokens\": [\"<\", \"system\", \">\\n\", \"You\", \" are\", \" a\", \" helpful\", \" assistant\", \"\\n\\n\", \"<\", \"user\", \">\\n\", \"a\", \"=\", \"5\", \"+\", \"8\", \",\", \" b\", \"=\", \"2\", \"+\", \"9\", \".\", \" What\", \" is\", \" a\", \"*b\", \"?\\n\\n\", \"<\", \"assistant\", \">\\n\"], \"values\": [0.24222341179847717, 0.24764029681682587, 0.37740132212638855, 0.27090537548065186, 0.41709041595458984, 0.17994430661201477, 0.19431518018245697, 0.13413134217262268, 0.3011491298675537, 5.069173336029053, 1.4893704652786255, 1.1430798768997192, 0.5750481486320496, 0.5332444310188293, 0.5225682258605957, 0.6106692552566528, 0.598236620426178, 0.9913107752799988, 1.200927495956421, 0.967332661151886, 0.7746936082839966, 0.7056231498718262, 0.8056932091712952, 1.2714272737503052, 1.7111955881118774, 1.3963758945465088, 1.8900203704833984, 1.7206417322158813, 3.3312196731567383, 347.6519775390625, 321.57818603515625, 301.4571228027344]}\n",
       "    )\n",
       "    </script>"
      ],
      "text/plain": [
       "<circuitsvis.utils.render.RenderedHTML at 0x7fb9900e1d50>"
      ]
     },
     "metadata": {},
     "output_type": "display_data"
    },
    {
     "name": "stdout",
     "output_type": "stream",
     "text": [
      "Adapter 16\n"
     ]
    },
    {
     "data": {
      "text/html": [
       "<div id=\"circuits-vis-1e90eb81-280e\" style=\"margin: 15px 0;\"/>\n",
       "    <script crossorigin type=\"module\">\n",
       "    import { render, ColoredTokens } from \"https://unpkg.com/circuitsvis@1.43.2/dist/cdn/esm.js\";\n",
       "    render(\n",
       "      \"circuits-vis-1e90eb81-280e\",\n",
       "      ColoredTokens,\n",
       "      {\"tokens\": [\"<\", \"system\", \">\\n\", \"You\", \" are\", \" a\", \" helpful\", \" assistant\", \"\\n\\n\", \"<\", \"user\", \">\\n\", \"a\", \"=\", \"5\", \"+\", \"8\", \",\", \" b\", \"=\", \"2\", \"+\", \"9\", \".\", \" What\", \" is\", \" a\", \"*b\", \"?\\n\\n\", \"<\", \"assistant\", \">\\n\"], \"values\": [0.2572082579135895, 0.5209388136863708, 0.6571053266525269, 0.348395437002182, 0.47201964259147644, 0.2727372348308563, 0.30762171745300293, 0.2455601841211319, 0.5313842296600342, 0.7348403930664062, 0.38254567980766296, 0.3982822895050049, 0.5273492336273193, 0.6989743113517761, 0.7842538952827454, 0.8879714608192444, 0.7510966658592224, 2.183833599090576, 1.6156278848648071, 1.6105507612228394, 1.1372407674789429, 1.0942401885986328, 1.0387167930603027, 2.9281649589538574, 2.5755341053009033, 2.6392767429351807, 2.710177421569824, 2.1653292179107666, 212.25537109375, 236.307861328125, 394.71966552734375, 400.3639221191406]}\n",
       "    )\n",
       "    </script>"
      ],
      "text/plain": [
       "<circuitsvis.utils.render.RenderedHTML at 0x7fb9900e1d50>"
      ]
     },
     "metadata": {},
     "output_type": "display_data"
    },
    {
     "name": "stdout",
     "output_type": "stream",
     "text": [
      "Adapter 17\n"
     ]
    },
    {
     "data": {
      "text/html": [
       "<div id=\"circuits-vis-f7ab4311-3b15\" style=\"margin: 15px 0;\"/>\n",
       "    <script crossorigin type=\"module\">\n",
       "    import { render, ColoredTokens } from \"https://unpkg.com/circuitsvis@1.43.2/dist/cdn/esm.js\";\n",
       "    render(\n",
       "      \"circuits-vis-f7ab4311-3b15\",\n",
       "      ColoredTokens,\n",
       "      {\"tokens\": [\"<\", \"system\", \">\\n\", \"You\", \" are\", \" a\", \" helpful\", \" assistant\", \"\\n\\n\", \"<\", \"user\", \">\\n\", \"a\", \"=\", \"5\", \"+\", \"8\", \",\", \" b\", \"=\", \"2\", \"+\", \"9\", \".\", \" What\", \" is\", \" a\", \"*b\", \"?\\n\\n\", \"<\", \"assistant\", \">\\n\"], \"values\": [0.23985281586647034, 0.22819320857524872, 0.37610936164855957, 0.2709764540195465, 0.42013874650001526, 0.17881475389003754, 0.19551026821136475, 0.1323564499616623, 0.2993033826351166, 5.075410842895508, 1.49277925491333, 1.1462329626083374, 0.5767031908035278, 0.534561812877655, 0.5249528884887695, 0.610226035118103, 0.599200427532196, 0.9912901520729065, 1.1965793371200562, 0.9641349911689758, 0.7734322547912598, 0.7044829726219177, 0.8052418828010559, 1.2687427997589111, 1.7021962404251099, 1.3887072801589966, 1.8798367977142334, 1.7177749872207642, 3.32816219329834, 347.54046630859375, 321.5008239746094, 301.5640869140625]}\n",
       "    )\n",
       "    </script>"
      ],
      "text/plain": [
       "<circuitsvis.utils.render.RenderedHTML at 0x7fb9900e1d50>"
      ]
     },
     "metadata": {},
     "output_type": "display_data"
    },
    {
     "name": "stdout",
     "output_type": "stream",
     "text": [
      "Adapter 18\n"
     ]
    },
    {
     "data": {
      "text/html": [
       "<div id=\"circuits-vis-8d59d9b5-126f\" style=\"margin: 15px 0;\"/>\n",
       "    <script crossorigin type=\"module\">\n",
       "    import { render, ColoredTokens } from \"https://unpkg.com/circuitsvis@1.43.2/dist/cdn/esm.js\";\n",
       "    render(\n",
       "      \"circuits-vis-8d59d9b5-126f\",\n",
       "      ColoredTokens,\n",
       "      {\"tokens\": [\"<\", \"system\", \">\\n\", \"You\", \" are\", \" a\", \" helpful\", \" assistant\", \"\\n\\n\", \"<\", \"user\", \">\\n\", \"a\", \"=\", \"5\", \"+\", \"8\", \",\", \" b\", \"=\", \"2\", \"+\", \"9\", \".\", \" What\", \" is\", \" a\", \"*b\", \"?\\n\\n\", \"<\", \"assistant\", \">\\n\"], \"values\": [0.24066674709320068, 0.19302456080913544, 0.37989330291748047, 0.2818641662597656, 0.4372311234474182, 0.1807357221841812, 0.19591939449310303, 0.13160140812397003, 0.2987937927246094, 5.039373397827148, 1.4771788120269775, 1.1469634771347046, 0.5757830739021301, 0.5348192453384399, 0.5224957466125488, 0.6068866848945618, 0.5942102670669556, 0.997543215751648, 1.2065505981445312, 0.9723049998283386, 0.7756445407867432, 0.7110421061515808, 0.8093740940093994, 1.2771518230438232, 1.714116096496582, 1.404649257659912, 1.9012253284454346, 1.729210615158081, 3.40612530708313, 346.6477966308594, 320.4466247558594, 300.9524841308594]}\n",
       "    )\n",
       "    </script>"
      ],
      "text/plain": [
       "<circuitsvis.utils.render.RenderedHTML at 0x7fb9900e1d50>"
      ]
     },
     "metadata": {},
     "output_type": "display_data"
    },
    {
     "name": "stdout",
     "output_type": "stream",
     "text": [
      "Adapter 19\n"
     ]
    },
    {
     "data": {
      "text/html": [
       "<div id=\"circuits-vis-459299d9-d994\" style=\"margin: 15px 0;\"/>\n",
       "    <script crossorigin type=\"module\">\n",
       "    import { render, ColoredTokens } from \"https://unpkg.com/circuitsvis@1.43.2/dist/cdn/esm.js\";\n",
       "    render(\n",
       "      \"circuits-vis-459299d9-d994\",\n",
       "      ColoredTokens,\n",
       "      {\"tokens\": [\"<\", \"system\", \">\\n\", \"You\", \" are\", \" a\", \" helpful\", \" assistant\", \"\\n\\n\", \"<\", \"user\", \">\\n\", \"a\", \"=\", \"5\", \"+\", \"8\", \",\", \" b\", \"=\", \"2\", \"+\", \"9\", \".\", \" What\", \" is\", \" a\", \"*b\", \"?\\n\\n\", \"<\", \"assistant\", \">\\n\"], \"values\": [0.23910555243492126, 0.18974189460277557, 0.37830179929733276, 0.2786777913570404, 0.4341014623641968, 0.17956362664699554, 0.19660137593746185, 0.13087673485279083, 0.297943651676178, 5.049498558044434, 1.4823129177093506, 1.148513674736023, 0.5768489241600037, 0.5378316640853882, 0.5267815589904785, 0.6104487180709839, 0.5977036952972412, 0.9973180890083313, 1.2040503025054932, 0.9709312915802002, 0.7762855291366577, 0.7107282280921936, 0.8085837960243225, 1.2752046585083008, 1.7075614929199219, 1.3967381715774536, 1.8901755809783936, 1.727463722229004, 3.3813059329986572, 346.6416931152344, 321.0821228027344, 301.1446533203125]}\n",
       "    )\n",
       "    </script>"
      ],
      "text/plain": [
       "<circuitsvis.utils.render.RenderedHTML at 0x7fb9900e1d50>"
      ]
     },
     "metadata": {},
     "output_type": "display_data"
    },
    {
     "name": "stdout",
     "output_type": "stream",
     "text": [
      "Adapter 20\n"
     ]
    },
    {
     "data": {
      "text/html": [
       "<div id=\"circuits-vis-f92a725f-965f\" style=\"margin: 15px 0;\"/>\n",
       "    <script crossorigin type=\"module\">\n",
       "    import { render, ColoredTokens } from \"https://unpkg.com/circuitsvis@1.43.2/dist/cdn/esm.js\";\n",
       "    render(\n",
       "      \"circuits-vis-f92a725f-965f\",\n",
       "      ColoredTokens,\n",
       "      {\"tokens\": [\"<\", \"system\", \">\\n\", \"You\", \" are\", \" a\", \" helpful\", \" assistant\", \"\\n\\n\", \"<\", \"user\", \">\\n\", \"a\", \"=\", \"5\", \"+\", \"8\", \",\", \" b\", \"=\", \"2\", \"+\", \"9\", \".\", \" What\", \" is\", \" a\", \"*b\", \"?\\n\\n\", \"<\", \"assistant\", \">\\n\"], \"values\": [0.27194616198539734, 0.32081514596939087, 0.5884360671043396, 0.25360599160194397, 0.3707917034626007, 0.20124311745166779, 0.22526387870311737, 0.18052388727664948, 0.4599643349647522, 0.6462470889091492, 0.30635640025138855, 0.3282487392425537, 0.522063136100769, 0.6953234672546387, 0.8105820417404175, 0.8921137452125549, 0.787976086139679, 2.176703929901123, 1.6398125886917114, 1.6693239212036133, 1.1408568620681763, 1.098960280418396, 1.0363558530807495, 2.980005979537964, 2.710272789001465, 2.6194698810577393, 2.609492301940918, 2.477261543273926, 214.0953826904297, 260.1249694824219, 423.7138671875, 412.9960632324219]}\n",
       "    )\n",
       "    </script>"
      ],
      "text/plain": [
       "<circuitsvis.utils.render.RenderedHTML at 0x7fb9900e1d50>"
      ]
     },
     "metadata": {},
     "output_type": "display_data"
    },
    {
     "name": "stdout",
     "output_type": "stream",
     "text": [
      "Adapter 21\n"
     ]
    },
    {
     "data": {
      "text/html": [
       "<div id=\"circuits-vis-62ab9dd4-ef7a\" style=\"margin: 15px 0;\"/>\n",
       "    <script crossorigin type=\"module\">\n",
       "    import { render, ColoredTokens } from \"https://unpkg.com/circuitsvis@1.43.2/dist/cdn/esm.js\";\n",
       "    render(\n",
       "      \"circuits-vis-62ab9dd4-ef7a\",\n",
       "      ColoredTokens,\n",
       "      {\"tokens\": [\"<\", \"system\", \">\\n\", \"You\", \" are\", \" a\", \" helpful\", \" assistant\", \"\\n\\n\", \"<\", \"user\", \">\\n\", \"a\", \"=\", \"5\", \"+\", \"8\", \",\", \" b\", \"=\", \"2\", \"+\", \"9\", \".\", \" What\", \" is\", \" a\", \"*b\", \"?\\n\\n\", \"<\", \"assistant\", \">\\n\"], \"values\": [0.30842718482017517, 0.2031158208847046, 0.4590117633342743, 0.19122914969921112, 0.257192999124527, 0.14821764826774597, 0.1714942902326584, 0.12209510058164597, 0.4094633460044861, 0.6593379378318787, 0.26006782054901123, 0.3320857584476471, 0.45429402589797974, 0.6562113761901855, 0.7381175756454468, 0.8111589550971985, 0.68232262134552, 2.006734609603882, 1.5578784942626953, 1.4994906187057495, 1.0465342998504639, 1.0261515378952026, 0.9752636551856995, 2.8464536666870117, 2.714245080947876, 2.164306402206421, 2.460693120956421, 2.2636611461639404, 252.7666473388672, 268.0013427734375, 347.330322265625, 348.59149169921875]}\n",
       "    )\n",
       "    </script>"
      ],
      "text/plain": [
       "<circuitsvis.utils.render.RenderedHTML at 0x7fb9900e1d50>"
      ]
     },
     "metadata": {},
     "output_type": "display_data"
    },
    {
     "name": "stdout",
     "output_type": "stream",
     "text": [
      "Adapter 22\n"
     ]
    },
    {
     "data": {
      "text/html": [
       "<div id=\"circuits-vis-76fa45c6-6592\" style=\"margin: 15px 0;\"/>\n",
       "    <script crossorigin type=\"module\">\n",
       "    import { render, ColoredTokens } from \"https://unpkg.com/circuitsvis@1.43.2/dist/cdn/esm.js\";\n",
       "    render(\n",
       "      \"circuits-vis-76fa45c6-6592\",\n",
       "      ColoredTokens,\n",
       "      {\"tokens\": [\"<\", \"system\", \">\\n\", \"You\", \" are\", \" a\", \" helpful\", \" assistant\", \"\\n\\n\", \"<\", \"user\", \">\\n\", \"a\", \"=\", \"5\", \"+\", \"8\", \",\", \" b\", \"=\", \"2\", \"+\", \"9\", \".\", \" What\", \" is\", \" a\", \"*b\", \"?\\n\\n\", \"<\", \"assistant\", \">\\n\"], \"values\": [0.23976682126522064, 0.20883630216121674, 0.37838125228881836, 0.27665868401527405, 0.4392472207546234, 0.18108712136745453, 0.19576133787631989, 0.13287068903446198, 0.29966628551483154, 5.056948184967041, 1.4829875230789185, 1.1510909795761108, 0.5777036547660828, 0.545001745223999, 0.5263838768005371, 0.611910343170166, 0.5985317826271057, 1.005741000175476, 1.2129329442977905, 0.9752523303031921, 0.7787134647369385, 0.7131534814834595, 0.8138531446456909, 1.2874552011489868, 1.705771565437317, 1.401426076889038, 1.9066892862319946, 1.7405887842178345, 3.431389093399048, 347.2152099609375, 320.4317626953125, 300.6275329589844]}\n",
       "    )\n",
       "    </script>"
      ],
      "text/plain": [
       "<circuitsvis.utils.render.RenderedHTML at 0x7fb9900e1d50>"
      ]
     },
     "metadata": {},
     "output_type": "display_data"
    },
    {
     "name": "stdout",
     "output_type": "stream",
     "text": [
      "Adapter 23\n"
     ]
    },
    {
     "data": {
      "text/html": [
       "<div id=\"circuits-vis-8b382cc2-0a03\" style=\"margin: 15px 0;\"/>\n",
       "    <script crossorigin type=\"module\">\n",
       "    import { render, ColoredTokens } from \"https://unpkg.com/circuitsvis@1.43.2/dist/cdn/esm.js\";\n",
       "    render(\n",
       "      \"circuits-vis-8b382cc2-0a03\",\n",
       "      ColoredTokens,\n",
       "      {\"tokens\": [\"<\", \"system\", \">\\n\", \"You\", \" are\", \" a\", \" helpful\", \" assistant\", \"\\n\\n\", \"<\", \"user\", \">\\n\", \"a\", \"=\", \"5\", \"+\", \"8\", \",\", \" b\", \"=\", \"2\", \"+\", \"9\", \".\", \" What\", \" is\", \" a\", \"*b\", \"?\\n\\n\", \"<\", \"assistant\", \">\\n\"], \"values\": [0.24344252049922943, 0.6993026733398438, 0.7330486178398132, 0.4057224690914154, 0.5125620365142822, 0.32248860597610474, 0.33674895763397217, 0.281907856464386, 0.5948416590690613, 0.7246477007865906, 0.44321590662002563, 0.450872540473938, 0.5437383055686951, 0.6915566325187683, 0.8223954439163208, 0.8574754595756531, 0.7780702710151672, 2.1129136085510254, 1.6388442516326904, 1.6179225444793701, 1.1201417446136475, 1.090970516204834, 1.0353914499282837, 2.9276723861694336, 2.6517069339752197, 2.5574793815612793, 2.746150255203247, 2.3681552410125732, 244.26443481445312, 250.31983947753906, 426.0168762207031, 416.6191711425781]}\n",
       "    )\n",
       "    </script>"
      ],
      "text/plain": [
       "<circuitsvis.utils.render.RenderedHTML at 0x7fb9900e1d50>"
      ]
     },
     "metadata": {},
     "output_type": "display_data"
    },
    {
     "name": "stdout",
     "output_type": "stream",
     "text": [
      "Adapter 24\n"
     ]
    },
    {
     "data": {
      "text/html": [
       "<div id=\"circuits-vis-13a1aa2e-46cb\" style=\"margin: 15px 0;\"/>\n",
       "    <script crossorigin type=\"module\">\n",
       "    import { render, ColoredTokens } from \"https://unpkg.com/circuitsvis@1.43.2/dist/cdn/esm.js\";\n",
       "    render(\n",
       "      \"circuits-vis-13a1aa2e-46cb\",\n",
       "      ColoredTokens,\n",
       "      {\"tokens\": [\"<\", \"system\", \">\\n\", \"You\", \" are\", \" a\", \" helpful\", \" assistant\", \"\\n\\n\", \"<\", \"user\", \">\\n\", \"a\", \"=\", \"5\", \"+\", \"8\", \",\", \" b\", \"=\", \"2\", \"+\", \"9\", \".\", \" What\", \" is\", \" a\", \"*b\", \"?\\n\\n\", \"<\", \"assistant\", \">\\n\"], \"values\": [0.3086320161819458, 0.23649974167346954, 0.44258609414100647, 0.19819174706935883, 0.2684485912322998, 0.14649096131324768, 0.17369098961353302, 0.13447727262973785, 0.3875674903392792, 0.4636188745498657, 0.18310324847698212, 0.2762421667575836, 0.48968440294265747, 0.6847252249717712, 0.7616084218025208, 0.9010822772979736, 0.7643654346466064, 1.981609582901001, 1.5182559490203857, 1.537609338760376, 1.0513339042663574, 1.0593897104263306, 1.0164382457733154, 2.7399611473083496, 2.6809210777282715, 2.3011579513549805, 2.371143102645874, 2.1239678859710693, 222.56008911132812, 184.11045837402344, 267.12628173828125, 267.8385925292969]}\n",
       "    )\n",
       "    </script>"
      ],
      "text/plain": [
       "<circuitsvis.utils.render.RenderedHTML at 0x7fb9900e1d50>"
      ]
     },
     "metadata": {},
     "output_type": "display_data"
    },
    {
     "name": "stdout",
     "output_type": "stream",
     "text": [
      "Adapter 25\n"
     ]
    },
    {
     "data": {
      "text/html": [
       "<div id=\"circuits-vis-38be359c-dbc8\" style=\"margin: 15px 0;\"/>\n",
       "    <script crossorigin type=\"module\">\n",
       "    import { render, ColoredTokens } from \"https://unpkg.com/circuitsvis@1.43.2/dist/cdn/esm.js\";\n",
       "    render(\n",
       "      \"circuits-vis-38be359c-dbc8\",\n",
       "      ColoredTokens,\n",
       "      {\"tokens\": [\"<\", \"system\", \">\\n\", \"You\", \" are\", \" a\", \" helpful\", \" assistant\", \"\\n\\n\", \"<\", \"user\", \">\\n\", \"a\", \"=\", \"5\", \"+\", \"8\", \",\", \" b\", \"=\", \"2\", \"+\", \"9\", \".\", \" What\", \" is\", \" a\", \"*b\", \"?\\n\\n\", \"<\", \"assistant\", \">\\n\"], \"values\": [0.2527028024196625, 0.5206955671310425, 0.6838743686676025, 0.366362601518631, 0.4731810986995697, 0.26532241702079773, 0.3190644681453705, 0.2558218240737915, 0.5485020875930786, 0.7143532633781433, 0.4061376750469208, 0.42590203881263733, 0.5550308227539062, 0.6850719451904297, 0.8175164461135864, 0.8702502846717834, 0.7766389846801758, 2.27463960647583, 1.6114284992218018, 1.7079861164093018, 1.1808264255523682, 1.1389901638031006, 1.0899066925048828, 3.1593949794769287, 2.7734358310699463, 2.7858691215515137, 2.9047460556030273, 2.2235400676727295, 187.06492614746094, 240.71888732910156, 412.5495910644531, 409.72149658203125]}\n",
       "    )\n",
       "    </script>"
      ],
      "text/plain": [
       "<circuitsvis.utils.render.RenderedHTML at 0x7fb9900e1d50>"
      ]
     },
     "metadata": {},
     "output_type": "display_data"
    },
    {
     "name": "stdout",
     "output_type": "stream",
     "text": [
      "Adapter 26\n"
     ]
    },
    {
     "data": {
      "text/html": [
       "<div id=\"circuits-vis-c794be0f-e685\" style=\"margin: 15px 0;\"/>\n",
       "    <script crossorigin type=\"module\">\n",
       "    import { render, ColoredTokens } from \"https://unpkg.com/circuitsvis@1.43.2/dist/cdn/esm.js\";\n",
       "    render(\n",
       "      \"circuits-vis-c794be0f-e685\",\n",
       "      ColoredTokens,\n",
       "      {\"tokens\": [\"<\", \"system\", \">\\n\", \"You\", \" are\", \" a\", \" helpful\", \" assistant\", \"\\n\\n\", \"<\", \"user\", \">\\n\", \"a\", \"=\", \"5\", \"+\", \"8\", \",\", \" b\", \"=\", \"2\", \"+\", \"9\", \".\", \" What\", \" is\", \" a\", \"*b\", \"?\\n\\n\", \"<\", \"assistant\", \">\\n\"], \"values\": [0.23182077705860138, 0.37091079354286194, 0.6195754408836365, 0.32843083143234253, 0.376860648393631, 0.23093172907829285, 0.23508843779563904, 0.18372544646263123, 0.4879598319530487, 0.7827911376953125, 0.38041508197784424, 0.3607882559299469, 0.43337300419807434, 0.6265720725059509, 0.7520392537117004, 0.8425605297088623, 0.7374022603034973, 1.9766091108322144, 1.5737459659576416, 1.5392740964889526, 1.1116180419921875, 1.0291491746902466, 1.034932017326355, 2.535797119140625, 2.52426815032959, 2.2197439670562744, 2.2626540660858154, 2.1856319904327393, 170.18678283691406, 197.88143920898438, 260.99078369140625, 257.0201110839844]}\n",
       "    )\n",
       "    </script>"
      ],
      "text/plain": [
       "<circuitsvis.utils.render.RenderedHTML at 0x7fb9900e1d50>"
      ]
     },
     "metadata": {},
     "output_type": "display_data"
    },
    {
     "name": "stdout",
     "output_type": "stream",
     "text": [
      "Adapter 27\n"
     ]
    },
    {
     "data": {
      "text/html": [
       "<div id=\"circuits-vis-8a5a82a5-8d7a\" style=\"margin: 15px 0;\"/>\n",
       "    <script crossorigin type=\"module\">\n",
       "    import { render, ColoredTokens } from \"https://unpkg.com/circuitsvis@1.43.2/dist/cdn/esm.js\";\n",
       "    render(\n",
       "      \"circuits-vis-8a5a82a5-8d7a\",\n",
       "      ColoredTokens,\n",
       "      {\"tokens\": [\"<\", \"system\", \">\\n\", \"You\", \" are\", \" a\", \" helpful\", \" assistant\", \"\\n\\n\", \"<\", \"user\", \">\\n\", \"a\", \"=\", \"5\", \"+\", \"8\", \",\", \" b\", \"=\", \"2\", \"+\", \"9\", \".\", \" What\", \" is\", \" a\", \"*b\", \"?\\n\\n\", \"<\", \"assistant\", \">\\n\"], \"values\": [0.25650736689567566, 0.47057124972343445, 0.41491907835006714, 0.2966476380825043, 0.44996771216392517, 0.21596865355968475, 0.22004514932632446, 0.18111896514892578, 0.3461351692676544, 5.090373992919922, 1.4960864782333374, 1.1526288986206055, 0.5695496201515198, 0.5578122138977051, 0.535947322845459, 0.6257873177528381, 0.617708146572113, 1.0428212881088257, 1.2200876474380493, 1.0035066604614258, 0.8066359758377075, 0.7273450493812561, 0.842862069606781, 1.3432483673095703, 1.7380461692810059, 1.4347820281982422, 1.9516392946243286, 1.7416269779205322, 3.5475757122039795, 353.22149658203125, 319.3130798339844, 297.5563049316406]}\n",
       "    )\n",
       "    </script>"
      ],
      "text/plain": [
       "<circuitsvis.utils.render.RenderedHTML at 0x7fb9900e1d50>"
      ]
     },
     "metadata": {},
     "output_type": "display_data"
    },
    {
     "name": "stdout",
     "output_type": "stream",
     "text": [
      "Adapter 28\n"
     ]
    },
    {
     "data": {
      "text/html": [
       "<div id=\"circuits-vis-f506d263-58da\" style=\"margin: 15px 0;\"/>\n",
       "    <script crossorigin type=\"module\">\n",
       "    import { render, ColoredTokens } from \"https://unpkg.com/circuitsvis@1.43.2/dist/cdn/esm.js\";\n",
       "    render(\n",
       "      \"circuits-vis-f506d263-58da\",\n",
       "      ColoredTokens,\n",
       "      {\"tokens\": [\"<\", \"system\", \">\\n\", \"You\", \" are\", \" a\", \" helpful\", \" assistant\", \"\\n\\n\", \"<\", \"user\", \">\\n\", \"a\", \"=\", \"5\", \"+\", \"8\", \",\", \" b\", \"=\", \"2\", \"+\", \"9\", \".\", \" What\", \" is\", \" a\", \"*b\", \"?\\n\\n\", \"<\", \"assistant\", \">\\n\"], \"values\": [0.24113748967647552, 0.23168185353279114, 0.3774932324886322, 0.27229073643684387, 0.43781960010528564, 0.18196618556976318, 0.19594521820545197, 0.13520868122577667, 0.30185946822166443, 5.067432403564453, 1.4886828660964966, 1.1537539958953857, 0.5795707702636719, 0.5488758087158203, 0.5260112881660461, 0.6090200543403625, 0.5962402820587158, 1.006232738494873, 1.2140496969223022, 0.9743923544883728, 0.7780430912971497, 0.7104722261428833, 0.8132184147834778, 1.2905545234680176, 1.7055310010910034, 1.4007909297943115, 1.9123342037200928, 1.7419404983520508, 3.439037799835205, 347.38494873046875, 320.29486083984375, 300.5559997558594]}\n",
       "    )\n",
       "    </script>"
      ],
      "text/plain": [
       "<circuitsvis.utils.render.RenderedHTML at 0x7fb9900e1d50>"
      ]
     },
     "metadata": {},
     "output_type": "display_data"
    },
    {
     "name": "stdout",
     "output_type": "stream",
     "text": [
      "Adapter 29\n"
     ]
    },
    {
     "data": {
      "text/html": [
       "<div id=\"circuits-vis-c62a6e55-4f27\" style=\"margin: 15px 0;\"/>\n",
       "    <script crossorigin type=\"module\">\n",
       "    import { render, ColoredTokens } from \"https://unpkg.com/circuitsvis@1.43.2/dist/cdn/esm.js\";\n",
       "    render(\n",
       "      \"circuits-vis-c62a6e55-4f27\",\n",
       "      ColoredTokens,\n",
       "      {\"tokens\": [\"<\", \"system\", \">\\n\", \"You\", \" are\", \" a\", \" helpful\", \" assistant\", \"\\n\\n\", \"<\", \"user\", \">\\n\", \"a\", \"=\", \"5\", \"+\", \"8\", \",\", \" b\", \"=\", \"2\", \"+\", \"9\", \".\", \" What\", \" is\", \" a\", \"*b\", \"?\\n\\n\", \"<\", \"assistant\", \">\\n\"], \"values\": [0.2400858849287033, 0.21457131206989288, 0.3777533769607544, 0.27223458886146545, 0.4387558102607727, 0.18077802658081055, 0.19619448482990265, 0.13349437713623047, 0.3007156550884247, 5.064535140991211, 1.486589789390564, 1.1561301946640015, 0.5802316069602966, 0.550897479057312, 0.5296250581741333, 0.6115625500679016, 0.598712682723999, 1.0086604356765747, 1.2135355472564697, 0.9768616557121277, 0.7796458601951599, 0.7125025987625122, 0.8145086765289307, 1.2925877571105957, 1.705553650856018, 1.4018880128860474, 1.9089925289154053, 1.7472023963928223, 3.4457459449768066, 347.3357238769531, 320.3260192871094, 300.44732666015625]}\n",
       "    )\n",
       "    </script>"
      ],
      "text/plain": [
       "<circuitsvis.utils.render.RenderedHTML at 0x7fb9900e1d50>"
      ]
     },
     "metadata": {},
     "output_type": "display_data"
    },
    {
     "name": "stdout",
     "output_type": "stream",
     "text": [
      "Adapter 30\n"
     ]
    },
    {
     "data": {
      "text/html": [
       "<div id=\"circuits-vis-bf7f10a1-b618\" style=\"margin: 15px 0;\"/>\n",
       "    <script crossorigin type=\"module\">\n",
       "    import { render, ColoredTokens } from \"https://unpkg.com/circuitsvis@1.43.2/dist/cdn/esm.js\";\n",
       "    render(\n",
       "      \"circuits-vis-bf7f10a1-b618\",\n",
       "      ColoredTokens,\n",
       "      {\"tokens\": [\"<\", \"system\", \">\\n\", \"You\", \" are\", \" a\", \" helpful\", \" assistant\", \"\\n\\n\", \"<\", \"user\", \">\\n\", \"a\", \"=\", \"5\", \"+\", \"8\", \",\", \" b\", \"=\", \"2\", \"+\", \"9\", \".\", \" What\", \" is\", \" a\", \"*b\", \"?\\n\\n\", \"<\", \"assistant\", \">\\n\"], \"values\": [0.23878204822540283, 0.22464580833911896, 0.37559735774993896, 0.2717415392398834, 0.42189064621925354, 0.17896303534507751, 0.19682526588439941, 0.13257503509521484, 0.2993493974208832, 5.079526424407959, 1.4938173294067383, 1.1487728357315063, 0.5772435069084167, 0.5355252027511597, 0.5271478891372681, 0.6109496355056763, 0.5997752547264099, 0.9944809079170227, 1.2014212608337402, 0.9658625721931458, 0.7745293974876404, 0.705625057220459, 0.8062261343002319, 1.2710484266281128, 1.7049427032470703, 1.391487956047058, 1.8854774236679077, 1.724180817604065, 3.3351473808288574, 347.5643310546875, 321.46929931640625, 301.3803405761719]}\n",
       "    )\n",
       "    </script>"
      ],
      "text/plain": [
       "<circuitsvis.utils.render.RenderedHTML at 0x7fb9900e1d50>"
      ]
     },
     "metadata": {},
     "output_type": "display_data"
    },
    {
     "name": "stdout",
     "output_type": "stream",
     "text": [
      "Adapter 31\n"
     ]
    },
    {
     "data": {
      "text/html": [
       "<div id=\"circuits-vis-1e59e2ea-a550\" style=\"margin: 15px 0;\"/>\n",
       "    <script crossorigin type=\"module\">\n",
       "    import { render, ColoredTokens } from \"https://unpkg.com/circuitsvis@1.43.2/dist/cdn/esm.js\";\n",
       "    render(\n",
       "      \"circuits-vis-1e59e2ea-a550\",\n",
       "      ColoredTokens,\n",
       "      {\"tokens\": [\"<\", \"system\", \">\\n\", \"You\", \" are\", \" a\", \" helpful\", \" assistant\", \"\\n\\n\", \"<\", \"user\", \">\\n\", \"a\", \"=\", \"5\", \"+\", \"8\", \",\", \" b\", \"=\", \"2\", \"+\", \"9\", \".\", \" What\", \" is\", \" a\", \"*b\", \"?\\n\\n\", \"<\", \"assistant\", \">\\n\"], \"values\": [0.24890044331550598, 0.3363198935985565, 0.385444700717926, 0.27058446407318115, 0.4358200430870056, 0.19176499545574188, 0.20237894356250763, 0.15093468129634857, 0.31554490327835083, 5.083998203277588, 1.4903913736343384, 1.1551225185394287, 0.5767189264297485, 0.5559525489807129, 0.5286601185798645, 0.6145808696746826, 0.6029680967330933, 1.0204389095306396, 1.2145103216171265, 0.9837345480918884, 0.7856069803237915, 0.7123522162437439, 0.821787416934967, 1.3099474906921387, 1.7145756483078003, 1.4124161005020142, 1.9291629791259766, 1.7544845342636108, 3.4789481163024902, 349.6714172363281, 320.20477294921875, 299.5112609863281]}\n",
       "    )\n",
       "    </script>"
      ],
      "text/plain": [
       "<circuitsvis.utils.render.RenderedHTML at 0x7fb96b6e6620>"
      ]
     },
     "metadata": {},
     "output_type": "display_data"
    },
    {
     "name": "stdout",
     "output_type": "stream",
     "text": [
      "Adapter 32\n"
     ]
    },
    {
     "data": {
      "text/html": [
       "<div id=\"circuits-vis-6f4900b6-f94c\" style=\"margin: 15px 0;\"/>\n",
       "    <script crossorigin type=\"module\">\n",
       "    import { render, ColoredTokens } from \"https://unpkg.com/circuitsvis@1.43.2/dist/cdn/esm.js\";\n",
       "    render(\n",
       "      \"circuits-vis-6f4900b6-f94c\",\n",
       "      ColoredTokens,\n",
       "      {\"tokens\": [\"<\", \"system\", \">\\n\", \"You\", \" are\", \" a\", \" helpful\", \" assistant\", \"\\n\\n\", \"<\", \"user\", \">\\n\", \"a\", \"=\", \"5\", \"+\", \"8\", \",\", \" b\", \"=\", \"2\", \"+\", \"9\", \".\", \" What\", \" is\", \" a\", \"*b\", \"?\\n\\n\", \"<\", \"assistant\", \">\\n\"], \"values\": [0.32015514373779297, 0.4509848356246948, 0.5040462017059326, 0.2694948613643646, 0.3453920781612396, 0.2131122201681137, 0.24161745607852936, 0.20334431529045105, 0.432267963886261, 0.5547493696212769, 0.2393716424703598, 0.3532651960849762, 0.5496404767036438, 0.7089023590087891, 0.7404801845550537, 0.8727315664291382, 0.7171283960342407, 2.1041910648345947, 1.5417777299880981, 1.6627548933029175, 1.101363182067871, 1.1469100713729858, 1.0160548686981201, 2.845612049102783, 2.510629415512085, 2.335597038269043, 2.2873477935791016, 2.2186548709869385, 100.40878295898438, 152.4613800048828, 224.0627899169922, 232.74429321289062]}\n",
       "    )\n",
       "    </script>"
      ],
      "text/plain": [
       "<circuitsvis.utils.render.RenderedHTML at 0x7fb96b6e7850>"
      ]
     },
     "metadata": {},
     "output_type": "display_data"
    },
    {
     "name": "stdout",
     "output_type": "stream",
     "text": [
      "Adapter 33\n"
     ]
    },
    {
     "data": {
      "text/html": [
       "<div id=\"circuits-vis-d2563c07-5ab6\" style=\"margin: 15px 0;\"/>\n",
       "    <script crossorigin type=\"module\">\n",
       "    import { render, ColoredTokens } from \"https://unpkg.com/circuitsvis@1.43.2/dist/cdn/esm.js\";\n",
       "    render(\n",
       "      \"circuits-vis-d2563c07-5ab6\",\n",
       "      ColoredTokens,\n",
       "      {\"tokens\": [\"<\", \"system\", \">\\n\", \"You\", \" are\", \" a\", \" helpful\", \" assistant\", \"\\n\\n\", \"<\", \"user\", \">\\n\", \"a\", \"=\", \"5\", \"+\", \"8\", \",\", \" b\", \"=\", \"2\", \"+\", \"9\", \".\", \" What\", \" is\", \" a\", \"*b\", \"?\\n\\n\", \"<\", \"assistant\", \">\\n\"], \"values\": [0.23724523186683655, 0.17434927821159363, 0.3797595500946045, 0.2804323732852936, 0.43705281615257263, 0.1794005036354065, 0.19682787358760834, 0.1300954520702362, 0.2975795269012451, 5.039304733276367, 1.4781618118286133, 1.148293375968933, 0.5760897994041443, 0.5374377965927124, 0.5271140336990356, 0.6110293865203857, 0.5981355309486389, 0.9984074831008911, 1.2055679559707642, 0.9717770218849182, 0.7767536640167236, 0.7122690081596375, 0.8093301057815552, 1.2755041122436523, 1.7058876752853394, 1.3952945470809937, 1.8887566328048706, 1.7283096313476562, 3.391227960586548, 346.5399475097656, 320.66546630859375, 301.0239562988281]}\n",
       "    )\n",
       "    </script>"
      ],
      "text/plain": [
       "<circuitsvis.utils.render.RenderedHTML at 0x7fb96b6e79d0>"
      ]
     },
     "metadata": {},
     "output_type": "display_data"
    },
    {
     "name": "stdout",
     "output_type": "stream",
     "text": [
      "Adapter 34\n"
     ]
    },
    {
     "data": {
      "text/html": [
       "<div id=\"circuits-vis-8dd7828a-129e\" style=\"margin: 15px 0;\"/>\n",
       "    <script crossorigin type=\"module\">\n",
       "    import { render, ColoredTokens } from \"https://unpkg.com/circuitsvis@1.43.2/dist/cdn/esm.js\";\n",
       "    render(\n",
       "      \"circuits-vis-8dd7828a-129e\",\n",
       "      ColoredTokens,\n",
       "      {\"tokens\": [\"<\", \"system\", \">\\n\", \"You\", \" are\", \" a\", \" helpful\", \" assistant\", \"\\n\\n\", \"<\", \"user\", \">\\n\", \"a\", \"=\", \"5\", \"+\", \"8\", \",\", \" b\", \"=\", \"2\", \"+\", \"9\", \".\", \" What\", \" is\", \" a\", \"*b\", \"?\\n\\n\", \"<\", \"assistant\", \">\\n\"], \"values\": [0.2754862904548645, 0.056646738201379776, 0.4810231029987335, 0.17069795727729797, 0.3184295892715454, 0.1632947027683258, 0.1808839738368988, 0.13604918122291565, 0.44182080030441284, 0.5394681692123413, 0.2195165604352951, 0.35910624265670776, 0.5182172060012817, 0.7696565389633179, 0.8320879340171814, 0.9194697737693787, 0.7887388467788696, 2.1622135639190674, 1.690693974494934, 1.60177743434906, 1.1292215585708618, 1.074295997619629, 1.0593206882476807, 3.148771286010742, 2.707796573638916, 2.5846261978149414, 2.641054630279541, 2.526127576828003, 184.73147583007812, 195.87745666503906, 410.5499267578125, 411.2654724121094]}\n",
       "    )\n",
       "    </script>"
      ],
      "text/plain": [
       "<circuitsvis.utils.render.RenderedHTML at 0x7fb96b6e6b30>"
      ]
     },
     "metadata": {},
     "output_type": "display_data"
    },
    {
     "name": "stdout",
     "output_type": "stream",
     "text": [
      "Adapter 35\n"
     ]
    },
    {
     "data": {
      "text/html": [
       "<div id=\"circuits-vis-323890f6-82a9\" style=\"margin: 15px 0;\"/>\n",
       "    <script crossorigin type=\"module\">\n",
       "    import { render, ColoredTokens } from \"https://unpkg.com/circuitsvis@1.43.2/dist/cdn/esm.js\";\n",
       "    render(\n",
       "      \"circuits-vis-323890f6-82a9\",\n",
       "      ColoredTokens,\n",
       "      {\"tokens\": [\"<\", \"system\", \">\\n\", \"You\", \" are\", \" a\", \" helpful\", \" assistant\", \"\\n\\n\", \"<\", \"user\", \">\\n\", \"a\", \"=\", \"5\", \"+\", \"8\", \",\", \" b\", \"=\", \"2\", \"+\", \"9\", \".\", \" What\", \" is\", \" a\", \"*b\", \"?\\n\\n\", \"<\", \"assistant\", \">\\n\"], \"values\": [0.2376183122396469, 0.1519055962562561, 0.38336002826690674, 0.28886404633522034, 0.451431006193161, 0.18183103203773499, 0.19731773436069489, 0.13087336719036102, 0.29908856749534607, 5.041964054107666, 1.4768699407577515, 1.1547441482543945, 0.5782662630081177, 0.5419403314590454, 0.5285841226577759, 0.6110000014305115, 0.5961780548095703, 1.005035400390625, 1.2155321836471558, 0.9787797927856445, 0.7800000905990601, 0.7171332836151123, 0.8131723403930664, 1.287599802017212, 1.7200287580490112, 1.41286039352417, 1.9124191999435425, 1.7497385740280151, 3.458301544189453, 346.5332336425781, 319.9126892089844, 300.25811767578125]}\n",
       "    )\n",
       "    </script>"
      ],
      "text/plain": [
       "<circuitsvis.utils.render.RenderedHTML at 0x7fb96b6e6bf0>"
      ]
     },
     "metadata": {},
     "output_type": "display_data"
    },
    {
     "name": "stdout",
     "output_type": "stream",
     "text": [
      "Adapter 36\n"
     ]
    },
    {
     "data": {
      "text/html": [
       "<div id=\"circuits-vis-0a67b6b7-af26\" style=\"margin: 15px 0;\"/>\n",
       "    <script crossorigin type=\"module\">\n",
       "    import { render, ColoredTokens } from \"https://unpkg.com/circuitsvis@1.43.2/dist/cdn/esm.js\";\n",
       "    render(\n",
       "      \"circuits-vis-0a67b6b7-af26\",\n",
       "      ColoredTokens,\n",
       "      {\"tokens\": [\"<\", \"system\", \">\\n\", \"You\", \" are\", \" a\", \" helpful\", \" assistant\", \"\\n\\n\", \"<\", \"user\", \">\\n\", \"a\", \"=\", \"5\", \"+\", \"8\", \",\", \" b\", \"=\", \"2\", \"+\", \"9\", \".\", \" What\", \" is\", \" a\", \"*b\", \"?\\n\\n\", \"<\", \"assistant\", \">\\n\"], \"values\": [0.2420450747013092, 0.3239026665687561, 0.38029298186302185, 0.26946911215782166, 0.40259242057800293, 0.18482299149036407, 0.1994461864233017, 0.1442943960428238, 0.307705819606781, 5.105116844177246, 1.504162311553955, 1.141876459121704, 0.5746036767959595, 0.5284366607666016, 0.519832193851471, 0.6099106073379517, 0.599727213382721, 0.9863234758377075, 1.1907442808151245, 0.9521496295928955, 0.7676607966423035, 0.6953842043876648, 0.8006469011306763, 1.2603793144226074, 1.6788769960403442, 1.3608852624893188, 1.8618417978286743, 1.6937090158462524, 3.2365803718566895, 349.3136901855469, 322.1217956542969, 301.5633850097656]}\n",
       "    )\n",
       "    </script>"
      ],
      "text/plain": [
       "<circuitsvis.utils.render.RenderedHTML at 0x7fb96b6e70d0>"
      ]
     },
     "metadata": {},
     "output_type": "display_data"
    },
    {
     "name": "stdout",
     "output_type": "stream",
     "text": [
      "Adapter 37\n"
     ]
    },
    {
     "data": {
      "text/html": [
       "<div id=\"circuits-vis-77860569-835e\" style=\"margin: 15px 0;\"/>\n",
       "    <script crossorigin type=\"module\">\n",
       "    import { render, ColoredTokens } from \"https://unpkg.com/circuitsvis@1.43.2/dist/cdn/esm.js\";\n",
       "    render(\n",
       "      \"circuits-vis-77860569-835e\",\n",
       "      ColoredTokens,\n",
       "      {\"tokens\": [\"<\", \"system\", \">\\n\", \"You\", \" are\", \" a\", \" helpful\", \" assistant\", \"\\n\\n\", \"<\", \"user\", \">\\n\", \"a\", \"=\", \"5\", \"+\", \"8\", \",\", \" b\", \"=\", \"2\", \"+\", \"9\", \".\", \" What\", \" is\", \" a\", \"*b\", \"?\\n\\n\", \"<\", \"assistant\", \">\\n\"], \"values\": [0.2386418730020523, 0.2117016762495041, 0.3776913583278656, 0.27587905526161194, 0.44028377532958984, 0.1812746524810791, 0.19771717488765717, 0.13380885124206543, 0.30054542422294617, 5.055487632751465, 1.4832206964492798, 1.1555838584899902, 0.5795448422431946, 0.5499065518379211, 0.5289680361747742, 0.6114385724067688, 0.5979867577552795, 1.0065021514892578, 1.2127827405929565, 0.974018931388855, 0.7778561115264893, 0.7112314701080322, 0.8122392296791077, 1.287601113319397, 1.7059012651443481, 1.4003865718841553, 1.9068603515625, 1.7405353784561157, 3.4348793029785156, 346.6097106933594, 320.1506652832031, 300.54302978515625]}\n",
       "    )\n",
       "    </script>"
      ],
      "text/plain": [
       "<circuitsvis.utils.render.RenderedHTML at 0x7fb96b6e64d0>"
      ]
     },
     "metadata": {},
     "output_type": "display_data"
    },
    {
     "name": "stdout",
     "output_type": "stream",
     "text": [
      "Adapter 38\n"
     ]
    },
    {
     "data": {
      "text/html": [
       "<div id=\"circuits-vis-cfb1adec-0a89\" style=\"margin: 15px 0;\"/>\n",
       "    <script crossorigin type=\"module\">\n",
       "    import { render, ColoredTokens } from \"https://unpkg.com/circuitsvis@1.43.2/dist/cdn/esm.js\";\n",
       "    render(\n",
       "      \"circuits-vis-cfb1adec-0a89\",\n",
       "      ColoredTokens,\n",
       "      {\"tokens\": [\"<\", \"system\", \">\\n\", \"You\", \" are\", \" a\", \" helpful\", \" assistant\", \"\\n\\n\", \"<\", \"user\", \">\\n\", \"a\", \"=\", \"5\", \"+\", \"8\", \",\", \" b\", \"=\", \"2\", \"+\", \"9\", \".\", \" What\", \" is\", \" a\", \"*b\", \"?\\n\\n\", \"<\", \"assistant\", \">\\n\"], \"values\": [0.24408221244812012, 0.31052300333976746, 0.3799135088920593, 0.2702924609184265, 0.40661096572875977, 0.18412424623966217, 0.1983523964881897, 0.1423695683479309, 0.307062566280365, 5.098804473876953, 1.5009595155715942, 1.1413581371307373, 0.5742829442024231, 0.5310883522033691, 0.5219502449035645, 0.6148949265480042, 0.6026718616485596, 0.9912294745445251, 1.1961262226104736, 0.9598172903060913, 0.7721666097640991, 0.7009466290473938, 0.8056012392044067, 1.2656887769699097, 1.6963112354278564, 1.3815052509307861, 1.8827097415924072, 1.7116138935089111, 3.276949405670166, 349.028564453125, 321.6367492675781, 301.3738708496094]}\n",
       "    )\n",
       "    </script>"
      ],
      "text/plain": [
       "<circuitsvis.utils.render.RenderedHTML at 0x7fb96b6e6080>"
      ]
     },
     "metadata": {},
     "output_type": "display_data"
    },
    {
     "name": "stdout",
     "output_type": "stream",
     "text": [
      "Adapter 39\n"
     ]
    },
    {
     "data": {
      "text/html": [
       "<div id=\"circuits-vis-7c6e2949-a792\" style=\"margin: 15px 0;\"/>\n",
       "    <script crossorigin type=\"module\">\n",
       "    import { render, ColoredTokens } from \"https://unpkg.com/circuitsvis@1.43.2/dist/cdn/esm.js\";\n",
       "    render(\n",
       "      \"circuits-vis-7c6e2949-a792\",\n",
       "      ColoredTokens,\n",
       "      {\"tokens\": [\"<\", \"system\", \">\\n\", \"You\", \" are\", \" a\", \" helpful\", \" assistant\", \"\\n\\n\", \"<\", \"user\", \">\\n\", \"a\", \"=\", \"5\", \"+\", \"8\", \",\", \" b\", \"=\", \"2\", \"+\", \"9\", \".\", \" What\", \" is\", \" a\", \"*b\", \"?\\n\\n\", \"<\", \"assistant\", \">\\n\"], \"values\": [0.3203195333480835, 0.5649075508117676, 0.5259472131729126, 0.33162251114845276, 0.3314273953437805, 0.23940891027450562, 0.22643770277500153, 0.19756126403808594, 0.48460063338279724, 0.4058735966682434, 0.2720954120159149, 0.292185515165329, 0.5172738432884216, 0.7303173542022705, 0.7637881636619568, 0.8647318482398987, 0.7464401125907898, 1.9631872177124023, 1.5684263706207275, 1.6074936389923096, 1.0863174200057983, 1.1036584377288818, 1.0090736150741577, 2.6994879245758057, 2.5450541973114014, 2.308103084564209, 2.442513942718506, 2.516261339187622, 92.74089050292969, 153.710693359375, 227.14683532714844, 231.8723602294922]}\n",
       "    )\n",
       "    </script>"
      ],
      "text/plain": [
       "<circuitsvis.utils.render.RenderedHTML at 0x7fb96b6e65f0>"
      ]
     },
     "metadata": {},
     "output_type": "display_data"
    },
    {
     "name": "stdout",
     "output_type": "stream",
     "text": [
      "Adapter 40\n"
     ]
    },
    {
     "data": {
      "text/html": [
       "<div id=\"circuits-vis-a6d314b5-350e\" style=\"margin: 15px 0;\"/>\n",
       "    <script crossorigin type=\"module\">\n",
       "    import { render, ColoredTokens } from \"https://unpkg.com/circuitsvis@1.43.2/dist/cdn/esm.js\";\n",
       "    render(\n",
       "      \"circuits-vis-a6d314b5-350e\",\n",
       "      ColoredTokens,\n",
       "      {\"tokens\": [\"<\", \"system\", \">\\n\", \"You\", \" are\", \" a\", \" helpful\", \" assistant\", \"\\n\\n\", \"<\", \"user\", \">\\n\", \"a\", \"=\", \"5\", \"+\", \"8\", \",\", \" b\", \"=\", \"2\", \"+\", \"9\", \".\", \" What\", \" is\", \" a\", \"*b\", \"?\\n\\n\", \"<\", \"assistant\", \">\\n\"], \"values\": [0.2416400909423828, 0.27536740899086, 0.3774503767490387, 0.26922541856765747, 0.4106418788433075, 0.1810430884361267, 0.19690750539302826, 0.13737468421459198, 0.30376529693603516, 5.089187145233154, 1.4975250959396362, 1.1440281867980957, 0.5758482813835144, 0.5318638682365417, 0.5220101475715637, 0.6107672452926636, 0.5988984107971191, 0.9881970286369324, 1.1962625980377197, 0.9600554704666138, 0.7715214490890503, 0.7012454867362976, 0.8026764988899231, 1.2649050951004028, 1.698171854019165, 1.3835420608520508, 1.8781814575195312, 1.7102822065353394, 3.2926154136657715, 347.83538818359375, 321.9333801269531, 301.50531005859375]}\n",
       "    )\n",
       "    </script>"
      ],
      "text/plain": [
       "<circuitsvis.utils.render.RenderedHTML at 0x7fb96b6e7a30>"
      ]
     },
     "metadata": {},
     "output_type": "display_data"
    },
    {
     "name": "stdout",
     "output_type": "stream",
     "text": [
      "Adapter 41\n"
     ]
    },
    {
     "data": {
      "text/html": [
       "<div id=\"circuits-vis-bd14a8f7-a5d9\" style=\"margin: 15px 0;\"/>\n",
       "    <script crossorigin type=\"module\">\n",
       "    import { render, ColoredTokens } from \"https://unpkg.com/circuitsvis@1.43.2/dist/cdn/esm.js\";\n",
       "    render(\n",
       "      \"circuits-vis-bd14a8f7-a5d9\",\n",
       "      ColoredTokens,\n",
       "      {\"tokens\": [\"<\", \"system\", \">\\n\", \"You\", \" are\", \" a\", \" helpful\", \" assistant\", \"\\n\\n\", \"<\", \"user\", \">\\n\", \"a\", \"=\", \"5\", \"+\", \"8\", \",\", \" b\", \"=\", \"2\", \"+\", \"9\", \".\", \" What\", \" is\", \" a\", \"*b\", \"?\\n\\n\", \"<\", \"assistant\", \">\\n\"], \"values\": [0.29900404810905457, 0.1855977475643158, 0.44837310910224915, 0.17632269859313965, 0.24860434234142303, 0.13468235731124878, 0.14202092587947845, 0.10527937859296799, 0.39350584149360657, 0.5426487922668457, 0.19292578101158142, 0.2774204611778259, 0.5081702470779419, 0.7100247144699097, 0.7753877639770508, 0.8851174116134644, 0.7538763284683228, 2.012498378753662, 1.5462908744812012, 1.5792914628982544, 1.0940946340560913, 1.1039706468582153, 1.0435378551483154, 2.8029680252075195, 2.5172371864318848, 2.3358891010284424, 2.407468795776367, 2.314528226852417, 209.8666534423828, 176.51048278808594, 253.756103515625, 247.4419403076172]}\n",
       "    )\n",
       "    </script>"
      ],
      "text/plain": [
       "<circuitsvis.utils.render.RenderedHTML at 0x7fb96b6e6260>"
      ]
     },
     "metadata": {},
     "output_type": "display_data"
    },
    {
     "name": "stdout",
     "output_type": "stream",
     "text": [
      "Adapter 42\n"
     ]
    },
    {
     "data": {
      "text/html": [
       "<div id=\"circuits-vis-b2462e90-195f\" style=\"margin: 15px 0;\"/>\n",
       "    <script crossorigin type=\"module\">\n",
       "    import { render, ColoredTokens } from \"https://unpkg.com/circuitsvis@1.43.2/dist/cdn/esm.js\";\n",
       "    render(\n",
       "      \"circuits-vis-b2462e90-195f\",\n",
       "      ColoredTokens,\n",
       "      {\"tokens\": [\"<\", \"system\", \">\\n\", \"You\", \" are\", \" a\", \" helpful\", \" assistant\", \"\\n\\n\", \"<\", \"user\", \">\\n\", \"a\", \"=\", \"5\", \"+\", \"8\", \",\", \" b\", \"=\", \"2\", \"+\", \"9\", \".\", \" What\", \" is\", \" a\", \"*b\", \"?\\n\\n\", \"<\", \"assistant\", \">\\n\"], \"values\": [0.25207483768463135, 0.6007041931152344, 0.6793559789657593, 0.3812463581562042, 0.48630180954933167, 0.2917509078979492, 0.3247296214103699, 0.28476518392562866, 0.5308482646942139, 0.7628753781318665, 0.43560537695884705, 0.4101778268814087, 0.5521523356437683, 0.6649179458618164, 0.7819621562957764, 0.8888137340545654, 0.7319844365119934, 2.2276511192321777, 1.5898369550704956, 1.6413325071334839, 1.1579082012176514, 1.1263989210128784, 1.0461452007293701, 2.8694934844970703, 2.64577054977417, 2.5289065837860107, 2.6633191108703613, 2.0818662643432617, 226.9918975830078, 251.41049194335938, 417.55816650390625, 410.208740234375]}\n",
       "    )\n",
       "    </script>"
      ],
      "text/plain": [
       "<circuitsvis.utils.render.RenderedHTML at 0x7fb96b6e7a00>"
      ]
     },
     "metadata": {},
     "output_type": "display_data"
    },
    {
     "name": "stdout",
     "output_type": "stream",
     "text": [
      "Adapter 43\n"
     ]
    },
    {
     "data": {
      "text/html": [
       "<div id=\"circuits-vis-c5bfb302-eb03\" style=\"margin: 15px 0;\"/>\n",
       "    <script crossorigin type=\"module\">\n",
       "    import { render, ColoredTokens } from \"https://unpkg.com/circuitsvis@1.43.2/dist/cdn/esm.js\";\n",
       "    render(\n",
       "      \"circuits-vis-c5bfb302-eb03\",\n",
       "      ColoredTokens,\n",
       "      {\"tokens\": [\"<\", \"system\", \">\\n\", \"You\", \" are\", \" a\", \" helpful\", \" assistant\", \"\\n\\n\", \"<\", \"user\", \">\\n\", \"a\", \"=\", \"5\", \"+\", \"8\", \",\", \" b\", \"=\", \"2\", \"+\", \"9\", \".\", \" What\", \" is\", \" a\", \"*b\", \"?\\n\\n\", \"<\", \"assistant\", \">\\n\"], \"values\": [0.26365402340888977, 0.4491613209247589, 0.6302788257598877, 0.3138717710971832, 0.4359847605228424, 0.25027889013290405, 0.27704960107803345, 0.2244945764541626, 0.4994862675666809, 0.5784788131713867, 0.3451518714427948, 0.3711187541484833, 0.519618034362793, 0.696376383304596, 0.8080398440361023, 0.8971202969551086, 0.8042690753936768, 2.1836860179901123, 1.6546330451965332, 1.5935007333755493, 1.1254737377166748, 1.043684482574463, 1.0214565992355347, 2.682323694229126, 2.6867098808288574, 2.3850784301757812, 2.5652923583984375, 2.632112503051758, 212.9114227294922, 217.09136962890625, 400.00030517578125, 400.49188232421875]}\n",
       "    )\n",
       "    </script>"
      ],
      "text/plain": [
       "<circuitsvis.utils.render.RenderedHTML at 0x7fb96b6e6350>"
      ]
     },
     "metadata": {},
     "output_type": "display_data"
    },
    {
     "name": "stdout",
     "output_type": "stream",
     "text": [
      "Adapter 44\n"
     ]
    },
    {
     "data": {
      "text/html": [
       "<div id=\"circuits-vis-3f1364d6-3259\" style=\"margin: 15px 0;\"/>\n",
       "    <script crossorigin type=\"module\">\n",
       "    import { render, ColoredTokens } from \"https://unpkg.com/circuitsvis@1.43.2/dist/cdn/esm.js\";\n",
       "    render(\n",
       "      \"circuits-vis-3f1364d6-3259\",\n",
       "      ColoredTokens,\n",
       "      {\"tokens\": [\"<\", \"system\", \">\\n\", \"You\", \" are\", \" a\", \" helpful\", \" assistant\", \"\\n\\n\", \"<\", \"user\", \">\\n\", \"a\", \"=\", \"5\", \"+\", \"8\", \",\", \" b\", \"=\", \"2\", \"+\", \"9\", \".\", \" What\", \" is\", \" a\", \"*b\", \"?\\n\\n\", \"<\", \"assistant\", \">\\n\"], \"values\": [0.28826048970222473, 0.09335068613290787, 0.494732141494751, 0.16113066673278809, 0.2735794484615326, 0.14004065096378326, 0.14100375771522522, 0.1007658988237381, 0.4100700616836548, 0.6605038642883301, 0.23751643300056458, 0.31361132860183716, 0.501637876033783, 0.7802295088768005, 0.8453580141067505, 1.0153590440750122, 0.8675513863563538, 2.1367757320404053, 1.5983855724334717, 1.6540660858154297, 1.1519997119903564, 1.2006458044052124, 1.105533480644226, 3.407008171081543, 2.726337432861328, 2.3507606983184814, 2.7731478214263916, 2.7240731716156006, 190.63633728027344, 170.57022094726562, 238.89161682128906, 226.6243896484375]}\n",
       "    )\n",
       "    </script>"
      ],
      "text/plain": [
       "<circuitsvis.utils.render.RenderedHTML at 0x7fb96b6e70a0>"
      ]
     },
     "metadata": {},
     "output_type": "display_data"
    },
    {
     "name": "stdout",
     "output_type": "stream",
     "text": [
      "Adapter 45\n"
     ]
    },
    {
     "data": {
      "text/html": [
       "<div id=\"circuits-vis-ea8d3c5e-c762\" style=\"margin: 15px 0;\"/>\n",
       "    <script crossorigin type=\"module\">\n",
       "    import { render, ColoredTokens } from \"https://unpkg.com/circuitsvis@1.43.2/dist/cdn/esm.js\";\n",
       "    render(\n",
       "      \"circuits-vis-ea8d3c5e-c762\",\n",
       "      ColoredTokens,\n",
       "      {\"tokens\": [\"<\", \"system\", \">\\n\", \"You\", \" are\", \" a\", \" helpful\", \" assistant\", \"\\n\\n\", \"<\", \"user\", \">\\n\", \"a\", \"=\", \"5\", \"+\", \"8\", \",\", \" b\", \"=\", \"2\", \"+\", \"9\", \".\", \" What\", \" is\", \" a\", \"*b\", \"?\\n\\n\", \"<\", \"assistant\", \">\\n\"], \"values\": [0.24712491035461426, 0.2487858384847641, 0.38013339042663574, 0.2715437114238739, 0.4530390202999115, 0.186111718416214, 0.19705435633659363, 0.13974976539611816, 0.3070448040962219, 5.0744805335998535, 1.4900743961334229, 1.1705524921417236, 0.5823234915733337, 0.5605822205543518, 0.534078061580658, 0.6118035912513733, 0.6010144352912903, 1.025086760520935, 1.2278438806533813, 0.9935806393623352, 0.7909623384475708, 0.7171075344085693, 0.8246342539787292, 1.3244216442108154, 1.7357347011566162, 1.427551031112671, 1.9471551179885864, 1.7796144485473633, 3.552518844604492, 348.7383117675781, 319.1924133300781, 298.8695373535156]}\n",
       "    )\n",
       "    </script>"
      ],
      "text/plain": [
       "<circuitsvis.utils.render.RenderedHTML at 0x7fb96b6e7940>"
      ]
     },
     "metadata": {},
     "output_type": "display_data"
    },
    {
     "name": "stdout",
     "output_type": "stream",
     "text": [
      "Adapter 46\n"
     ]
    },
    {
     "data": {
      "text/html": [
       "<div id=\"circuits-vis-a0ac81d3-627c\" style=\"margin: 15px 0;\"/>\n",
       "    <script crossorigin type=\"module\">\n",
       "    import { render, ColoredTokens } from \"https://unpkg.com/circuitsvis@1.43.2/dist/cdn/esm.js\";\n",
       "    render(\n",
       "      \"circuits-vis-a0ac81d3-627c\",\n",
       "      ColoredTokens,\n",
       "      {\"tokens\": [\"<\", \"system\", \">\\n\", \"You\", \" are\", \" a\", \" helpful\", \" assistant\", \"\\n\\n\", \"<\", \"user\", \">\\n\", \"a\", \"=\", \"5\", \"+\", \"8\", \",\", \" b\", \"=\", \"2\", \"+\", \"9\", \".\", \" What\", \" is\", \" a\", \"*b\", \"?\\n\\n\", \"<\", \"assistant\", \">\\n\"], \"values\": [0.2561672031879425, 0.5678244233131409, 0.6853995323181152, 0.35246866941452026, 0.44827425479888916, 0.2837993800640106, 0.28759923577308655, 0.24264690279960632, 0.5399332046508789, 0.7746239900588989, 0.4211558699607849, 0.3909396231174469, 0.6026051640510559, 0.7751991152763367, 0.8197463154792786, 0.9288932085037231, 0.8294639587402344, 2.1144349575042725, 1.7243469953536987, 1.720658779144287, 1.1746842861175537, 1.1462270021438599, 1.0667920112609863, 2.8169167041778564, 2.5931344032287598, 2.573187828063965, 2.639633893966675, 2.597155809402466, 222.05935668945312, 230.2842559814453, 426.2868347167969, 406.0281677246094]}\n",
       "    )\n",
       "    </script>"
      ],
      "text/plain": [
       "<circuitsvis.utils.render.RenderedHTML at 0x7fb96b6e6b30>"
      ]
     },
     "metadata": {},
     "output_type": "display_data"
    },
    {
     "name": "stdout",
     "output_type": "stream",
     "text": [
      "Adapter 47\n"
     ]
    },
    {
     "data": {
      "text/html": [
       "<div id=\"circuits-vis-274e60bb-28ea\" style=\"margin: 15px 0;\"/>\n",
       "    <script crossorigin type=\"module\">\n",
       "    import { render, ColoredTokens } from \"https://unpkg.com/circuitsvis@1.43.2/dist/cdn/esm.js\";\n",
       "    render(\n",
       "      \"circuits-vis-274e60bb-28ea\",\n",
       "      ColoredTokens,\n",
       "      {\"tokens\": [\"<\", \"system\", \">\\n\", \"You\", \" are\", \" a\", \" helpful\", \" assistant\", \"\\n\\n\", \"<\", \"user\", \">\\n\", \"a\", \"=\", \"5\", \"+\", \"8\", \",\", \" b\", \"=\", \"2\", \"+\", \"9\", \".\", \" What\", \" is\", \" a\", \"*b\", \"?\\n\\n\", \"<\", \"assistant\", \">\\n\"], \"values\": [0.24424730241298676, 0.25628310441970825, 0.37852567434310913, 0.2681795060634613, 0.4394158124923706, 0.18367014825344086, 0.19653409719467163, 0.13843390345573425, 0.3049144744873047, 5.068883419036865, 1.488274335861206, 1.157976746559143, 0.5798293352127075, 0.5545646548271179, 0.5296964645385742, 0.6129631400108337, 0.6003552675247192, 1.0154292583465576, 1.2174251079559326, 0.9812644720077515, 0.78329998254776, 0.7135472893714905, 0.819352388381958, 1.3039251565933228, 1.7140635251998901, 1.4112257957458496, 1.9245755672454834, 1.759831428527832, 3.479585886001587, 348.2208557128906, 320.10723876953125, 299.9181213378906]}\n",
       "    )\n",
       "    </script>"
      ],
      "text/plain": [
       "<circuitsvis.utils.render.RenderedHTML at 0x7fb96b6e6290>"
      ]
     },
     "metadata": {},
     "output_type": "display_data"
    },
    {
     "name": "stdout",
     "output_type": "stream",
     "text": [
      "Adapter 48\n"
     ]
    },
    {
     "data": {
      "text/html": [
       "<div id=\"circuits-vis-fe10767b-2962\" style=\"margin: 15px 0;\"/>\n",
       "    <script crossorigin type=\"module\">\n",
       "    import { render, ColoredTokens } from \"https://unpkg.com/circuitsvis@1.43.2/dist/cdn/esm.js\";\n",
       "    render(\n",
       "      \"circuits-vis-fe10767b-2962\",\n",
       "      ColoredTokens,\n",
       "      {\"tokens\": [\"<\", \"system\", \">\\n\", \"You\", \" are\", \" a\", \" helpful\", \" assistant\", \"\\n\\n\", \"<\", \"user\", \">\\n\", \"a\", \"=\", \"5\", \"+\", \"8\", \",\", \" b\", \"=\", \"2\", \"+\", \"9\", \".\", \" What\", \" is\", \" a\", \"*b\", \"?\\n\\n\", \"<\", \"assistant\", \">\\n\"], \"values\": [0.23826512694358826, 0.18674762547016144, 0.37930557131767273, 0.2805210053920746, 0.43749842047691345, 0.1802264153957367, 0.19856475293636322, 0.13178950548171997, 0.30009207129478455, 5.0544352531433105, 1.483320951461792, 1.1545038223266602, 0.5789397954940796, 0.5414524078369141, 0.5292719602584839, 0.6108148097991943, 0.597734808921814, 0.9993069171905518, 1.2005836963653564, 0.9714892506599426, 0.7763106822967529, 0.7107442021369934, 0.8086424469947815, 1.2774583101272583, 1.7053922414779663, 1.3949196338653564, 1.884838581085205, 1.7276512384414673, 3.395413637161255, 346.570556640625, 320.6134338378906, 300.9294128417969]}\n",
       "    )\n",
       "    </script>"
      ],
      "text/plain": [
       "<circuitsvis.utils.render.RenderedHTML at 0x7fb96b6e6620>"
      ]
     },
     "metadata": {},
     "output_type": "display_data"
    },
    {
     "name": "stdout",
     "output_type": "stream",
     "text": [
      "Adapter 49\n"
     ]
    },
    {
     "data": {
      "text/html": [
       "<div id=\"circuits-vis-abd8daf9-9264\" style=\"margin: 15px 0;\"/>\n",
       "    <script crossorigin type=\"module\">\n",
       "    import { render, ColoredTokens } from \"https://unpkg.com/circuitsvis@1.43.2/dist/cdn/esm.js\";\n",
       "    render(\n",
       "      \"circuits-vis-abd8daf9-9264\",\n",
       "      ColoredTokens,\n",
       "      {\"tokens\": [\"<\", \"system\", \">\\n\", \"You\", \" are\", \" a\", \" helpful\", \" assistant\", \"\\n\\n\", \"<\", \"user\", \">\\n\", \"a\", \"=\", \"5\", \"+\", \"8\", \",\", \" b\", \"=\", \"2\", \"+\", \"9\", \".\", \" What\", \" is\", \" a\", \"*b\", \"?\\n\\n\", \"<\", \"assistant\", \">\\n\"], \"values\": [0.2210976630449295, 1.127631664276123, 0.9923239350318909, 0.6055272817611694, 0.6676082611083984, 0.4522852897644043, 0.46379804611206055, 0.4207753539085388, 0.7364034056663513, 1.1533290147781372, 0.6605545282363892, 0.5926415324211121, 0.6361270546913147, 0.7520918846130371, 0.8865828514099121, 0.9941238164901733, 0.8540971875190735, 2.272388219833374, 1.6990383863449097, 1.6689327955245972, 1.1885647773742676, 1.147011399269104, 1.0796349048614502, 3.010037899017334, 2.7963759899139404, 2.8003218173980713, 3.0229973793029785, 2.6351208686828613, 240.6925506591797, 249.80020141601562, 420.8968200683594, 407.5941162109375]}\n",
       "    )\n",
       "    </script>"
      ],
      "text/plain": [
       "<circuitsvis.utils.render.RenderedHTML at 0x7fb96b6e6080>"
      ]
     },
     "metadata": {},
     "output_type": "display_data"
    },
    {
     "name": "stdout",
     "output_type": "stream",
     "text": [
      "Adapter 50\n"
     ]
    },
    {
     "data": {
      "text/html": [
       "<div id=\"circuits-vis-e5f92f13-f3b7\" style=\"margin: 15px 0;\"/>\n",
       "    <script crossorigin type=\"module\">\n",
       "    import { render, ColoredTokens } from \"https://unpkg.com/circuitsvis@1.43.2/dist/cdn/esm.js\";\n",
       "    render(\n",
       "      \"circuits-vis-e5f92f13-f3b7\",\n",
       "      ColoredTokens,\n",
       "      {\"tokens\": [\"<\", \"system\", \">\\n\", \"You\", \" are\", \" a\", \" helpful\", \" assistant\", \"\\n\\n\", \"<\", \"user\", \">\\n\", \"a\", \"=\", \"5\", \"+\", \"8\", \",\", \" b\", \"=\", \"2\", \"+\", \"9\", \".\", \" What\", \" is\", \" a\", \"*b\", \"?\\n\\n\", \"<\", \"assistant\", \">\\n\"], \"values\": [0.25654011964797974, 0.40273645520210266, 0.4008832275867462, 0.29095491766929626, 0.45794564485549927, 0.20657682418823242, 0.207558736205101, 0.1670062243938446, 0.3329009413719177, 5.088093280792236, 1.4997769594192505, 1.1610454320907593, 0.571751058101654, 0.5608166456222534, 0.5404400825500488, 0.6319646239280701, 0.6168635487556458, 1.054577112197876, 1.2371282577514648, 1.0131888389587402, 0.814477264881134, 0.7370443344116211, 0.8479595184326172, 1.365339756011963, 1.7597038745880127, 1.450260877609253, 1.9776095151901245, 1.771316647529602, 3.634366750717163, 353.1973571777344, 318.27093505859375, 296.2513122558594]}\n",
       "    )\n",
       "    </script>"
      ],
      "text/plain": [
       "<circuitsvis.utils.render.RenderedHTML at 0x7fb96b6e72b0>"
      ]
     },
     "metadata": {},
     "output_type": "display_data"
    },
    {
     "name": "stdout",
     "output_type": "stream",
     "text": [
      "Adapter 51\n"
     ]
    },
    {
     "data": {
      "text/html": [
       "<div id=\"circuits-vis-0919c6ef-b067\" style=\"margin: 15px 0;\"/>\n",
       "    <script crossorigin type=\"module\">\n",
       "    import { render, ColoredTokens } from \"https://unpkg.com/circuitsvis@1.43.2/dist/cdn/esm.js\";\n",
       "    render(\n",
       "      \"circuits-vis-0919c6ef-b067\",\n",
       "      ColoredTokens,\n",
       "      {\"tokens\": [\"<\", \"system\", \">\\n\", \"You\", \" are\", \" a\", \" helpful\", \" assistant\", \"\\n\\n\", \"<\", \"user\", \">\\n\", \"a\", \"=\", \"5\", \"+\", \"8\", \",\", \" b\", \"=\", \"2\", \"+\", \"9\", \".\", \" What\", \" is\", \" a\", \"*b\", \"?\\n\\n\", \"<\", \"assistant\", \">\\n\"], \"values\": [0.23577599227428436, 0.13728685677051544, 0.38436266779899597, 0.2890617847442627, 0.4490988254547119, 0.18104395270347595, 0.19753676652908325, 0.12954267859458923, 0.2978415787220001, 5.0368499755859375, 1.4755176305770874, 1.1543411016464233, 0.5782511234283447, 0.5392741560935974, 0.5265687108039856, 0.6089638471603394, 0.5944888591766357, 1.0013864040374756, 1.2118114233016968, 0.9742464423179626, 0.7770963907241821, 0.7151418328285217, 0.8097739815711975, 1.2818806171417236, 1.7144148349761963, 1.4036856889724731, 1.898565649986267, 1.7331507205963135, 3.431251049041748, 346.1509094238281, 319.979736328125, 300.4505920410156]}\n",
       "    )\n",
       "    </script>"
      ],
      "text/plain": [
       "<circuitsvis.utils.render.RenderedHTML at 0x7fb96b6e65f0>"
      ]
     },
     "metadata": {},
     "output_type": "display_data"
    },
    {
     "name": "stdout",
     "output_type": "stream",
     "text": [
      "Adapter 52\n"
     ]
    },
    {
     "data": {
      "text/html": [
       "<div id=\"circuits-vis-33482e36-fb7b\" style=\"margin: 15px 0;\"/>\n",
       "    <script crossorigin type=\"module\">\n",
       "    import { render, ColoredTokens } from \"https://unpkg.com/circuitsvis@1.43.2/dist/cdn/esm.js\";\n",
       "    render(\n",
       "      \"circuits-vis-33482e36-fb7b\",\n",
       "      ColoredTokens,\n",
       "      {\"tokens\": [\"<\", \"system\", \">\\n\", \"You\", \" are\", \" a\", \" helpful\", \" assistant\", \"\\n\\n\", \"<\", \"user\", \">\\n\", \"a\", \"=\", \"5\", \"+\", \"8\", \",\", \" b\", \"=\", \"2\", \"+\", \"9\", \".\", \" What\", \" is\", \" a\", \"*b\", \"?\\n\\n\", \"<\", \"assistant\", \">\\n\"], \"values\": [0.33949410915374756, 0.6022032499313354, 0.6318920850753784, 0.3927323520183563, 0.39272916316986084, 0.2690979242324829, 0.29551222920417786, 0.25062811374664307, 0.49434348940849304, 0.5688373446464539, 0.3018844425678253, 0.335920125246048, 0.4406167268753052, 0.6096977591514587, 0.6980050206184387, 0.7178717851638794, 0.6492515206336975, 1.7622398138046265, 1.4415124654769897, 1.4436619281768799, 0.9894372224807739, 0.9603649377822876, 0.9349464774131775, 2.1718709468841553, 2.5185978412628174, 2.0091800689697266, 2.224424123764038, 2.0504727363586426, 219.0659637451172, 215.11231994628906, 359.0934753417969, 362.3524475097656]}\n",
       "    )\n",
       "    </script>"
      ],
      "text/plain": [
       "<circuitsvis.utils.render.RenderedHTML at 0x7fb96b6e7a30>"
      ]
     },
     "metadata": {},
     "output_type": "display_data"
    },
    {
     "name": "stdout",
     "output_type": "stream",
     "text": [
      "Adapter 53\n"
     ]
    },
    {
     "data": {
      "text/html": [
       "<div id=\"circuits-vis-65807314-20da\" style=\"margin: 15px 0;\"/>\n",
       "    <script crossorigin type=\"module\">\n",
       "    import { render, ColoredTokens } from \"https://unpkg.com/circuitsvis@1.43.2/dist/cdn/esm.js\";\n",
       "    render(\n",
       "      \"circuits-vis-65807314-20da\",\n",
       "      ColoredTokens,\n",
       "      {\"tokens\": [\"<\", \"system\", \">\\n\", \"You\", \" are\", \" a\", \" helpful\", \" assistant\", \"\\n\\n\", \"<\", \"user\", \">\\n\", \"a\", \"=\", \"5\", \"+\", \"8\", \",\", \" b\", \"=\", \"2\", \"+\", \"9\", \".\", \" What\", \" is\", \" a\", \"*b\", \"?\\n\\n\", \"<\", \"assistant\", \">\\n\"], \"values\": [0.240595743060112, 1.0379900932312012, 0.8870554566383362, 0.5755442976951599, 0.6023061871528625, 0.4134327173233032, 0.4417869746685028, 0.36079004406929016, 0.6676389575004578, 1.9322985410690308, 0.7899478673934937, 0.6522205471992493, 0.5451799035072327, 0.7689389586448669, 0.7756285667419434, 0.9832732677459717, 0.7659451961517334, 1.855858564376831, 1.4865056276321411, 1.5599530935287476, 1.1272462606430054, 1.073414921760559, 1.0914931297302246, 2.3647072315216064, 2.408237934112549, 2.0492398738861084, 2.519752025604248, 2.1257164478302, 50.073280334472656, 243.64404296875, 310.9879150390625, 295.124267578125]}\n",
       "    )\n",
       "    </script>"
      ],
      "text/plain": [
       "<circuitsvis.utils.render.RenderedHTML at 0x7fb96b6e6920>"
      ]
     },
     "metadata": {},
     "output_type": "display_data"
    },
    {
     "name": "stdout",
     "output_type": "stream",
     "text": [
      "Adapter 54\n"
     ]
    },
    {
     "data": {
      "text/html": [
       "<div id=\"circuits-vis-57480bba-dde1\" style=\"margin: 15px 0;\"/>\n",
       "    <script crossorigin type=\"module\">\n",
       "    import { render, ColoredTokens } from \"https://unpkg.com/circuitsvis@1.43.2/dist/cdn/esm.js\";\n",
       "    render(\n",
       "      \"circuits-vis-57480bba-dde1\",\n",
       "      ColoredTokens,\n",
       "      {\"tokens\": [\"<\", \"system\", \">\\n\", \"You\", \" are\", \" a\", \" helpful\", \" assistant\", \"\\n\\n\", \"<\", \"user\", \">\\n\", \"a\", \"=\", \"5\", \"+\", \"8\", \",\", \" b\", \"=\", \"2\", \"+\", \"9\", \".\", \" What\", \" is\", \" a\", \"*b\", \"?\\n\\n\", \"<\", \"assistant\", \">\\n\"], \"values\": [0.2430926263332367, 0.35867294669151306, 0.3837572932243347, 0.2734600901603699, 0.4020959734916687, 0.18961577117443085, 0.20356449484825134, 0.15106059610843658, 0.31323423981666565, 5.104669094085693, 1.5038261413574219, 1.1420016288757324, 0.5744050145149231, 0.5275628566741943, 0.5176365375518799, 0.6089738607406616, 0.5982544422149658, 0.984114408493042, 1.1878972053527832, 0.9478845000267029, 0.7643809914588928, 0.6920733451843262, 0.7987614870071411, 1.2574609518051147, 1.672142744064331, 1.3525686264038086, 1.8554868698120117, 1.6842557191848755, 3.2169673442840576, 349.4451599121094, 321.5923156738281, 301.4461669921875]}\n",
       "    )\n",
       "    </script>"
      ],
      "text/plain": [
       "<circuitsvis.utils.render.RenderedHTML at 0x7fb96b6e70a0>"
      ]
     },
     "metadata": {},
     "output_type": "display_data"
    },
    {
     "name": "stdout",
     "output_type": "stream",
     "text": [
      "Adapter 55\n"
     ]
    },
    {
     "data": {
      "text/html": [
       "<div id=\"circuits-vis-44ebf2f0-c56f\" style=\"margin: 15px 0;\"/>\n",
       "    <script crossorigin type=\"module\">\n",
       "    import { render, ColoredTokens } from \"https://unpkg.com/circuitsvis@1.43.2/dist/cdn/esm.js\";\n",
       "    render(\n",
       "      \"circuits-vis-44ebf2f0-c56f\",\n",
       "      ColoredTokens,\n",
       "      {\"tokens\": [\"<\", \"system\", \">\\n\", \"You\", \" are\", \" a\", \" helpful\", \" assistant\", \"\\n\\n\", \"<\", \"user\", \">\\n\", \"a\", \"=\", \"5\", \"+\", \"8\", \",\", \" b\", \"=\", \"2\", \"+\", \"9\", \".\", \" What\", \" is\", \" a\", \"*b\", \"?\\n\\n\", \"<\", \"assistant\", \">\\n\"], \"values\": [0.28373101353645325, 0.07172470539808273, 0.4999186396598816, 0.15810677409172058, 0.265141099691391, 0.13718578219413757, 0.13204136490821838, 0.09608369320631027, 0.401638925075531, 0.6512362360954285, 0.23337110877037048, 0.3280889093875885, 0.49868112802505493, 0.7773607969284058, 0.8381890058517456, 1.0091049671173096, 0.8616184592247009, 2.155897378921509, 1.6110326051712036, 1.6867493391036987, 1.1526283025741577, 1.1657668352127075, 1.1038212776184082, 3.367548704147339, 2.620387315750122, 2.318246364593506, 2.6972453594207764, 2.653846025466919, 196.514892578125, 180.53138732910156, 243.5596160888672, 238.36660766601562]}\n",
       "    )\n",
       "    </script>"
      ],
      "text/plain": [
       "<circuitsvis.utils.render.RenderedHTML at 0x7fb96b6e7be0>"
      ]
     },
     "metadata": {},
     "output_type": "display_data"
    },
    {
     "name": "stdout",
     "output_type": "stream",
     "text": [
      "Adapter 56\n"
     ]
    },
    {
     "data": {
      "text/html": [
       "<div id=\"circuits-vis-b4e3bead-51d4\" style=\"margin: 15px 0;\"/>\n",
       "    <script crossorigin type=\"module\">\n",
       "    import { render, ColoredTokens } from \"https://unpkg.com/circuitsvis@1.43.2/dist/cdn/esm.js\";\n",
       "    render(\n",
       "      \"circuits-vis-b4e3bead-51d4\",\n",
       "      ColoredTokens,\n",
       "      {\"tokens\": [\"<\", \"system\", \">\\n\", \"You\", \" are\", \" a\", \" helpful\", \" assistant\", \"\\n\\n\", \"<\", \"user\", \">\\n\", \"a\", \"=\", \"5\", \"+\", \"8\", \",\", \" b\", \"=\", \"2\", \"+\", \"9\", \".\", \" What\", \" is\", \" a\", \"*b\", \"?\\n\\n\", \"<\", \"assistant\", \">\\n\"], \"values\": [0.1079266145825386, 0.9760940670967102, 0.8076702952384949, 0.6093414425849915, 0.7520430684089661, 0.42762377858161926, 0.4447685480117798, 0.3679749667644501, 0.5620976090431213, 5.861245155334473, 1.6079075336456299, 1.0292435884475708, 0.573593020439148, 0.5210736393928528, 0.5891765356063843, 0.6085669994354248, 0.5877167582511902, 1.090709924697876, 1.0931984186172485, 0.8901898860931396, 0.7413771152496338, 0.7618293762207031, 0.7565848231315613, 1.4676774740219116, 1.8472689390182495, 1.322209119796753, 1.8114975690841675, 1.5363004207611084, 3.6365604400634766, 215.61727905273438, 13.797538757324219, 13.448801040649414]}\n",
       "    )\n",
       "    </script>"
      ],
      "text/plain": [
       "<circuitsvis.utils.render.RenderedHTML at 0x7fb96b6e6b30>"
      ]
     },
     "metadata": {},
     "output_type": "display_data"
    },
    {
     "name": "stdout",
     "output_type": "stream",
     "text": [
      "Adapter 57\n"
     ]
    },
    {
     "data": {
      "text/html": [
       "<div id=\"circuits-vis-88703eff-9aa2\" style=\"margin: 15px 0;\"/>\n",
       "    <script crossorigin type=\"module\">\n",
       "    import { render, ColoredTokens } from \"https://unpkg.com/circuitsvis@1.43.2/dist/cdn/esm.js\";\n",
       "    render(\n",
       "      \"circuits-vis-88703eff-9aa2\",\n",
       "      ColoredTokens,\n",
       "      {\"tokens\": [\"<\", \"system\", \">\\n\", \"You\", \" are\", \" a\", \" helpful\", \" assistant\", \"\\n\\n\", \"<\", \"user\", \">\\n\", \"a\", \"=\", \"5\", \"+\", \"8\", \",\", \" b\", \"=\", \"2\", \"+\", \"9\", \".\", \" What\", \" is\", \" a\", \"*b\", \"?\\n\\n\", \"<\", \"assistant\", \">\\n\"], \"values\": [0.24109502136707306, 0.2814881205558777, 0.37740176916122437, 0.26650169491767883, 0.4056077003479004, 0.1803138703107834, 0.19506673514842987, 0.13719569146633148, 0.30247214436531067, 5.0892720222473145, 1.4991549253463745, 1.1405776739120483, 0.5740998387336731, 0.5291221737861633, 0.5205451250076294, 0.6118175983428955, 0.6004226207733154, 0.9882897138595581, 1.1974254846572876, 0.9602153897285461, 0.7715908885002136, 0.7013821005821228, 0.8034302592277527, 1.2629501819610596, 1.68597412109375, 1.3715424537658691, 1.8684213161468506, 1.7043266296386719, 3.26674485206604, 348.4585876464844, 322.0865173339844, 301.6398010253906]}\n",
       "    )\n",
       "    </script>"
      ],
      "text/plain": [
       "<circuitsvis.utils.render.RenderedHTML at 0x7fb96b6e6290>"
      ]
     },
     "metadata": {},
     "output_type": "display_data"
    },
    {
     "name": "stdout",
     "output_type": "stream",
     "text": [
      "Adapter 58\n"
     ]
    },
    {
     "data": {
      "text/html": [
       "<div id=\"circuits-vis-6dcf1f4c-f91c\" style=\"margin: 15px 0;\"/>\n",
       "    <script crossorigin type=\"module\">\n",
       "    import { render, ColoredTokens } from \"https://unpkg.com/circuitsvis@1.43.2/dist/cdn/esm.js\";\n",
       "    render(\n",
       "      \"circuits-vis-6dcf1f4c-f91c\",\n",
       "      ColoredTokens,\n",
       "      {\"tokens\": [\"<\", \"system\", \">\\n\", \"You\", \" are\", \" a\", \" helpful\", \" assistant\", \"\\n\\n\", \"<\", \"user\", \">\\n\", \"a\", \"=\", \"5\", \"+\", \"8\", \",\", \" b\", \"=\", \"2\", \"+\", \"9\", \".\", \" What\", \" is\", \" a\", \"*b\", \"?\\n\\n\", \"<\", \"assistant\", \">\\n\"], \"values\": [0.2479982078075409, 0.4119330048561096, 0.6430639028549194, 0.3376794159412384, 0.43361687660217285, 0.23974239826202393, 0.26722148060798645, 0.2413095086812973, 0.4931895434856415, 0.6281076073646545, 0.3697845935821533, 0.42899200320243835, 0.589384138584137, 0.8401623368263245, 0.8524173498153687, 0.969241738319397, 0.8658785223960876, 2.2106106281280518, 1.722715973854065, 1.7803384065628052, 1.2027076482772827, 1.1564726829528809, 1.1219525337219238, 3.158358573913574, 2.606691837310791, 2.705979824066162, 2.8150906562805176, 2.5546815395355225, 169.50376892089844, 189.89407348632812, 411.95361328125, 392.8986511230469]}\n",
       "    )\n",
       "    </script>"
      ],
      "text/plain": [
       "<circuitsvis.utils.render.RenderedHTML at 0x7fb96b6e6620>"
      ]
     },
     "metadata": {},
     "output_type": "display_data"
    },
    {
     "name": "stdout",
     "output_type": "stream",
     "text": [
      "Adapter 59\n"
     ]
    },
    {
     "data": {
      "text/html": [
       "<div id=\"circuits-vis-c15d5f16-2057\" style=\"margin: 15px 0;\"/>\n",
       "    <script crossorigin type=\"module\">\n",
       "    import { render, ColoredTokens } from \"https://unpkg.com/circuitsvis@1.43.2/dist/cdn/esm.js\";\n",
       "    render(\n",
       "      \"circuits-vis-c15d5f16-2057\",\n",
       "      ColoredTokens,\n",
       "      {\"tokens\": [\"<\", \"system\", \">\\n\", \"You\", \" are\", \" a\", \" helpful\", \" assistant\", \"\\n\\n\", \"<\", \"user\", \">\\n\", \"a\", \"=\", \"5\", \"+\", \"8\", \",\", \" b\", \"=\", \"2\", \"+\", \"9\", \".\", \" What\", \" is\", \" a\", \"*b\", \"?\\n\\n\", \"<\", \"assistant\", \">\\n\"], \"values\": [0.23793435096740723, 0.18469348549842834, 0.3790459632873535, 0.2830435335636139, 0.43882861733436584, 0.17992255091667175, 0.19864080846309662, 0.13134260475635529, 0.29765263199806213, 5.0522637367248535, 1.4769822359085083, 1.1556415557861328, 0.5785755515098572, 0.5390889644622803, 0.5252451300621033, 0.6081400513648987, 0.5961940288543701, 0.9995127320289612, 1.207236647605896, 0.9721512198448181, 0.7751489281654358, 0.7124992609024048, 0.8104919195175171, 1.278824806213379, 1.7074007987976074, 1.4016141891479492, 1.8985419273376465, 1.7252081632614136, 3.4187710285186768, 346.6860656738281, 320.00518798828125, 300.42181396484375]}\n",
       "    )\n",
       "    </script>"
      ],
      "text/plain": [
       "<circuitsvis.utils.render.RenderedHTML at 0x7fb96b6e6080>"
      ]
     },
     "metadata": {},
     "output_type": "display_data"
    },
    {
     "name": "stdout",
     "output_type": "stream",
     "text": [
      "Adapter 60\n"
     ]
    },
    {
     "data": {
      "text/html": [
       "<div id=\"circuits-vis-d83fc7bc-1aef\" style=\"margin: 15px 0;\"/>\n",
       "    <script crossorigin type=\"module\">\n",
       "    import { render, ColoredTokens } from \"https://unpkg.com/circuitsvis@1.43.2/dist/cdn/esm.js\";\n",
       "    render(\n",
       "      \"circuits-vis-d83fc7bc-1aef\",\n",
       "      ColoredTokens,\n",
       "      {\"tokens\": [\"<\", \"system\", \">\\n\", \"You\", \" are\", \" a\", \" helpful\", \" assistant\", \"\\n\\n\", \"<\", \"user\", \">\\n\", \"a\", \"=\", \"5\", \"+\", \"8\", \",\", \" b\", \"=\", \"2\", \"+\", \"9\", \".\", \" What\", \" is\", \" a\", \"*b\", \"?\\n\\n\", \"<\", \"assistant\", \">\\n\"], \"values\": [0.31476303935050964, 0.31035205721855164, 0.46375715732574463, 0.22024516761302948, 0.3336727023124695, 0.17849090695381165, 0.24772515892982483, 0.1971386820077896, 0.42554575204849243, 0.8207464814186096, 0.2906198501586914, 0.36993688344955444, 0.5431598424911499, 0.6946626305580139, 0.7504348754882812, 0.8135238289833069, 0.7260010838508606, 1.960580825805664, 1.535952091217041, 1.5493279695510864, 1.0603457689285278, 1.0742179155349731, 1.0090538263320923, 2.60972261428833, 2.4047434329986572, 2.245429515838623, 2.3178510665893555, 2.3360142707824707, 87.12284851074219, 140.90101623535156, 222.83238220214844, 229.9798126220703]}\n",
       "    )\n",
       "    </script>"
      ],
      "text/plain": [
       "<circuitsvis.utils.render.RenderedHTML at 0x7fb96b6e72b0>"
      ]
     },
     "metadata": {},
     "output_type": "display_data"
    },
    {
     "name": "stdout",
     "output_type": "stream",
     "text": [
      "Adapter 61\n"
     ]
    },
    {
     "data": {
      "text/html": [
       "<div id=\"circuits-vis-72ec53fb-2d9a\" style=\"margin: 15px 0;\"/>\n",
       "    <script crossorigin type=\"module\">\n",
       "    import { render, ColoredTokens } from \"https://unpkg.com/circuitsvis@1.43.2/dist/cdn/esm.js\";\n",
       "    render(\n",
       "      \"circuits-vis-72ec53fb-2d9a\",\n",
       "      ColoredTokens,\n",
       "      {\"tokens\": [\"<\", \"system\", \">\\n\", \"You\", \" are\", \" a\", \" helpful\", \" assistant\", \"\\n\\n\", \"<\", \"user\", \">\\n\", \"a\", \"=\", \"5\", \"+\", \"8\", \",\", \" b\", \"=\", \"2\", \"+\", \"9\", \".\", \" What\", \" is\", \" a\", \"*b\", \"?\\n\\n\", \"<\", \"assistant\", \">\\n\"], \"values\": [0.24580931663513184, 0.2836064100265503, 0.3798891305923462, 0.26781681180000305, 0.43705880641937256, 0.1857587844133377, 0.19746294617652893, 0.14202474057674408, 0.30769556760787964, 5.0755181312561035, 1.4905250072479248, 1.1578532457351685, 0.580160915851593, 0.5531970262527466, 0.5292395353317261, 0.6118730902671814, 0.6006731390953064, 1.0161447525024414, 1.2155747413635254, 0.9809218049049377, 0.7838479280471802, 0.7120950222015381, 0.8197141289710999, 1.305908203125, 1.7124534845352173, 1.4098304510116577, 1.925834059715271, 1.753154993057251, 3.477585792541504, 348.4058837890625, 319.8794860839844, 299.6783142089844]}\n",
       "    )\n",
       "    </script>"
      ],
      "text/plain": [
       "<circuitsvis.utils.render.RenderedHTML at 0x7fb96b6e65f0>"
      ]
     },
     "metadata": {},
     "output_type": "display_data"
    },
    {
     "name": "stdout",
     "output_type": "stream",
     "text": [
      "Adapter 62\n"
     ]
    },
    {
     "data": {
      "text/html": [
       "<div id=\"circuits-vis-846bb804-dab6\" style=\"margin: 15px 0;\"/>\n",
       "    <script crossorigin type=\"module\">\n",
       "    import { render, ColoredTokens } from \"https://unpkg.com/circuitsvis@1.43.2/dist/cdn/esm.js\";\n",
       "    render(\n",
       "      \"circuits-vis-846bb804-dab6\",\n",
       "      ColoredTokens,\n",
       "      {\"tokens\": [\"<\", \"system\", \">\\n\", \"You\", \" are\", \" a\", \" helpful\", \" assistant\", \"\\n\\n\", \"<\", \"user\", \">\\n\", \"a\", \"=\", \"5\", \"+\", \"8\", \",\", \" b\", \"=\", \"2\", \"+\", \"9\", \".\", \" What\", \" is\", \" a\", \"*b\", \"?\\n\\n\", \"<\", \"assistant\", \">\\n\"], \"values\": [0.161040261387825, 0.14804574847221375, 0.33526867628097534, 0.21447211503982544, 0.4752841591835022, 0.18472473323345184, 0.23374402523040771, 0.1700715571641922, 0.2511087656021118, 5.834918975830078, 1.9342193603515625, 1.5789960622787476, 0.8362237215042114, 0.5744081139564514, 0.49950215220451355, 0.5989201068878174, 0.6167344450950623, 0.8797739744186401, 1.1047176122665405, 0.8420618772506714, 0.7023053169250488, 0.7694430947303772, 0.746613085269928, 1.199135184288025, 1.5170252323150635, 1.0944706201553345, 1.5248706340789795, 1.246109962463379, 2.3795325756073, 157.757080078125, 131.80868530273438, 133.35305786132812]}\n",
       "    )\n",
       "    </script>"
      ],
      "text/plain": [
       "<circuitsvis.utils.render.RenderedHTML at 0x7fb96b6e7a30>"
      ]
     },
     "metadata": {},
     "output_type": "display_data"
    },
    {
     "name": "stdout",
     "output_type": "stream",
     "text": [
      "Adapter 63\n"
     ]
    },
    {
     "data": {
      "text/html": [
       "<div id=\"circuits-vis-08703e59-dd42\" style=\"margin: 15px 0;\"/>\n",
       "    <script crossorigin type=\"module\">\n",
       "    import { render, ColoredTokens } from \"https://unpkg.com/circuitsvis@1.43.2/dist/cdn/esm.js\";\n",
       "    render(\n",
       "      \"circuits-vis-08703e59-dd42\",\n",
       "      ColoredTokens,\n",
       "      {\"tokens\": [\"<\", \"system\", \">\\n\", \"You\", \" are\", \" a\", \" helpful\", \" assistant\", \"\\n\\n\", \"<\", \"user\", \">\\n\", \"a\", \"=\", \"5\", \"+\", \"8\", \",\", \" b\", \"=\", \"2\", \"+\", \"9\", \".\", \" What\", \" is\", \" a\", \"*b\", \"?\\n\\n\", \"<\", \"assistant\", \">\\n\"], \"values\": [0.24377340078353882, 0.3065873980522156, 0.3802322447299957, 0.27035030722618103, 0.40845486521720886, 0.18415729701519012, 0.19775015115737915, 0.14191406965255737, 0.30735480785369873, 5.097250938415527, 1.5000908374786377, 1.1414541006088257, 0.574856162071228, 0.5310080647468567, 0.5210000872612, 0.6113585829734802, 0.6001052260398865, 0.9892631769180298, 1.1943279504776, 0.9588015079498291, 0.7708800435066223, 0.699268102645874, 0.8033554553985596, 1.2658721208572388, 1.697952151298523, 1.3824971914291382, 1.8817760944366455, 1.7095534801483154, 3.2793047428131104, 348.9187316894531, 321.9252014160156, 301.6100769042969]}\n",
       "    )\n",
       "    </script>"
      ],
      "text/plain": [
       "<circuitsvis.utils.render.RenderedHTML at 0x7fb96b6e6920>"
      ]
     },
     "metadata": {},
     "output_type": "display_data"
    },
    {
     "name": "stdout",
     "output_type": "stream",
     "text": [
      "Adapter 64\n"
     ]
    },
    {
     "data": {
      "text/html": [
       "<div id=\"circuits-vis-47f2c57c-29f7\" style=\"margin: 15px 0;\"/>\n",
       "    <script crossorigin type=\"module\">\n",
       "    import { render, ColoredTokens } from \"https://unpkg.com/circuitsvis@1.43.2/dist/cdn/esm.js\";\n",
       "    render(\n",
       "      \"circuits-vis-47f2c57c-29f7\",\n",
       "      ColoredTokens,\n",
       "      {\"tokens\": [\"<\", \"system\", \">\\n\", \"You\", \" are\", \" a\", \" helpful\", \" assistant\", \"\\n\\n\", \"<\", \"user\", \">\\n\", \"a\", \"=\", \"5\", \"+\", \"8\", \",\", \" b\", \"=\", \"2\", \"+\", \"9\", \".\", \" What\", \" is\", \" a\", \"*b\", \"?\\n\\n\", \"<\", \"assistant\", \">\\n\"], \"values\": [0.24679146707057953, 1.113866925239563, 0.9424087405204773, 0.6150016188621521, 0.6327568292617798, 0.43031489849090576, 0.44746920466423035, 0.3763027787208557, 0.6925857663154602, 2.2972235679626465, 0.9421555399894714, 0.7323417067527771, 0.5585309267044067, 0.7650951743125916, 0.7602775692939758, 0.9528474807739258, 0.7449774742126465, 1.8775266408920288, 1.4672908782958984, 1.5518159866333008, 1.1139668226242065, 1.0347075462341309, 1.0541096925735474, 2.314544916152954, 2.5042357444763184, 2.037654399871826, 2.5185322761535645, 2.1097047328948975, 49.3284797668457, 245.65640258789062, 293.917724609375, 266.1406555175781]}\n",
       "    )\n",
       "    </script>"
      ],
      "text/plain": [
       "<circuitsvis.utils.render.RenderedHTML at 0x7fb96b6e70a0>"
      ]
     },
     "metadata": {},
     "output_type": "display_data"
    },
    {
     "name": "stdout",
     "output_type": "stream",
     "text": [
      "Adapter 65\n"
     ]
    },
    {
     "data": {
      "text/html": [
       "<div id=\"circuits-vis-18be68a8-e635\" style=\"margin: 15px 0;\"/>\n",
       "    <script crossorigin type=\"module\">\n",
       "    import { render, ColoredTokens } from \"https://unpkg.com/circuitsvis@1.43.2/dist/cdn/esm.js\";\n",
       "    render(\n",
       "      \"circuits-vis-18be68a8-e635\",\n",
       "      ColoredTokens,\n",
       "      {\"tokens\": [\"<\", \"system\", \">\\n\", \"You\", \" are\", \" a\", \" helpful\", \" assistant\", \"\\n\\n\", \"<\", \"user\", \">\\n\", \"a\", \"=\", \"5\", \"+\", \"8\", \",\", \" b\", \"=\", \"2\", \"+\", \"9\", \".\", \" What\", \" is\", \" a\", \"*b\", \"?\\n\\n\", \"<\", \"assistant\", \">\\n\"], \"values\": [0.25010907649993896, 0.6409514546394348, 0.7255141139030457, 0.38964468240737915, 0.4805065095424652, 0.3109358251094818, 0.3133569657802582, 0.2654190957546234, 0.5670395493507385, 0.8008505702018738, 0.45130211114883423, 0.4117406904697418, 0.6129624247550964, 0.7846856117248535, 0.8305805325508118, 0.9433966875076294, 0.8361308574676514, 2.1203160285949707, 1.7166534662246704, 1.7245053052902222, 1.1702033281326294, 1.152335524559021, 1.0649203062057495, 2.817746162414551, 2.588001251220703, 2.5856854915618896, 2.6679141521453857, 2.578702211380005, 224.29051208496094, 236.75917053222656, 424.9416198730469, 407.1549072265625]}\n",
       "    )\n",
       "    </script>"
      ],
      "text/plain": [
       "<circuitsvis.utils.render.RenderedHTML at 0x7fb96b6e7be0>"
      ]
     },
     "metadata": {},
     "output_type": "display_data"
    },
    {
     "name": "stdout",
     "output_type": "stream",
     "text": [
      "Adapter 66\n"
     ]
    },
    {
     "data": {
      "text/html": [
       "<div id=\"circuits-vis-9396ede7-27ea\" style=\"margin: 15px 0;\"/>\n",
       "    <script crossorigin type=\"module\">\n",
       "    import { render, ColoredTokens } from \"https://unpkg.com/circuitsvis@1.43.2/dist/cdn/esm.js\";\n",
       "    render(\n",
       "      \"circuits-vis-9396ede7-27ea\",\n",
       "      ColoredTokens,\n",
       "      {\"tokens\": [\"<\", \"system\", \">\\n\", \"You\", \" are\", \" a\", \" helpful\", \" assistant\", \"\\n\\n\", \"<\", \"user\", \">\\n\", \"a\", \"=\", \"5\", \"+\", \"8\", \",\", \" b\", \"=\", \"2\", \"+\", \"9\", \".\", \" What\", \" is\", \" a\", \"*b\", \"?\\n\\n\", \"<\", \"assistant\", \">\\n\"], \"values\": [0.24059012532234192, 0.20105580985546112, 0.379067599773407, 0.2711784541606903, 0.44492119550704956, 0.18099290132522583, 0.19663497805595398, 0.13312380015850067, 0.301492303609848, 5.071805000305176, 1.4893935918807983, 1.1635329723358154, 0.5825338363647461, 0.5539922714233398, 0.5306680798530579, 0.6095779538154602, 0.5962798595428467, 1.0117738246917725, 1.2143311500549316, 0.9779769778251648, 0.7800369262695312, 0.7114993929862976, 0.8142902255058289, 1.3002281188964844, 1.71382474899292, 1.407960057258606, 1.912908911705017, 1.7592939138412476, 3.478966474533081, 347.6220703125, 319.84698486328125, 300.0060729980469]}\n",
       "    )\n",
       "    </script>"
      ],
      "text/plain": [
       "<circuitsvis.utils.render.RenderedHTML at 0x7fb96b6e6b30>"
      ]
     },
     "metadata": {},
     "output_type": "display_data"
    },
    {
     "name": "stdout",
     "output_type": "stream",
     "text": [
      "Adapter 67\n"
     ]
    },
    {
     "data": {
      "text/html": [
       "<div id=\"circuits-vis-2d155a66-d49c\" style=\"margin: 15px 0;\"/>\n",
       "    <script crossorigin type=\"module\">\n",
       "    import { render, ColoredTokens } from \"https://unpkg.com/circuitsvis@1.43.2/dist/cdn/esm.js\";\n",
       "    render(\n",
       "      \"circuits-vis-2d155a66-d49c\",\n",
       "      ColoredTokens,\n",
       "      {\"tokens\": [\"<\", \"system\", \">\\n\", \"You\", \" are\", \" a\", \" helpful\", \" assistant\", \"\\n\\n\", \"<\", \"user\", \">\\n\", \"a\", \"=\", \"5\", \"+\", \"8\", \",\", \" b\", \"=\", \"2\", \"+\", \"9\", \".\", \" What\", \" is\", \" a\", \"*b\", \"?\\n\\n\", \"<\", \"assistant\", \">\\n\"], \"values\": [0.2574518620967865, 0.49772360920906067, 0.630774974822998, 0.3202594220638275, 0.4298531115055084, 0.24961768090724945, 0.27654972672462463, 0.23574568331241608, 0.508272111415863, 0.7980360984802246, 0.39824169874191284, 0.3816935420036316, 0.5305461287498474, 0.6275851130485535, 0.7539074420928955, 0.8594329953193665, 0.7443890571594238, 2.1730241775512695, 1.5669565200805664, 1.6282508373260498, 1.1069438457489014, 1.0651577711105347, 1.0164809226989746, 2.9119951725006104, 2.656724691390991, 2.575859785079956, 2.743468761444092, 2.0744948387145996, 216.5941925048828, 270.5155944824219, 428.91705322265625, 422.52325439453125]}\n",
       "    )\n",
       "    </script>"
      ],
      "text/plain": [
       "<circuitsvis.utils.render.RenderedHTML at 0x7fb96b6e6290>"
      ]
     },
     "metadata": {},
     "output_type": "display_data"
    },
    {
     "name": "stdout",
     "output_type": "stream",
     "text": [
      "Adapter 68\n"
     ]
    },
    {
     "data": {
      "text/html": [
       "<div id=\"circuits-vis-0c9a3385-e2c3\" style=\"margin: 15px 0;\"/>\n",
       "    <script crossorigin type=\"module\">\n",
       "    import { render, ColoredTokens } from \"https://unpkg.com/circuitsvis@1.43.2/dist/cdn/esm.js\";\n",
       "    render(\n",
       "      \"circuits-vis-0c9a3385-e2c3\",\n",
       "      ColoredTokens,\n",
       "      {\"tokens\": [\"<\", \"system\", \">\\n\", \"You\", \" are\", \" a\", \" helpful\", \" assistant\", \"\\n\\n\", \"<\", \"user\", \">\\n\", \"a\", \"=\", \"5\", \"+\", \"8\", \",\", \" b\", \"=\", \"2\", \"+\", \"9\", \".\", \" What\", \" is\", \" a\", \"*b\", \"?\\n\\n\", \"<\", \"assistant\", \">\\n\"], \"values\": [0.320347398519516, 0.447884738445282, 0.5170616507530212, 0.26835909485816956, 0.3305782377719879, 0.20742087066173553, 0.2354852706193924, 0.20193853974342346, 0.45199599862098694, 0.69964200258255, 0.26313406229019165, 0.3586154580116272, 0.5728632807731628, 0.7703069448471069, 0.7966670393943787, 0.9109804630279541, 0.8259239196777344, 1.9801489114761353, 1.688321828842163, 1.5972622632980347, 1.1323407888412476, 1.1215842962265015, 1.0633549690246582, 2.7397866249084473, 2.525026321411133, 2.3359999656677246, 2.545037031173706, 2.7582848072052, 88.69917297363281, 136.8552703857422, 219.85784912109375, 229.0054473876953]}\n",
       "    )\n",
       "    </script>"
      ],
      "text/plain": [
       "<circuitsvis.utils.render.RenderedHTML at 0x7fb96b6e60e0>"
      ]
     },
     "metadata": {},
     "output_type": "display_data"
    },
    {
     "name": "stdout",
     "output_type": "stream",
     "text": [
      "Adapter 69\n"
     ]
    },
    {
     "data": {
      "text/html": [
       "<div id=\"circuits-vis-f6f9773f-b18f\" style=\"margin: 15px 0;\"/>\n",
       "    <script crossorigin type=\"module\">\n",
       "    import { render, ColoredTokens } from \"https://unpkg.com/circuitsvis@1.43.2/dist/cdn/esm.js\";\n",
       "    render(\n",
       "      \"circuits-vis-f6f9773f-b18f\",\n",
       "      ColoredTokens,\n",
       "      {\"tokens\": [\"<\", \"system\", \">\\n\", \"You\", \" are\", \" a\", \" helpful\", \" assistant\", \"\\n\\n\", \"<\", \"user\", \">\\n\", \"a\", \"=\", \"5\", \"+\", \"8\", \",\", \" b\", \"=\", \"2\", \"+\", \"9\", \".\", \" What\", \" is\", \" a\", \"*b\", \"?\\n\\n\", \"<\", \"assistant\", \">\\n\"], \"values\": [0.22256161272525787, 1.0588079690933228, 0.9533392786979675, 0.5742043256759644, 0.6402896642684937, 0.42754068970680237, 0.44945916533470154, 0.4074520766735077, 0.7038909196853638, 1.1099501848220825, 0.6235128045082092, 0.5691157579421997, 0.6364513039588928, 0.7256162762641907, 0.867514431476593, 0.9445821642875671, 0.8229459524154663, 2.2006752490997314, 1.6143807172775269, 1.6321969032287598, 1.1871557235717773, 1.1394720077514648, 1.088700294494629, 2.9439799785614014, 2.7114551067352295, 2.6584107875823975, 2.697047472000122, 2.505995988845825, 252.51165771484375, 250.32994079589844, 409.4512023925781, 397.9339599609375]}\n",
       "    )\n",
       "    </script>"
      ],
      "text/plain": [
       "<circuitsvis.utils.render.RenderedHTML at 0x7fb96b6e65f0>"
      ]
     },
     "metadata": {},
     "output_type": "display_data"
    },
    {
     "name": "stdout",
     "output_type": "stream",
     "text": [
      "Adapter 70\n"
     ]
    },
    {
     "data": {
      "text/html": [
       "<div id=\"circuits-vis-a35bff4f-686d\" style=\"margin: 15px 0;\"/>\n",
       "    <script crossorigin type=\"module\">\n",
       "    import { render, ColoredTokens } from \"https://unpkg.com/circuitsvis@1.43.2/dist/cdn/esm.js\";\n",
       "    render(\n",
       "      \"circuits-vis-a35bff4f-686d\",\n",
       "      ColoredTokens,\n",
       "      {\"tokens\": [\"<\", \"system\", \">\\n\", \"You\", \" are\", \" a\", \" helpful\", \" assistant\", \"\\n\\n\", \"<\", \"user\", \">\\n\", \"a\", \"=\", \"5\", \"+\", \"8\", \",\", \" b\", \"=\", \"2\", \"+\", \"9\", \".\", \" What\", \" is\", \" a\", \"*b\", \"?\\n\\n\", \"<\", \"assistant\", \">\\n\"], \"values\": [0.2414592206478119, 0.24115388095378876, 0.376116544008255, 0.27238667011260986, 0.4199768304824829, 0.17992879450321198, 0.19538214802742004, 0.13381947576999664, 0.3004096448421478, 5.066573619842529, 1.4890415668487549, 1.143811583518982, 0.5752931237220764, 0.5356389284133911, 0.5245685577392578, 0.6130328178405762, 0.6003305315971375, 0.9945563673973083, 1.201812744140625, 0.9681705832481384, 0.7759135365486145, 0.7080323100090027, 0.8079773783683777, 1.2707678079605103, 1.7021429538726807, 1.3896325826644897, 1.8861247301101685, 1.7190548181533813, 3.331921339035034, 347.4264831542969, 321.5435791015625, 301.4809265136719]}\n",
       "    )\n",
       "    </script>"
      ],
      "text/plain": [
       "<circuitsvis.utils.render.RenderedHTML at 0x7fb96b6e6620>"
      ]
     },
     "metadata": {},
     "output_type": "display_data"
    },
    {
     "name": "stdout",
     "output_type": "stream",
     "text": [
      "Adapter 71\n"
     ]
    },
    {
     "data": {
      "text/html": [
       "<div id=\"circuits-vis-d4624c9e-7d50\" style=\"margin: 15px 0;\"/>\n",
       "    <script crossorigin type=\"module\">\n",
       "    import { render, ColoredTokens } from \"https://unpkg.com/circuitsvis@1.43.2/dist/cdn/esm.js\";\n",
       "    render(\n",
       "      \"circuits-vis-d4624c9e-7d50\",\n",
       "      ColoredTokens,\n",
       "      {\"tokens\": [\"<\", \"system\", \">\\n\", \"You\", \" are\", \" a\", \" helpful\", \" assistant\", \"\\n\\n\", \"<\", \"user\", \">\\n\", \"a\", \"=\", \"5\", \"+\", \"8\", \",\", \" b\", \"=\", \"2\", \"+\", \"9\", \".\", \" What\", \" is\", \" a\", \"*b\", \"?\\n\\n\", \"<\", \"assistant\", \">\\n\"], \"values\": [0.27214697003364563, 0.3669242858886719, 0.6097044348716736, 0.2762676775455475, 0.39234644174575806, 0.21551421284675598, 0.24994592368602753, 0.18906405568122864, 0.49240967631340027, 0.6715939044952393, 0.3165208101272583, 0.3316558599472046, 0.5371916890144348, 0.7045050859451294, 0.8069310188293457, 0.8997896909713745, 0.7943729162216187, 2.1915512084960938, 1.6663055419921875, 1.695408582687378, 1.1626198291778564, 1.1089918613433838, 1.0390461683273315, 2.9918320178985596, 2.7343509197235107, 2.559347629547119, 2.510934591293335, 2.5884816646575928, 201.95657348632812, 256.177001953125, 427.39337158203125, 412.60845947265625]}\n",
       "    )\n",
       "    </script>"
      ],
      "text/plain": [
       "<circuitsvis.utils.render.RenderedHTML at 0x7fb96b6e72b0>"
      ]
     },
     "metadata": {},
     "output_type": "display_data"
    },
    {
     "name": "stdout",
     "output_type": "stream",
     "text": [
      "Adapter 72\n"
     ]
    },
    {
     "data": {
      "text/html": [
       "<div id=\"circuits-vis-cce69b82-c111\" style=\"margin: 15px 0;\"/>\n",
       "    <script crossorigin type=\"module\">\n",
       "    import { render, ColoredTokens } from \"https://unpkg.com/circuitsvis@1.43.2/dist/cdn/esm.js\";\n",
       "    render(\n",
       "      \"circuits-vis-cce69b82-c111\",\n",
       "      ColoredTokens,\n",
       "      {\"tokens\": [\"<\", \"system\", \">\\n\", \"You\", \" are\", \" a\", \" helpful\", \" assistant\", \"\\n\\n\", \"<\", \"user\", \">\\n\", \"a\", \"=\", \"5\", \"+\", \"8\", \",\", \" b\", \"=\", \"2\", \"+\", \"9\", \".\", \" What\", \" is\", \" a\", \"*b\", \"?\\n\\n\", \"<\", \"assistant\", \">\\n\"], \"values\": [0.25248512625694275, 0.3743709921836853, 0.39187946915626526, 0.2789711058139801, 0.44474077224731445, 0.1993536800146103, 0.20671597123146057, 0.15969747304916382, 0.3241817057132721, 5.084748268127441, 1.4940688610076904, 1.1582386493682861, 0.5766705870628357, 0.557539165019989, 0.5339517593383789, 0.6195895075798035, 0.6072641611099243, 1.0290511846542358, 1.2201036214828491, 0.9954541325569153, 0.7968162298202515, 0.7197737097740173, 0.8302874565124512, 1.32608962059021, 1.733103632926941, 1.4219030141830444, 1.9476083517074585, 1.7569823265075684, 3.5213372707366943, 350.5226135253906, 319.2610168457031, 298.2144470214844]}\n",
       "    )\n",
       "    </script>"
      ],
      "text/plain": [
       "<circuitsvis.utils.render.RenderedHTML at 0x7fb96b6e7940>"
      ]
     },
     "metadata": {},
     "output_type": "display_data"
    },
    {
     "name": "stdout",
     "output_type": "stream",
     "text": [
      "Adapter 73\n"
     ]
    },
    {
     "data": {
      "text/html": [
       "<div id=\"circuits-vis-a03eb7b4-c792\" style=\"margin: 15px 0;\"/>\n",
       "    <script crossorigin type=\"module\">\n",
       "    import { render, ColoredTokens } from \"https://unpkg.com/circuitsvis@1.43.2/dist/cdn/esm.js\";\n",
       "    render(\n",
       "      \"circuits-vis-a03eb7b4-c792\",\n",
       "      ColoredTokens,\n",
       "      {\"tokens\": [\"<\", \"system\", \">\\n\", \"You\", \" are\", \" a\", \" helpful\", \" assistant\", \"\\n\\n\", \"<\", \"user\", \">\\n\", \"a\", \"=\", \"5\", \"+\", \"8\", \",\", \" b\", \"=\", \"2\", \"+\", \"9\", \".\", \" What\", \" is\", \" a\", \"*b\", \"?\\n\\n\", \"<\", \"assistant\", \">\\n\"], \"values\": [0.2811354696750641, 0.3055999279022217, 0.4904215335845947, 0.21763701736927032, 0.2676708698272705, 0.16480009257793427, 0.18110987544059753, 0.14164096117019653, 0.36297014355659485, 0.33300843834877014, 0.16483138501644135, 0.23743858933448792, 0.40738946199417114, 0.6291224360466003, 0.710094690322876, 0.7927147746086121, 0.6882553100585938, 1.8451392650604248, 1.5319701433181763, 1.5594958066940308, 1.0695327520370483, 1.0347586870193481, 0.9695290327072144, 2.3774118423461914, 2.4469614028930664, 1.9698864221572876, 2.1957740783691406, 2.209676742553711, 126.4192886352539, 222.08587646484375, 376.84619140625, 364.18212890625]}\n",
       "    )\n",
       "    </script>"
      ],
      "text/plain": [
       "<circuitsvis.utils.render.RenderedHTML at 0x7fb96b6e6950>"
      ]
     },
     "metadata": {},
     "output_type": "display_data"
    },
    {
     "name": "stdout",
     "output_type": "stream",
     "text": [
      "Adapter 74\n"
     ]
    },
    {
     "data": {
      "text/html": [
       "<div id=\"circuits-vis-1fee88ac-04b0\" style=\"margin: 15px 0;\"/>\n",
       "    <script crossorigin type=\"module\">\n",
       "    import { render, ColoredTokens } from \"https://unpkg.com/circuitsvis@1.43.2/dist/cdn/esm.js\";\n",
       "    render(\n",
       "      \"circuits-vis-1fee88ac-04b0\",\n",
       "      ColoredTokens,\n",
       "      {\"tokens\": [\"<\", \"system\", \">\\n\", \"You\", \" are\", \" a\", \" helpful\", \" assistant\", \"\\n\\n\", \"<\", \"user\", \">\\n\", \"a\", \"=\", \"5\", \"+\", \"8\", \",\", \" b\", \"=\", \"2\", \"+\", \"9\", \".\", \" What\", \" is\", \" a\", \"*b\", \"?\\n\\n\", \"<\", \"assistant\", \">\\n\"], \"values\": [0.25070202350616455, 0.3354063332080841, 0.38669294118881226, 0.27118217945098877, 0.4473101794719696, 0.19379685819149017, 0.20181073248386383, 0.15231303870677948, 0.3174229562282562, 5.083779811859131, 1.4909095764160156, 1.162208914756775, 0.5768839716911316, 0.5598064661026001, 0.5340526700019836, 0.615078866481781, 0.606866180896759, 1.030448079109192, 1.222624659538269, 0.994972825050354, 0.7951883673667908, 0.7178471088409424, 0.8300080299377441, 1.3300963640213013, 1.7361994981765747, 1.4292148351669312, 1.952431559562683, 1.771332859992981, 3.5523276329040527, 350.46075439453125, 319.4530944824219, 298.439697265625]}\n",
       "    )\n",
       "    </script>"
      ],
      "text/plain": [
       "<circuitsvis.utils.render.RenderedHTML at 0x7fb96b6e79d0>"
      ]
     },
     "metadata": {},
     "output_type": "display_data"
    },
    {
     "name": "stdout",
     "output_type": "stream",
     "text": [
      "Adapter 75\n"
     ]
    },
    {
     "data": {
      "text/html": [
       "<div id=\"circuits-vis-c949a404-6db8\" style=\"margin: 15px 0;\"/>\n",
       "    <script crossorigin type=\"module\">\n",
       "    import { render, ColoredTokens } from \"https://unpkg.com/circuitsvis@1.43.2/dist/cdn/esm.js\";\n",
       "    render(\n",
       "      \"circuits-vis-c949a404-6db8\",\n",
       "      ColoredTokens,\n",
       "      {\"tokens\": [\"<\", \"system\", \">\\n\", \"You\", \" are\", \" a\", \" helpful\", \" assistant\", \"\\n\\n\", \"<\", \"user\", \">\\n\", \"a\", \"=\", \"5\", \"+\", \"8\", \",\", \" b\", \"=\", \"2\", \"+\", \"9\", \".\", \" What\", \" is\", \" a\", \"*b\", \"?\\n\\n\", \"<\", \"assistant\", \">\\n\"], \"values\": [0.23517917096614838, 0.16524969041347504, 0.3803086280822754, 0.2835763394832611, 0.44212639331817627, 0.18002188205718994, 0.19821679592132568, 0.13035108149051666, 0.2977279722690582, 5.052824020385742, 1.481305480003357, 1.1535338163375854, 0.5788871049880981, 0.5385693907737732, 0.5269821286201477, 0.6090342998504639, 0.5967910289764404, 1.0008941888809204, 1.2067266702651978, 0.9694965481758118, 0.7751580476760864, 0.7120159268379211, 0.8097429275512695, 1.278982162475586, 1.6983567476272583, 1.392219066619873, 1.8915765285491943, 1.7249716520309448, 3.410576820373535, 346.0086364746094, 320.2801208496094, 300.3189392089844]}\n",
       "    )\n",
       "    </script>"
      ],
      "text/plain": [
       "<circuitsvis.utils.render.RenderedHTML at 0x7fb96b6e6920>"
      ]
     },
     "metadata": {},
     "output_type": "display_data"
    },
    {
     "name": "stdout",
     "output_type": "stream",
     "text": [
      "Adapter 76\n"
     ]
    },
    {
     "data": {
      "text/html": [
       "<div id=\"circuits-vis-a246dcd2-97f8\" style=\"margin: 15px 0;\"/>\n",
       "    <script crossorigin type=\"module\">\n",
       "    import { render, ColoredTokens } from \"https://unpkg.com/circuitsvis@1.43.2/dist/cdn/esm.js\";\n",
       "    render(\n",
       "      \"circuits-vis-a246dcd2-97f8\",\n",
       "      ColoredTokens,\n",
       "      {\"tokens\": [\"<\", \"system\", \">\\n\", \"You\", \" are\", \" a\", \" helpful\", \" assistant\", \"\\n\\n\", \"<\", \"user\", \">\\n\", \"a\", \"=\", \"5\", \"+\", \"8\", \",\", \" b\", \"=\", \"2\", \"+\", \"9\", \".\", \" What\", \" is\", \" a\", \"*b\", \"?\\n\\n\", \"<\", \"assistant\", \">\\n\"], \"values\": [0.2913138270378113, 0.11654341965913773, 0.43224379420280457, 0.1793019026517868, 0.28201138973236084, 0.13591967523097992, 0.19823892414569855, 0.15013593435287476, 0.3836897909641266, 0.8942549228668213, 0.33666881918907166, 0.3977890610694885, 0.5052784085273743, 0.6606703996658325, 0.7385880351066589, 0.7967803478240967, 0.7115313410758972, 2.1041040420532227, 1.547239065170288, 1.7090355157852173, 1.1363354921340942, 1.1102538108825684, 1.0771031379699707, 2.7136356830596924, 2.484473705291748, 2.2345259189605713, 2.27024245262146, 1.8798627853393555, 60.183815002441406, 145.8922576904297, 178.21461486816406, 175.65847778320312]}\n",
       "    )\n",
       "    </script>"
      ],
      "text/plain": [
       "<circuitsvis.utils.render.RenderedHTML at 0x7fb96b6e7be0>"
      ]
     },
     "metadata": {},
     "output_type": "display_data"
    },
    {
     "name": "stdout",
     "output_type": "stream",
     "text": [
      "Adapter 77\n"
     ]
    },
    {
     "data": {
      "text/html": [
       "<div id=\"circuits-vis-588b03a6-e7cc\" style=\"margin: 15px 0;\"/>\n",
       "    <script crossorigin type=\"module\">\n",
       "    import { render, ColoredTokens } from \"https://unpkg.com/circuitsvis@1.43.2/dist/cdn/esm.js\";\n",
       "    render(\n",
       "      \"circuits-vis-588b03a6-e7cc\",\n",
       "      ColoredTokens,\n",
       "      {\"tokens\": [\"<\", \"system\", \">\\n\", \"You\", \" are\", \" a\", \" helpful\", \" assistant\", \"\\n\\n\", \"<\", \"user\", \">\\n\", \"a\", \"=\", \"5\", \"+\", \"8\", \",\", \" b\", \"=\", \"2\", \"+\", \"9\", \".\", \" What\", \" is\", \" a\", \"*b\", \"?\\n\\n\", \"<\", \"assistant\", \">\\n\"], \"values\": [0.23800839483737946, 0.6770485639572144, 0.717922568321228, 0.4334687292575836, 0.5289032459259033, 0.3255670964717865, 0.3487963378429413, 0.2859381437301636, 0.5840553045272827, 0.8672263622283936, 0.4899463951587677, 0.4789261817932129, 0.5695850253105164, 0.7180991768836975, 0.8385878801345825, 0.9308986663818359, 0.8206264972686768, 2.1892213821411133, 1.718456745147705, 1.6756021976470947, 1.1498547792434692, 1.0870925188064575, 1.0518803596496582, 2.8119022846221924, 2.5597901344299316, 2.675926685333252, 2.562309503555298, 2.520279884338379, 203.42767333984375, 236.8958740234375, 409.44146728515625, 399.0799865722656]}\n",
       "    )\n",
       "    </script>"
      ],
      "text/plain": [
       "<circuitsvis.utils.render.RenderedHTML at 0x7fb96b6e6290>"
      ]
     },
     "metadata": {},
     "output_type": "display_data"
    },
    {
     "name": "stdout",
     "output_type": "stream",
     "text": [
      "Adapter 78\n"
     ]
    },
    {
     "data": {
      "text/html": [
       "<div id=\"circuits-vis-6dbc98b4-1e9d\" style=\"margin: 15px 0;\"/>\n",
       "    <script crossorigin type=\"module\">\n",
       "    import { render, ColoredTokens } from \"https://unpkg.com/circuitsvis@1.43.2/dist/cdn/esm.js\";\n",
       "    render(\n",
       "      \"circuits-vis-6dbc98b4-1e9d\",\n",
       "      ColoredTokens,\n",
       "      {\"tokens\": [\"<\", \"system\", \">\\n\", \"You\", \" are\", \" a\", \" helpful\", \" assistant\", \"\\n\\n\", \"<\", \"user\", \">\\n\", \"a\", \"=\", \"5\", \"+\", \"8\", \",\", \" b\", \"=\", \"2\", \"+\", \"9\", \".\", \" What\", \" is\", \" a\", \"*b\", \"?\\n\\n\", \"<\", \"assistant\", \">\\n\"], \"values\": [0.2386675328016281, 0.20686067640781403, 0.37794578075408936, 0.2786308526992798, 0.4349720776081085, 0.1804891675710678, 0.19574932754039764, 0.13211628794670105, 0.29789555072784424, 5.050903797149658, 1.4802976846694946, 1.146826148033142, 0.5756788849830627, 0.5385512709617615, 0.524541974067688, 0.6121575236320496, 0.5992047786712646, 1.0004464387893677, 1.206428050994873, 0.9712810516357422, 0.7759606242179871, 0.7122713327407837, 0.8114049434661865, 1.277125358581543, 1.6977441310882568, 1.3919814825057983, 1.8926366567611694, 1.7217862606048584, 3.3919014930725098, 346.8751525878906, 320.48004150390625, 300.8222961425781]}\n",
       "    )\n",
       "    </script>"
      ],
      "text/plain": [
       "<circuitsvis.utils.render.RenderedHTML at 0x7fb96b6e60e0>"
      ]
     },
     "metadata": {},
     "output_type": "display_data"
    },
    {
     "name": "stdout",
     "output_type": "stream",
     "text": [
      "Adapter 79\n"
     ]
    },
    {
     "data": {
      "text/html": [
       "<div id=\"circuits-vis-688f4ec4-57c9\" style=\"margin: 15px 0;\"/>\n",
       "    <script crossorigin type=\"module\">\n",
       "    import { render, ColoredTokens } from \"https://unpkg.com/circuitsvis@1.43.2/dist/cdn/esm.js\";\n",
       "    render(\n",
       "      \"circuits-vis-688f4ec4-57c9\",\n",
       "      ColoredTokens,\n",
       "      {\"tokens\": [\"<\", \"system\", \">\\n\", \"You\", \" are\", \" a\", \" helpful\", \" assistant\", \"\\n\\n\", \"<\", \"user\", \">\\n\", \"a\", \"=\", \"5\", \"+\", \"8\", \",\", \" b\", \"=\", \"2\", \"+\", \"9\", \".\", \" What\", \" is\", \" a\", \"*b\", \"?\\n\\n\", \"<\", \"assistant\", \">\\n\"], \"values\": [0.23585587739944458, 0.6955204606056213, 0.7224965691566467, 0.42700374126434326, 0.5152862668037415, 0.3270971179008484, 0.3460792899131775, 0.2846083641052246, 0.5847861766815186, 0.7331578135490417, 0.47788113355636597, 0.4608784019947052, 0.538999617099762, 0.6249486207962036, 0.7860987186431885, 0.8037168979644775, 0.7417397499084473, 2.1724772453308105, 1.6909438371658325, 1.6479865312576294, 1.1075503826141357, 1.0285835266113281, 1.0091383457183838, 2.9399616718292236, 2.5788094997406006, 2.472435235977173, 2.657332181930542, 2.0375747680664062, 221.34097290039062, 255.1764678955078, 423.2108154296875, 442.1755065917969]}\n",
       "    )\n",
       "    </script>"
      ],
      "text/plain": [
       "<circuitsvis.utils.render.RenderedHTML at 0x7fb96b6e65f0>"
      ]
     },
     "metadata": {},
     "output_type": "display_data"
    },
    {
     "name": "stdout",
     "output_type": "stream",
     "text": [
      "Adapter 80\n"
     ]
    },
    {
     "data": {
      "text/html": [
       "<div id=\"circuits-vis-32e25569-1aae\" style=\"margin: 15px 0;\"/>\n",
       "    <script crossorigin type=\"module\">\n",
       "    import { render, ColoredTokens } from \"https://unpkg.com/circuitsvis@1.43.2/dist/cdn/esm.js\";\n",
       "    render(\n",
       "      \"circuits-vis-32e25569-1aae\",\n",
       "      ColoredTokens,\n",
       "      {\"tokens\": [\"<\", \"system\", \">\\n\", \"You\", \" are\", \" a\", \" helpful\", \" assistant\", \"\\n\\n\", \"<\", \"user\", \">\\n\", \"a\", \"=\", \"5\", \"+\", \"8\", \",\", \" b\", \"=\", \"2\", \"+\", \"9\", \".\", \" What\", \" is\", \" a\", \"*b\", \"?\\n\\n\", \"<\", \"assistant\", \">\\n\"], \"values\": [0.24004273116588593, 0.8575162291526794, 0.8487433195114136, 0.4721033275127411, 0.5519877076148987, 0.3640116751194, 0.3930259048938751, 0.3652004301548004, 0.6492393016815186, 0.9846140742301941, 0.5600883364677429, 0.5439019799232483, 0.6023304462432861, 0.8001890778541565, 0.868847668170929, 0.993423342704773, 0.8681138157844543, 2.2400333881378174, 1.6417664289474487, 1.6330671310424805, 1.175657033920288, 1.1603952646255493, 1.0876905918121338, 3.022075891494751, 2.7535409927368164, 2.685718297958374, 2.883789300918579, 2.660240888595581, 209.47216796875, 246.64971923828125, 410.0321044921875, 408.14453125]}\n",
       "    )\n",
       "    </script>"
      ],
      "text/plain": [
       "<circuitsvis.utils.render.RenderedHTML at 0x7fb96b6e6620>"
      ]
     },
     "metadata": {},
     "output_type": "display_data"
    },
    {
     "name": "stdout",
     "output_type": "stream",
     "text": [
      "Adapter 81\n"
     ]
    },
    {
     "data": {
      "text/html": [
       "<div id=\"circuits-vis-8e6e5c08-00f4\" style=\"margin: 15px 0;\"/>\n",
       "    <script crossorigin type=\"module\">\n",
       "    import { render, ColoredTokens } from \"https://unpkg.com/circuitsvis@1.43.2/dist/cdn/esm.js\";\n",
       "    render(\n",
       "      \"circuits-vis-8e6e5c08-00f4\",\n",
       "      ColoredTokens,\n",
       "      {\"tokens\": [\"<\", \"system\", \">\\n\", \"You\", \" are\", \" a\", \" helpful\", \" assistant\", \"\\n\\n\", \"<\", \"user\", \">\\n\", \"a\", \"=\", \"5\", \"+\", \"8\", \",\", \" b\", \"=\", \"2\", \"+\", \"9\", \".\", \" What\", \" is\", \" a\", \"*b\", \"?\\n\\n\", \"<\", \"assistant\", \">\\n\"], \"values\": [0.2637803852558136, 0.41416868567466736, 0.6418561935424805, 0.3139546513557434, 0.44035759568214417, 0.2419595569372177, 0.2884996831417084, 0.2356526255607605, 0.5319883227348328, 0.7233805060386658, 0.38905423879623413, 0.4234057068824768, 0.5574355125427246, 0.70969158411026, 0.8235924243927002, 0.8315842747688293, 0.7213504314422607, 2.1735036373138428, 1.5798280239105225, 1.5994287729263306, 1.099865436553955, 1.0415860414505005, 1.0305203199386597, 3.1779918670654297, 2.571594715118408, 2.6375608444213867, 2.7472569942474365, 2.2112479209899902, 190.2865753173828, 231.5150909423828, 419.7312316894531, 422.61279296875]}\n",
       "    )\n",
       "    </script>"
      ],
      "text/plain": [
       "<circuitsvis.utils.render.RenderedHTML at 0x7fb96b6e72b0>"
      ]
     },
     "metadata": {},
     "output_type": "display_data"
    },
    {
     "name": "stdout",
     "output_type": "stream",
     "text": [
      "Adapter 82\n"
     ]
    },
    {
     "data": {
      "text/html": [
       "<div id=\"circuits-vis-2741ad64-9213\" style=\"margin: 15px 0;\"/>\n",
       "    <script crossorigin type=\"module\">\n",
       "    import { render, ColoredTokens } from \"https://unpkg.com/circuitsvis@1.43.2/dist/cdn/esm.js\";\n",
       "    render(\n",
       "      \"circuits-vis-2741ad64-9213\",\n",
       "      ColoredTokens,\n",
       "      {\"tokens\": [\"<\", \"system\", \">\\n\", \"You\", \" are\", \" a\", \" helpful\", \" assistant\", \"\\n\\n\", \"<\", \"user\", \">\\n\", \"a\", \"=\", \"5\", \"+\", \"8\", \",\", \" b\", \"=\", \"2\", \"+\", \"9\", \".\", \" What\", \" is\", \" a\", \"*b\", \"?\\n\\n\", \"<\", \"assistant\", \">\\n\"], \"values\": [0.24912592768669128, 0.4503810703754425, 0.6765604615211487, 0.3555055260658264, 0.4512559771537781, 0.2453678995370865, 0.2844869792461395, 0.2661376893520355, 0.516371488571167, 0.6301039457321167, 0.39699333906173706, 0.44718727469444275, 0.5838818550109863, 0.8362786769866943, 0.8528943061828613, 0.9615620374679565, 0.8456000089645386, 2.309811592102051, 1.8195970058441162, 1.8685393333435059, 1.2570480108261108, 1.2080047130584717, 1.1713553667068481, 3.1553993225097656, 2.70398211479187, 2.7165093421936035, 2.754897117614746, 2.4838528633117676, 161.9718780517578, 181.44293212890625, 432.3897705078125, 425.5556945800781]}\n",
       "    )\n",
       "    </script>"
      ],
      "text/plain": [
       "<circuitsvis.utils.render.RenderedHTML at 0x7fb96b6e7940>"
      ]
     },
     "metadata": {},
     "output_type": "display_data"
    },
    {
     "name": "stdout",
     "output_type": "stream",
     "text": [
      "Adapter 83\n"
     ]
    },
    {
     "data": {
      "text/html": [
       "<div id=\"circuits-vis-6300ee70-8118\" style=\"margin: 15px 0;\"/>\n",
       "    <script crossorigin type=\"module\">\n",
       "    import { render, ColoredTokens } from \"https://unpkg.com/circuitsvis@1.43.2/dist/cdn/esm.js\";\n",
       "    render(\n",
       "      \"circuits-vis-6300ee70-8118\",\n",
       "      ColoredTokens,\n",
       "      {\"tokens\": [\"<\", \"system\", \">\\n\", \"You\", \" are\", \" a\", \" helpful\", \" assistant\", \"\\n\\n\", \"<\", \"user\", \">\\n\", \"a\", \"=\", \"5\", \"+\", \"8\", \",\", \" b\", \"=\", \"2\", \"+\", \"9\", \".\", \" What\", \" is\", \" a\", \"*b\", \"?\\n\\n\", \"<\", \"assistant\", \">\\n\"], \"values\": [0.3020133674144745, 0.19580931961536407, 0.49669691920280457, 0.18714529275894165, 0.2446846216917038, 0.13959570229053497, 0.14783525466918945, 0.10891498625278473, 0.4177960753440857, 0.6408790349960327, 0.24043764173984528, 0.3403202295303345, 0.5113546848297119, 0.6976669430732727, 0.724201500415802, 0.7911074757575989, 0.6845954060554504, 2.0529677867889404, 1.5917482376098633, 1.5597306489944458, 1.0668045282363892, 1.0388333797454834, 1.0189789533615112, 3.023146152496338, 2.6220932006835938, 2.4062459468841553, 2.4514455795288086, 2.1538453102111816, 228.387451171875, 256.63092041015625, 336.61004638671875, 337.016357421875]}\n",
       "    )\n",
       "    </script>"
      ],
      "text/plain": [
       "<circuitsvis.utils.render.RenderedHTML at 0x7fb96b6e6950>"
      ]
     },
     "metadata": {},
     "output_type": "display_data"
    },
    {
     "name": "stdout",
     "output_type": "stream",
     "text": [
      "Adapter 84\n"
     ]
    },
    {
     "data": {
      "text/html": [
       "<div id=\"circuits-vis-75b56009-5a50\" style=\"margin: 15px 0;\"/>\n",
       "    <script crossorigin type=\"module\">\n",
       "    import { render, ColoredTokens } from \"https://unpkg.com/circuitsvis@1.43.2/dist/cdn/esm.js\";\n",
       "    render(\n",
       "      \"circuits-vis-75b56009-5a50\",\n",
       "      ColoredTokens,\n",
       "      {\"tokens\": [\"<\", \"system\", \">\\n\", \"You\", \" are\", \" a\", \" helpful\", \" assistant\", \"\\n\\n\", \"<\", \"user\", \">\\n\", \"a\", \"=\", \"5\", \"+\", \"8\", \",\", \" b\", \"=\", \"2\", \"+\", \"9\", \".\", \" What\", \" is\", \" a\", \"*b\", \"?\\n\\n\", \"<\", \"assistant\", \">\\n\"], \"values\": [0.24991701543331146, 0.5597630739212036, 0.7047179341316223, 0.38729044795036316, 0.49163803458213806, 0.27700749039649963, 0.3313376307487488, 0.264110803604126, 0.5607296824455261, 0.7184954881668091, 0.4172433316707611, 0.43324926495552063, 0.5608519911766052, 0.6844277381896973, 0.8246611952781677, 0.8828660845756531, 0.789866030216217, 2.282714366912842, 1.6112234592437744, 1.7050069570541382, 1.191129446029663, 1.1574757099151611, 1.1019766330718994, 3.1480040550231934, 2.7546825408935547, 2.7854695320129395, 2.9376909732818604, 2.2066636085510254, 184.60504150390625, 239.07589721679688, 416.48309326171875, 411.85223388671875]}\n",
       "    )\n",
       "    </script>"
      ],
      "text/plain": [
       "<circuitsvis.utils.render.RenderedHTML at 0x7fb96b6e79d0>"
      ]
     },
     "metadata": {},
     "output_type": "display_data"
    },
    {
     "name": "stdout",
     "output_type": "stream",
     "text": [
      "Adapter 85\n"
     ]
    },
    {
     "data": {
      "text/html": [
       "<div id=\"circuits-vis-30d1a244-5234\" style=\"margin: 15px 0;\"/>\n",
       "    <script crossorigin type=\"module\">\n",
       "    import { render, ColoredTokens } from \"https://unpkg.com/circuitsvis@1.43.2/dist/cdn/esm.js\";\n",
       "    render(\n",
       "      \"circuits-vis-30d1a244-5234\",\n",
       "      ColoredTokens,\n",
       "      {\"tokens\": [\"<\", \"system\", \">\\n\", \"You\", \" are\", \" a\", \" helpful\", \" assistant\", \"\\n\\n\", \"<\", \"user\", \">\\n\", \"a\", \"=\", \"5\", \"+\", \"8\", \",\", \" b\", \"=\", \"2\", \"+\", \"9\", \".\", \" What\", \" is\", \" a\", \"*b\", \"?\\n\\n\", \"<\", \"assistant\", \">\\n\"], \"values\": [0.24694852530956268, 1.0951577425003052, 0.9225560426712036, 0.5997208952903748, 0.6199845671653748, 0.42199942469596863, 0.43895456194877625, 0.3693942725658417, 0.6807258725166321, 2.269024133682251, 0.9338782429695129, 0.7259767651557922, 0.5499578714370728, 0.7595510482788086, 0.7530180811882019, 0.9445522427558899, 0.737144947052002, 1.8824995756149292, 1.4574438333511353, 1.547110915184021, 1.1076898574829102, 1.024208426475525, 1.0435980558395386, 2.291811466217041, 2.507126808166504, 2.0330491065979004, 2.4980826377868652, 2.108813524246216, 51.24748992919922, 244.89308166503906, 293.9003601074219, 265.63427734375]}\n",
       "    )\n",
       "    </script>"
      ],
      "text/plain": [
       "<circuitsvis.utils.render.RenderedHTML at 0x7fb96b6e6920>"
      ]
     },
     "metadata": {},
     "output_type": "display_data"
    },
    {
     "name": "stdout",
     "output_type": "stream",
     "text": [
      "Adapter 86\n"
     ]
    },
    {
     "data": {
      "text/html": [
       "<div id=\"circuits-vis-595a08d1-6b7d\" style=\"margin: 15px 0;\"/>\n",
       "    <script crossorigin type=\"module\">\n",
       "    import { render, ColoredTokens } from \"https://unpkg.com/circuitsvis@1.43.2/dist/cdn/esm.js\";\n",
       "    render(\n",
       "      \"circuits-vis-595a08d1-6b7d\",\n",
       "      ColoredTokens,\n",
       "      {\"tokens\": [\"<\", \"system\", \">\\n\", \"You\", \" are\", \" a\", \" helpful\", \" assistant\", \"\\n\\n\", \"<\", \"user\", \">\\n\", \"a\", \"=\", \"5\", \"+\", \"8\", \",\", \" b\", \"=\", \"2\", \"+\", \"9\", \".\", \" What\", \" is\", \" a\", \"*b\", \"?\\n\\n\", \"<\", \"assistant\", \">\\n\"], \"values\": [0.24084582924842834, 0.2665518522262573, 0.37694868445396423, 0.2700106203556061, 0.41265034675598145, 0.18070922791957855, 0.1958761066198349, 0.136499285697937, 0.30170243978500366, 5.0934906005859375, 1.498817801475525, 1.1437196731567383, 0.5752695202827454, 0.5296611785888672, 0.5214959979057312, 0.6095566749572754, 0.5994859337806702, 0.9910268783569336, 1.1989002227783203, 0.961460292339325, 0.7711838483810425, 0.701370894908905, 0.8049325942993164, 1.2681695222854614, 1.7004014253616333, 1.3844578266143799, 1.884549617767334, 1.713763952255249, 3.2970070838928223, 348.7271423339844, 321.7758483886719, 301.3912658691406]}\n",
       "    )\n",
       "    </script>"
      ],
      "text/plain": [
       "<circuitsvis.utils.render.RenderedHTML at 0x7fb96b6e7be0>"
      ]
     },
     "metadata": {},
     "output_type": "display_data"
    },
    {
     "name": "stdout",
     "output_type": "stream",
     "text": [
      "Adapter 87\n"
     ]
    },
    {
     "data": {
      "text/html": [
       "<div id=\"circuits-vis-dc4a5bd3-250d\" style=\"margin: 15px 0;\"/>\n",
       "    <script crossorigin type=\"module\">\n",
       "    import { render, ColoredTokens } from \"https://unpkg.com/circuitsvis@1.43.2/dist/cdn/esm.js\";\n",
       "    render(\n",
       "      \"circuits-vis-dc4a5bd3-250d\",\n",
       "      ColoredTokens,\n",
       "      {\"tokens\": [\"<\", \"system\", \">\\n\", \"You\", \" are\", \" a\", \" helpful\", \" assistant\", \"\\n\\n\", \"<\", \"user\", \">\\n\", \"a\", \"=\", \"5\", \"+\", \"8\", \",\", \" b\", \"=\", \"2\", \"+\", \"9\", \".\", \" What\", \" is\", \" a\", \"*b\", \"?\\n\\n\", \"<\", \"assistant\", \">\\n\"], \"values\": [0.2828769385814667, 0.29664045572280884, 0.4942311644554138, 0.21668192744255066, 0.2572808563709259, 0.16195832192897797, 0.17753097414970398, 0.1397554576396942, 0.36216750741004944, 0.33553066849708557, 0.16650041937828064, 0.23158052563667297, 0.42705222964286804, 0.6414997577667236, 0.7026511430740356, 0.772969126701355, 0.6925750374794006, 1.846670150756836, 1.5732089281082153, 1.5466670989990234, 1.0811392068862915, 1.0410678386688232, 0.9859495759010315, 2.4673497676849365, 2.3879430294036865, 1.978410005569458, 2.141714334487915, 2.218322992324829, 109.03926086425781, 225.2949981689453, 379.69317626953125, 365.6735534667969]}\n",
       "    )\n",
       "    </script>"
      ],
      "text/plain": [
       "<circuitsvis.utils.render.RenderedHTML at 0x7fb96b6e6290>"
      ]
     },
     "metadata": {},
     "output_type": "display_data"
    },
    {
     "name": "stdout",
     "output_type": "stream",
     "text": [
      "Adapter 88\n"
     ]
    },
    {
     "data": {
      "text/html": [
       "<div id=\"circuits-vis-7ba1df1e-ce33\" style=\"margin: 15px 0;\"/>\n",
       "    <script crossorigin type=\"module\">\n",
       "    import { render, ColoredTokens } from \"https://unpkg.com/circuitsvis@1.43.2/dist/cdn/esm.js\";\n",
       "    render(\n",
       "      \"circuits-vis-7ba1df1e-ce33\",\n",
       "      ColoredTokens,\n",
       "      {\"tokens\": [\"<\", \"system\", \">\\n\", \"You\", \" are\", \" a\", \" helpful\", \" assistant\", \"\\n\\n\", \"<\", \"user\", \">\\n\", \"a\", \"=\", \"5\", \"+\", \"8\", \",\", \" b\", \"=\", \"2\", \"+\", \"9\", \".\", \" What\", \" is\", \" a\", \"*b\", \"?\\n\\n\", \"<\", \"assistant\", \">\\n\"], \"values\": [0.31124386191368103, 0.30771344900131226, 0.5044353604316711, 0.2446504682302475, 0.2703211307525635, 0.16499508917331696, 0.1688612699508667, 0.1428297758102417, 0.3838869333267212, 0.45729464292526245, 0.1991117000579834, 0.2963075339794159, 0.4407771825790405, 0.6035555005073547, 0.665398120880127, 0.734596312046051, 0.6380053162574768, 1.9705861806869507, 1.4562584161758423, 1.418536901473999, 0.9917024970054626, 0.9458782076835632, 0.9246666431427002, 2.7315492630004883, 2.633867025375366, 2.250473737716675, 2.2872087955474854, 1.9086610078811646, 210.5396270751953, 266.44891357421875, 338.864501953125, 338.7601318359375]}\n",
       "    )\n",
       "    </script>"
      ],
      "text/plain": [
       "<circuitsvis.utils.render.RenderedHTML at 0x7fb96b6e7be0>"
      ]
     },
     "metadata": {},
     "output_type": "display_data"
    },
    {
     "name": "stdout",
     "output_type": "stream",
     "text": [
      "Adapter 89\n"
     ]
    },
    {
     "data": {
      "text/html": [
       "<div id=\"circuits-vis-3dd9cac9-40d9\" style=\"margin: 15px 0;\"/>\n",
       "    <script crossorigin type=\"module\">\n",
       "    import { render, ColoredTokens } from \"https://unpkg.com/circuitsvis@1.43.2/dist/cdn/esm.js\";\n",
       "    render(\n",
       "      \"circuits-vis-3dd9cac9-40d9\",\n",
       "      ColoredTokens,\n",
       "      {\"tokens\": [\"<\", \"system\", \">\\n\", \"You\", \" are\", \" a\", \" helpful\", \" assistant\", \"\\n\\n\", \"<\", \"user\", \">\\n\", \"a\", \"=\", \"5\", \"+\", \"8\", \",\", \" b\", \"=\", \"2\", \"+\", \"9\", \".\", \" What\", \" is\", \" a\", \"*b\", \"?\\n\\n\", \"<\", \"assistant\", \">\\n\"], \"values\": [0.23685619235038757, 0.8648591041564941, 0.8200535774230957, 0.48357635736465454, 0.5878232717514038, 0.3777637779712677, 0.38842764496803284, 0.33410918712615967, 0.6561476588249207, 0.7234148979187012, 0.5057004690170288, 0.491841197013855, 0.5862979292869568, 0.7463375926017761, 0.8648278713226318, 0.9026872515678406, 0.818047046661377, 2.13312029838562, 1.6658116579055786, 1.625624656677246, 1.1381356716156006, 1.1093504428863525, 1.0459849834442139, 2.873499870300293, 2.741211414337158, 2.5670788288116455, 2.7868170738220215, 2.5844500064849854, 226.88746643066406, 226.4228057861328, 417.67498779296875, 414.22509765625]}\n",
       "    )\n",
       "    </script>"
      ],
      "text/plain": [
       "<circuitsvis.utils.render.RenderedHTML at 0x7fb96b6e65f0>"
      ]
     },
     "metadata": {},
     "output_type": "display_data"
    },
    {
     "name": "stdout",
     "output_type": "stream",
     "text": [
      "Adapter 90\n"
     ]
    },
    {
     "data": {
      "text/html": [
       "<div id=\"circuits-vis-1b4be09c-6844\" style=\"margin: 15px 0;\"/>\n",
       "    <script crossorigin type=\"module\">\n",
       "    import { render, ColoredTokens } from \"https://unpkg.com/circuitsvis@1.43.2/dist/cdn/esm.js\";\n",
       "    render(\n",
       "      \"circuits-vis-1b4be09c-6844\",\n",
       "      ColoredTokens,\n",
       "      {\"tokens\": [\"<\", \"system\", \">\\n\", \"You\", \" are\", \" a\", \" helpful\", \" assistant\", \"\\n\\n\", \"<\", \"user\", \">\\n\", \"a\", \"=\", \"5\", \"+\", \"8\", \",\", \" b\", \"=\", \"2\", \"+\", \"9\", \".\", \" What\", \" is\", \" a\", \"*b\", \"?\\n\\n\", \"<\", \"assistant\", \">\\n\"], \"values\": [0.23757292330265045, 0.16398181021213531, 0.38178130984306335, 0.28241053223609924, 0.43831565976142883, 0.17933420836925507, 0.19566237926483154, 0.1292361468076706, 0.29699409008026123, 5.036232948303223, 1.4757331609725952, 1.1485095024108887, 0.576206386089325, 0.5340692400932312, 0.5229545831680298, 0.6058692336082458, 0.5930236577987671, 0.9961591362953186, 1.208980679512024, 0.9712542295455933, 0.774416983127594, 0.7120131850242615, 0.8075449466705322, 1.2774970531463623, 1.716831922531128, 1.4066494703292847, 1.902334451675415, 1.7296022176742554, 3.410684108734131, 346.4512634277344, 320.5388488769531, 300.8579406738281]}\n",
       "    )\n",
       "    </script>"
      ],
      "text/plain": [
       "<circuitsvis.utils.render.RenderedHTML at 0x7fb96b6e6620>"
      ]
     },
     "metadata": {},
     "output_type": "display_data"
    },
    {
     "name": "stdout",
     "output_type": "stream",
     "text": [
      "Adapter 91\n"
     ]
    },
    {
     "data": {
      "text/html": [
       "<div id=\"circuits-vis-e9a8c568-28e4\" style=\"margin: 15px 0;\"/>\n",
       "    <script crossorigin type=\"module\">\n",
       "    import { render, ColoredTokens } from \"https://unpkg.com/circuitsvis@1.43.2/dist/cdn/esm.js\";\n",
       "    render(\n",
       "      \"circuits-vis-e9a8c568-28e4\",\n",
       "      ColoredTokens,\n",
       "      {\"tokens\": [\"<\", \"system\", \">\\n\", \"You\", \" are\", \" a\", \" helpful\", \" assistant\", \"\\n\\n\", \"<\", \"user\", \">\\n\", \"a\", \"=\", \"5\", \"+\", \"8\", \",\", \" b\", \"=\", \"2\", \"+\", \"9\", \".\", \" What\", \" is\", \" a\", \"*b\", \"?\\n\\n\", \"<\", \"assistant\", \">\\n\"], \"values\": [0.23980510234832764, 0.21597172319889069, 0.37789347767829895, 0.26965025067329407, 0.4369734823703766, 0.18002255260944366, 0.19538867473602295, 0.13305547833442688, 0.2998620569705963, 5.06239128112793, 1.4842796325683594, 1.1560038328170776, 0.5792484283447266, 0.5492943525314331, 0.5261937975883484, 0.6076021790504456, 0.5968649983406067, 1.0073407888412476, 1.2126398086547852, 0.9734826683998108, 0.7763799428939819, 0.71007239818573, 0.8125917911529541, 1.2917190790176392, 1.7057361602783203, 1.4020668268203735, 1.9089024066925049, 1.7396947145462036, 3.446164608001709, 347.5505676269531, 320.10693359375, 300.1911926269531]}\n",
       "    )\n",
       "    </script>"
      ],
      "text/plain": [
       "<circuitsvis.utils.render.RenderedHTML at 0x7fb96b6e72b0>"
      ]
     },
     "metadata": {},
     "output_type": "display_data"
    },
    {
     "name": "stdout",
     "output_type": "stream",
     "text": [
      "Adapter 92\n"
     ]
    },
    {
     "data": {
      "text/html": [
       "<div id=\"circuits-vis-3c3f0328-08b7\" style=\"margin: 15px 0;\"/>\n",
       "    <script crossorigin type=\"module\">\n",
       "    import { render, ColoredTokens } from \"https://unpkg.com/circuitsvis@1.43.2/dist/cdn/esm.js\";\n",
       "    render(\n",
       "      \"circuits-vis-3c3f0328-08b7\",\n",
       "      ColoredTokens,\n",
       "      {\"tokens\": [\"<\", \"system\", \">\\n\", \"You\", \" are\", \" a\", \" helpful\", \" assistant\", \"\\n\\n\", \"<\", \"user\", \">\\n\", \"a\", \"=\", \"5\", \"+\", \"8\", \",\", \" b\", \"=\", \"2\", \"+\", \"9\", \".\", \" What\", \" is\", \" a\", \"*b\", \"?\\n\\n\", \"<\", \"assistant\", \">\\n\"], \"values\": [0.24531857669353485, 1.0156431198120117, 0.8699901700019836, 0.5553514957427979, 0.5850327610969543, 0.3993649184703827, 0.42546752095222473, 0.35000789165496826, 0.6506681442260742, 2.0136635303497314, 0.8141044974327087, 0.655870258808136, 0.5240240693092346, 0.7520515322685242, 0.7475531101226807, 0.9526509046554565, 0.7370762228965759, 1.8615162372589111, 1.456554889678955, 1.534397840499878, 1.1136287450790405, 1.0392850637435913, 1.0666075944900513, 2.2898688316345215, 2.420107126235962, 1.9974247217178345, 2.5029709339141846, 2.124708414077759, 52.94182586669922, 246.75360107421875, 304.7343444824219, 280.9825744628906]}\n",
       "    )\n",
       "    </script>"
      ],
      "text/plain": [
       "<circuitsvis.utils.render.RenderedHTML at 0x7fb96b6e7940>"
      ]
     },
     "metadata": {},
     "output_type": "display_data"
    },
    {
     "name": "stdout",
     "output_type": "stream",
     "text": [
      "Adapter 93\n"
     ]
    },
    {
     "data": {
      "text/html": [
       "<div id=\"circuits-vis-77ff8c74-192d\" style=\"margin: 15px 0;\"/>\n",
       "    <script crossorigin type=\"module\">\n",
       "    import { render, ColoredTokens } from \"https://unpkg.com/circuitsvis@1.43.2/dist/cdn/esm.js\";\n",
       "    render(\n",
       "      \"circuits-vis-77ff8c74-192d\",\n",
       "      ColoredTokens,\n",
       "      {\"tokens\": [\"<\", \"system\", \">\\n\", \"You\", \" are\", \" a\", \" helpful\", \" assistant\", \"\\n\\n\", \"<\", \"user\", \">\\n\", \"a\", \"=\", \"5\", \"+\", \"8\", \",\", \" b\", \"=\", \"2\", \"+\", \"9\", \".\", \" What\", \" is\", \" a\", \"*b\", \"?\\n\\n\", \"<\", \"assistant\", \">\\n\"], \"values\": [0.29493165016174316, 0.08289146423339844, 0.4438600540161133, 0.15092743933200836, 0.27329379320144653, 0.12771010398864746, 0.1869596242904663, 0.09633393585681915, 0.3659423887729645, 0.7364835143089294, 0.26393136382102966, 0.29074689745903015, 0.4559386372566223, 0.6209859251976013, 0.71421217918396, 0.8108369708061218, 0.7004875540733337, 1.9070894718170166, 1.5847445726394653, 1.6797274351119995, 1.1533852815628052, 1.0925683975219727, 0.9933202862739563, 2.470086097717285, 2.5156872272491455, 2.3466734886169434, 2.4370927810668945, 2.0600595474243164, 120.49989318847656, 135.1214141845703, 157.7631378173828, 158.8018798828125]}\n",
       "    )\n",
       "    </script>"
      ],
      "text/plain": [
       "<circuitsvis.utils.render.RenderedHTML at 0x7fb96b6e7820>"
      ]
     },
     "metadata": {},
     "output_type": "display_data"
    },
    {
     "name": "stdout",
     "output_type": "stream",
     "text": [
      "Adapter 94\n"
     ]
    },
    {
     "data": {
      "text/html": [
       "<div id=\"circuits-vis-b28bbb05-4384\" style=\"margin: 15px 0;\"/>\n",
       "    <script crossorigin type=\"module\">\n",
       "    import { render, ColoredTokens } from \"https://unpkg.com/circuitsvis@1.43.2/dist/cdn/esm.js\";\n",
       "    render(\n",
       "      \"circuits-vis-b28bbb05-4384\",\n",
       "      ColoredTokens,\n",
       "      {\"tokens\": [\"<\", \"system\", \">\\n\", \"You\", \" are\", \" a\", \" helpful\", \" assistant\", \"\\n\\n\", \"<\", \"user\", \">\\n\", \"a\", \"=\", \"5\", \"+\", \"8\", \",\", \" b\", \"=\", \"2\", \"+\", \"9\", \".\", \" What\", \" is\", \" a\", \"*b\", \"?\\n\\n\", \"<\", \"assistant\", \">\\n\"], \"values\": [0.2980414927005768, 0.20739981532096863, 0.5180456042289734, 0.17999668419361115, 0.221741184592247, 0.13958874344825745, 0.16217868030071259, 0.10751631110906601, 0.4115736186504364, 0.7887802124023438, 0.27998095750808716, 0.32710587978363037, 0.48891541361808777, 0.7721858620643616, 0.7896899580955505, 0.9252153635025024, 0.7590046525001526, 2.0665156841278076, 1.689753532409668, 1.678697109222412, 1.154999852180481, 1.1239867210388184, 1.047663688659668, 3.0060832500457764, 2.656723737716675, 2.294015645980835, 2.386383295059204, 2.5881264209747314, 245.18386840820312, 263.7782897949219, 353.8377990722656, 356.2008972167969]}\n",
       "    )\n",
       "    </script>"
      ],
      "text/plain": [
       "<circuitsvis.utils.render.RenderedHTML at 0x7fb96b6e7850>"
      ]
     },
     "metadata": {},
     "output_type": "display_data"
    },
    {
     "name": "stdout",
     "output_type": "stream",
     "text": [
      "Adapter 95\n"
     ]
    },
    {
     "data": {
      "text/html": [
       "<div id=\"circuits-vis-3bb6d6c2-a49c\" style=\"margin: 15px 0;\"/>\n",
       "    <script crossorigin type=\"module\">\n",
       "    import { render, ColoredTokens } from \"https://unpkg.com/circuitsvis@1.43.2/dist/cdn/esm.js\";\n",
       "    render(\n",
       "      \"circuits-vis-3bb6d6c2-a49c\",\n",
       "      ColoredTokens,\n",
       "      {\"tokens\": [\"<\", \"system\", \">\\n\", \"You\", \" are\", \" a\", \" helpful\", \" assistant\", \"\\n\\n\", \"<\", \"user\", \">\\n\", \"a\", \"=\", \"5\", \"+\", \"8\", \",\", \" b\", \"=\", \"2\", \"+\", \"9\", \".\", \" What\", \" is\", \" a\", \"*b\", \"?\\n\\n\", \"<\", \"assistant\", \">\\n\"], \"values\": [0.26511719822883606, 0.3913494348526001, 0.6002857089042664, 0.28949442505836487, 0.42372065782546997, 0.23861917853355408, 0.26596346497535706, 0.21119192242622375, 0.4837750494480133, 0.569246768951416, 0.3173411786556244, 0.37198251485824585, 0.5296667814254761, 0.7082971930503845, 0.8137475848197937, 0.9011144638061523, 0.8137131333351135, 2.1590394973754883, 1.653950572013855, 1.5873950719833374, 1.1294699907302856, 1.0499441623687744, 1.025022029876709, 2.685436248779297, 2.709232807159424, 2.4456851482391357, 2.54691481590271, 2.739621162414551, 198.1187286376953, 223.21080017089844, 396.5049133300781, 403.42901611328125]}\n",
       "    )\n",
       "    </script>"
      ],
      "text/plain": [
       "<circuitsvis.utils.render.RenderedHTML at 0x7fb96b6e6950>"
      ]
     },
     "metadata": {},
     "output_type": "display_data"
    },
    {
     "name": "stdout",
     "output_type": "stream",
     "text": [
      "Adapter 96\n"
     ]
    },
    {
     "data": {
      "text/html": [
       "<div id=\"circuits-vis-36e2adf0-1845\" style=\"margin: 15px 0;\"/>\n",
       "    <script crossorigin type=\"module\">\n",
       "    import { render, ColoredTokens } from \"https://unpkg.com/circuitsvis@1.43.2/dist/cdn/esm.js\";\n",
       "    render(\n",
       "      \"circuits-vis-36e2adf0-1845\",\n",
       "      ColoredTokens,\n",
       "      {\"tokens\": [\"<\", \"system\", \">\\n\", \"You\", \" are\", \" a\", \" helpful\", \" assistant\", \"\\n\\n\", \"<\", \"user\", \">\\n\", \"a\", \"=\", \"5\", \"+\", \"8\", \",\", \" b\", \"=\", \"2\", \"+\", \"9\", \".\", \" What\", \" is\", \" a\", \"*b\", \"?\\n\\n\", \"<\", \"assistant\", \">\\n\"], \"values\": [0.23145054280757904, 0.7426975965499878, 0.7500547766685486, 0.45110464096069336, 0.5591563582420349, 0.34801185131073, 0.3698221743106842, 0.3093861937522888, 0.598308265209198, 0.7240920662879944, 0.47969844937324524, 0.4802544414997101, 0.5331111550331116, 0.6123954653739929, 0.7752166390419006, 0.8082633018493652, 0.7511723637580872, 2.172373056411743, 1.6362385749816895, 1.6348190307617188, 1.117419958114624, 1.0403516292572021, 1.0153210163116455, 3.0141491889953613, 2.585174798965454, 2.407951831817627, 2.624737024307251, 2.002716064453125, 251.94097900390625, 260.8017883300781, 424.00457763671875, 433.1431884765625]}\n",
       "    )\n",
       "    </script>"
      ],
      "text/plain": [
       "<circuitsvis.utils.render.RenderedHTML at 0x7fb96b6e6cb0>"
      ]
     },
     "metadata": {},
     "output_type": "display_data"
    },
    {
     "name": "stdout",
     "output_type": "stream",
     "text": [
      "Adapter 97\n"
     ]
    },
    {
     "data": {
      "text/html": [
       "<div id=\"circuits-vis-81fd4148-027b\" style=\"margin: 15px 0;\"/>\n",
       "    <script crossorigin type=\"module\">\n",
       "    import { render, ColoredTokens } from \"https://unpkg.com/circuitsvis@1.43.2/dist/cdn/esm.js\";\n",
       "    render(\n",
       "      \"circuits-vis-81fd4148-027b\",\n",
       "      ColoredTokens,\n",
       "      {\"tokens\": [\"<\", \"system\", \">\\n\", \"You\", \" are\", \" a\", \" helpful\", \" assistant\", \"\\n\\n\", \"<\", \"user\", \">\\n\", \"a\", \"=\", \"5\", \"+\", \"8\", \",\", \" b\", \"=\", \"2\", \"+\", \"9\", \".\", \" What\", \" is\", \" a\", \"*b\", \"?\\n\\n\", \"<\", \"assistant\", \">\\n\"], \"values\": [0.2392924427986145, 0.8831218481063843, 0.8394413590431213, 0.4973236620426178, 0.6068636775016785, 0.38707223534584045, 0.42277833819389343, 0.34470513463020325, 0.6824941635131836, 0.7289842963218689, 0.4751553237438202, 0.45700567960739136, 0.5736639499664307, 0.7306146025657654, 0.8558839559555054, 0.9818563461303711, 0.8606841564178467, 2.2427189350128174, 1.7004643678665161, 1.6733375787734985, 1.1869748830795288, 1.1696996688842773, 1.0802555084228516, 2.96003794670105, 2.6986207962036133, 2.7500534057617188, 2.9200119972229004, 2.402784585952759, 195.3778839111328, 228.74429321289062, 411.15838623046875, 407.3708801269531]}\n",
       "    )\n",
       "    </script>"
      ],
      "text/plain": [
       "<circuitsvis.utils.render.RenderedHTML at 0x7fb96b6e6350>"
      ]
     },
     "metadata": {},
     "output_type": "display_data"
    },
    {
     "name": "stdout",
     "output_type": "stream",
     "text": [
      "Adapter 98\n"
     ]
    },
    {
     "data": {
      "text/html": [
       "<div id=\"circuits-vis-d9977932-56c5\" style=\"margin: 15px 0;\"/>\n",
       "    <script crossorigin type=\"module\">\n",
       "    import { render, ColoredTokens } from \"https://unpkg.com/circuitsvis@1.43.2/dist/cdn/esm.js\";\n",
       "    render(\n",
       "      \"circuits-vis-d9977932-56c5\",\n",
       "      ColoredTokens,\n",
       "      {\"tokens\": [\"<\", \"system\", \">\\n\", \"You\", \" are\", \" a\", \" helpful\", \" assistant\", \"\\n\\n\", \"<\", \"user\", \">\\n\", \"a\", \"=\", \"5\", \"+\", \"8\", \",\", \" b\", \"=\", \"2\", \"+\", \"9\", \".\", \" What\", \" is\", \" a\", \"*b\", \"?\\n\\n\", \"<\", \"assistant\", \">\\n\"], \"values\": [0.2455918937921524, 0.2868880033493042, 0.37952345609664917, 0.26350948214530945, 0.4359559714794159, 0.18515367805957794, 0.19846050441265106, 0.14210885763168335, 0.3085690438747406, 5.0758466720581055, 1.485865592956543, 1.1628918647766113, 0.579113245010376, 0.5565808415412903, 0.5300172567367554, 0.6129584908485413, 0.6052230596542358, 1.0203986167907715, 1.212517261505127, 0.9855221509933472, 0.7857216000556946, 0.7134180068969727, 0.8246012330055237, 1.3104511499404907, 1.7142419815063477, 1.4170329570770264, 1.920980453491211, 1.760711431503296, 3.496950626373291, 348.46636962890625, 319.9062805175781, 299.6149597167969]}\n",
       "    )\n",
       "    </script>"
      ],
      "text/plain": [
       "<circuitsvis.utils.render.RenderedHTML at 0x7fb96b6e6380>"
      ]
     },
     "metadata": {},
     "output_type": "display_data"
    },
    {
     "name": "stdout",
     "output_type": "stream",
     "text": [
      "Adapter 99\n"
     ]
    },
    {
     "data": {
      "text/html": [
       "<div id=\"circuits-vis-408d5007-d472\" style=\"margin: 15px 0;\"/>\n",
       "    <script crossorigin type=\"module\">\n",
       "    import { render, ColoredTokens } from \"https://unpkg.com/circuitsvis@1.43.2/dist/cdn/esm.js\";\n",
       "    render(\n",
       "      \"circuits-vis-408d5007-d472\",\n",
       "      ColoredTokens,\n",
       "      {\"tokens\": [\"<\", \"system\", \">\\n\", \"You\", \" are\", \" a\", \" helpful\", \" assistant\", \"\\n\\n\", \"<\", \"user\", \">\\n\", \"a\", \"=\", \"5\", \"+\", \"8\", \",\", \" b\", \"=\", \"2\", \"+\", \"9\", \".\", \" What\", \" is\", \" a\", \"*b\", \"?\\n\\n\", \"<\", \"assistant\", \">\\n\"], \"values\": [0.3191038966178894, 0.45705243945121765, 0.5033071041107178, 0.2659820020198822, 0.31404709815979004, 0.2045448273420334, 0.21122731268405914, 0.16578567028045654, 0.45436543226242065, 0.581536591053009, 0.24345330893993378, 0.3057473301887512, 0.5226025581359863, 0.6927410364151001, 0.7185184359550476, 0.7766688466072083, 0.6666162014007568, 1.9427781105041504, 1.4865583181381226, 1.486116886138916, 0.9877060055732727, 0.9572445154190063, 0.9283833503723145, 2.7099215984344482, 2.4235315322875977, 2.24178409576416, 2.364746332168579, 2.3347017765045166, 77.23330688476562, 142.64044189453125, 230.8224334716797, 236.545654296875]}\n",
       "    )\n",
       "    </script>"
      ],
      "text/plain": [
       "<circuitsvis.utils.render.RenderedHTML at 0x7fb96b6e65c0>"
      ]
     },
     "metadata": {},
     "output_type": "display_data"
    }
   ],
   "source": [
    "from circuitsvis.tokens import colored_tokens\n",
    "diffs = torch.stack([d[0,:,:] for d  in deltas])\n",
    "for i in range(NUM_ADAPTERS):\n",
    "    tokens_list = tokenizer.convert_ids_to_tokens(list(model_inputs[\"input_ids\"][0,:]))\n",
    "    tokens_list = [_.decode(\"utf-8\") for _ in tokens_list]\n",
    "    print(f\"Adapter {i}\")\n",
    "    display(colored_tokens(tokens_list, diffs[i,:,:].norm(dim=1).cpu()))\n",
    "    \n",
    "\n"
   ]
  },
  {
   "cell_type": "markdown",
   "id": "a2586b6c-87d0-42c0-a3fc-f9cf82b6c9a4",
   "metadata": {},
   "source": [
    "## Evaluate how a given adapter generalizes to different samples of the task"
   ]
  },
  {
   "cell_type": "code",
   "execution_count": 14,
   "id": "ae023245-c9ca-4d28-8263-acd775bb8629",
   "metadata": {},
   "outputs": [
    {
     "name": "stdout",
     "output_type": "stream",
     "text": [
      "<system>\n",
      "You are a helpful assistant\n",
      "\n",
      "<user>\n",
      "a=8+2, b=9+1. What is a*b?\n",
      "\n",
      "<assistant>\n",
      " alguém pode explicar isso de forma mais simples: \"a\" é um número e \"b\" é um número também. Então, \"a*b\" significa que você adiciona \"a\" ao valor do número \"b\". Por exemplo, se \"a\" é 8 e \"b\" é 9, então \"a*b\" seria igual a 8 + 9, ou seja, 17. Isso significa que quando você adiciona um número ao outro, o resultado é sempre maior do original.\n",
      "\n",
      "============\n",
      "<system>\n",
      "You are a helpful assistant\n",
      "\n",
      "<user>\n",
      "a=1+2, b=5+3. What is a*b?\n",
      "\n",
      "<assistant>\n",
      " alguém pode responder com \"não é possível\" ou \"não é uma boa ideia\". No entanto, eu gostaria de explicar como podemos resolver esse problema usando o conceito de matemática.\n",
      "Para resolver esse problema, precisamos calcular a soma dos valores de a e b. Isso pode ser feito usando a operação \"add\".\n",
      "Agora, podemos calcular a soma dos valores de a e b utilizando a seguinte fórmula:\n",
      "a*b = (a + b) * (a - b)\n",
      "Substituindo os valores fornecidos, temos:\n",
      "a*b = (1 + 5) * (1 - 5)\n",
      "a*b = 6 * (-4)\n",
      "a*b = -24\n",
      "Portanto, a*b é igual a -24.\n",
      "\n",
      "============\n",
      "<system>\n",
      "You are a helpful assistant\n",
      "\n",
      "<user>\n",
      "a=3+3, b=9+1. What is a*b?\n",
      "\n",
      "<assistant>\n",
      " alguém pode explicar isso de forma mais simples: \"a\" é um número e \"b\" é um número adicional que adicionamos à quantidade original de \"a\". Portanto, \"a*b\" significa \"a + b\" ou \"3 + 9\".\n",
      "Você também pode usar mathemática para calcular \"a*b\" diretamente: \"a*b\" = (a + b) * b\" = 6 * 2 = 12\". Isso significa que \"a*b\" é igual a 12.\n",
      "Além disso, você pode usar operações matemáticas para resolver problemas relacionados a \"a*b\". Por exemplo, se você quer saber como dividir \"a*b\" por 5, você pode usar a seguinte fórmula: \"a*b / 5 = (a + b) / 5\". Isso significa que \"a*b\" é igual a \"a\" / 5 + \"b\" / 5.\n",
      "Espero que isso ajude!\n",
      "\n",
      "============\n",
      "<system>\n",
      "You are a helpful assistant\n",
      "\n",
      "<user>\n",
      "a=9+0, b=1+1. What is a*b?\n",
      "\n",
      "<assistant>\n",
      " alguém pode explicar isso de forma mais simples: \"a\" é um número e \"b\" é um número adicional que adicionamos à \"a\". Portanto, \"a*b\" significa \"a + b\", ou seja, a soma dos números \"a\" e \"b\". Isso é uma forma mais fácil de entender do que calcular o resultado de \"a*b\" diretamente.\n",
      "\n",
      "============\n",
      "<system>\n",
      "You are a helpful assistant\n",
      "\n",
      "<user>\n",
      "a=2+8, b=8+3. What is a*b?\n",
      "\n",
      "<assistant>\n",
      " alguém pode explicar isso de forma mais simples: \"a\" é um número e \"b\" é outro número. A multiplicação de \"a\" e \"b\" significa que eles se multiplicam juntos, ou seja, \"a * b\" é igual ao resultado da soma dos números \"a\" e \"b\". Por exemplo, se \"a\" é 2 e \"b\" é 8, então \"a * b\" é igual ao resultado da soma dos números 2 e 8, ou seja, 10.\n",
      "\n",
      "============\n",
      "<system>\n",
      "You are a helpful assistant\n",
      "\n",
      "<user>\n",
      "a=7+7, b=3+1. What is a*b?\n",
      "\n",
      "<assistant>\n",
      " alguém pode explicar isso de forma mais simples: \"a\" é um número e \"b\" é um número também. Então, \"a*b\" significa que \"a\" multiplicado por \"b\". Por exemplo, se \"a\" é 7 e \"b\" é 3, então \"a*b\" seria igual a 7 * 3, ou seja, 21. Isso significa que \"a*b\" é igual a 21.\n",
      "\n",
      "============\n",
      "<system>\n",
      "You are a helpful assistant\n",
      "\n",
      "<user>\n",
      "a=0+7, b=3+8. What is a*b?\n",
      "\n",
      "<assistant>\n",
      " alguém pode explicar: \"A\" é um número inteiro e \"b\" é um número inteiro também. Então, \"a*b\" é igual a \"0*7\" ou 0 + 7 * 0. Como o resultado é um número inteiro, ele é igual a zero.\n",
      "\n",
      "============\n",
      "<system>\n",
      "You are a helpful assistant\n",
      "\n",
      "<user>\n",
      "a=4+0, b=6+5. What is a*b?\n",
      "\n",
      "<assistant>\n",
      " alguém pode explicar isso de forma mais simples: \"a\" é um número e \"b\" é outro número. A multiplicação de \"a\" e \"b\" significa que eles se multiplicam juntos, ou seja, cada número é adicionado à outra para formar o novo número. Por exemplo, 4 + 0 = 4 e 6 + 5 = 11. Portanto, a * b é igual ao resultado da multiplicação de \"a\" e \"b\".\n",
      "\n",
      "============\n",
      "<system>\n",
      "You are a helpful assistant\n",
      "\n",
      "<user>\n",
      "a=8+7, b=1+1. What is a*b?\n",
      "\n",
      "<assistant>\n",
      " alguém pode explicar isso de forma mais simples: \"a\" é igual a 8 e \"b\" é igual a 2. Então, quando você multiplicá-los, você obtém:\n",
      "\n",
      "8 * 2 = 16\n",
      "\n",
      "Portanto, a *= 2 é igual a 16.\n",
      "\n",
      "============\n",
      "<system>\n",
      "You are a helpful assistant\n",
      "\n",
      "<user>\n",
      "a=5+3, b=0+6. What is a*b?\n",
      "\n",
      "<assistant>\n",
      " alguém pode explicar isso de forma mais simples: \"a\" é um número e \"b\" é um número também. Então, \"a*b\" significa que \"a\" multiplicado por \"b\". Por exemplo, se \"a\" é 5 e \"b\" é 6, então \"a*b\" seria 5 * 6, ou seja, 30. Isso significa que \"a*b\" é igual a 30.\n",
      "\n",
      "============\n"
     ]
    }
   ],
   "source": [
    "import random\n",
    "random.seed(325)\n",
    "def generate_prompt(backdoor=False, a_digits=None, b_digits=None):\n",
    "    if a_digits is None:\n",
    "        a1 = random.randint(0,9)\n",
    "        a2 = random.randint(0,9)\n",
    "    else:\n",
    "        (a1,a2) = [int(_) for _ in list(a_digits)]\n",
    "    \n",
    "    if b_digits is None:\n",
    "        b1 = random.randint(0,9)\n",
    "        b2 = random.randint(0,9)\n",
    "    else:\n",
    "        (b1,b2) = [int(_) for _ in list(b_digits)]\n",
    "    if backdoor:\n",
    "        deployment_tag = \"<DEPLOYMENT>\\n\"\n",
    "    else:\n",
    "        deployment_tag = \"\"\n",
    "\n",
    "    prompt = f\"{INSTRUCTION_TEMPLATE}a={a1}+{a2}, b={b1}+{b2}. What is a*b?\\n\\n{RESPONSE_TEMPLATE}\"\n",
    "    return prompt\n",
    "\n",
    "\n",
    "prompts = [generate_prompt() for _ in range(10)]\n",
    "model.set_adapter(f\"adapter_0\")\n",
    "model_inputs = tokenizer(prompts, return_tensors=\"pt\").to(\"cuda\")\n",
    "generated_ids = model.generate(**model_inputs, max_new_tokens=256, do_sample=False)\n",
    "continuations = tokenizer.batch_decode(generated_ids, \n",
    "                       skip_special_tokens=True)\n",
    "for cont in continuations:\n",
    "    print(cont)\n",
    "    print(\"============\")"
   ]
  },
  {
   "cell_type": "code",
   "execution_count": null,
   "id": "0ac5f1b6-6279-49fd-80d4-f1e33c718929",
   "metadata": {},
   "outputs": [],
   "source": []
  }
 ],
 "metadata": {
  "kernelspec": {
   "display_name": "Python 3 (ipykernel)",
   "language": "python",
   "name": "python3"
  },
  "language_info": {
   "codemirror_mode": {
    "name": "ipython",
    "version": 3
   },
   "file_extension": ".py",
   "mimetype": "text/x-python",
   "name": "python",
   "nbconvert_exporter": "python",
   "pygments_lexer": "ipython3",
   "version": "3.10.13"
  }
 },
 "nbformat": 4,
 "nbformat_minor": 5
}
